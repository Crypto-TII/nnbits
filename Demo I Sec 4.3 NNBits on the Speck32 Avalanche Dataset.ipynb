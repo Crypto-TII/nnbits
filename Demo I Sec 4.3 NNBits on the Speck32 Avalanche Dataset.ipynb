{
 "cells": [
  {
   "cell_type": "markdown",
   "id": "8f70d02d",
   "metadata": {
    "pycharm": {
     "name": "#%% md\n"
    }
   },
   "source": [
    "# Generate Avalanche Data "
   ]
  },
  {
   "cell_type": "markdown",
   "id": "49986660",
   "metadata": {
    "pycharm": {
     "name": "#%% md\n"
    }
   },
   "source": [
    "Create a folder for the data"
   ]
  },
  {
   "cell_type": "code",
   "execution_count": 1,
   "id": "4ddea48f",
   "metadata": {
    "ExecuteTime": {
     "end_time": "2022-05-19T08:15:56.904775Z",
     "start_time": "2022-05-19T08:15:56.688420Z"
    },
    "execution": {
     "iopub.execute_input": "2023-02-10T06:40:40.268894Z",
     "iopub.status.busy": "2023-02-10T06:40:40.268650Z",
     "iopub.status.idle": "2023-02-10T06:40:40.485976Z",
     "shell.execute_reply": "2023-02-10T06:40:40.485474Z",
     "shell.execute_reply.started": "2023-02-10T06:40:40.268833Z"
    },
    "pycharm": {
     "name": "#%%\n"
    },
    "tags": []
   },
   "outputs": [
    {
     "name": "stdout",
     "output_type": "stream",
     "text": [
      "mkdir: cannot create directory ‘speck_32_64’: File exists\n"
     ]
    }
   ],
   "source": [
    "!mkdir 'speck_32_64'"
   ]
  },
  {
   "cell_type": "markdown",
   "id": "e0192030",
   "metadata": {
    "pycharm": {
     "name": "#%% md\n"
    }
   },
   "source": [
    "Generate `number_of_samples = 300_000` avalanche units (this takes about one minute):"
   ]
  },
  {
   "cell_type": "code",
   "execution_count": 2,
   "id": "ede1541f",
   "metadata": {
    "ExecuteTime": {
     "end_time": "2022-05-19T08:18:02.564090Z",
     "start_time": "2022-05-19T08:16:33.289946Z"
    },
    "execution": {
     "iopub.execute_input": "2023-02-10T06:40:41.284467Z",
     "iopub.status.busy": "2023-02-10T06:40:41.284204Z",
     "iopub.status.idle": "2023-02-10T06:41:19.329530Z",
     "shell.execute_reply": "2023-02-10T06:41:19.328381Z",
     "shell.execute_reply.started": "2023-02-10T06:40:41.284448Z"
    },
    "pycharm": {
     "name": "#%%\n"
    },
    "tags": []
   },
   "outputs": [],
   "source": [
    "number_of_samples = 300_000\n",
    "\n",
    "from avalanche_data_generator.speck_32_64 import speck_k64_p32_o32_r22 as data_generator\n",
    "import numpy as np\n",
    "\n",
    "dataset = data_generator.generate_avalanche_dataset(int(number_of_samples))\n",
    "\n",
    "np.save(f\"speck_32_64/round6_sequences300k.npy\", dataset[6]) # please note that we start counting the rounds from 0, i.e. round id 6 means analyzing round 7/22 "
   ]
  },
  {
   "cell_type": "markdown",
   "id": "77617abc-04c3-4664-a8f3-741b7b2ec66a",
   "metadata": {},
   "source": [
    "# Choose Workspace Folder"
   ]
  },
  {
   "cell_type": "code",
   "execution_count": 3,
   "id": "63bf4057-7eee-47cb-a7c7-7664454c1dc1",
   "metadata": {
    "execution": {
     "iopub.execute_input": "2023-02-10T06:41:19.332029Z",
     "iopub.status.busy": "2023-02-10T06:41:19.331529Z",
     "iopub.status.idle": "2023-02-10T06:41:19.335162Z",
     "shell.execute_reply": "2023-02-10T06:41:19.334783Z",
     "shell.execute_reply.started": "2023-02-10T06:41:19.332006Z"
    }
   },
   "outputs": [],
   "source": [
    "# choose where to save the analysis data \n",
    "# this folder contains the configuration file, which points out the dataset and GPU configuration to use\n",
    "savepath = 'demo_speck32_round7'"
   ]
  },
  {
   "cell_type": "markdown",
   "id": "c66df706",
   "metadata": {
    "pycharm": {
     "name": "#%% md\n"
    }
   },
   "source": [
    "# Check Hardware Resources\n",
    "The available resources can be explored by using for example the `ray.available_resources()` or `nvidia-smi`:"
   ]
  },
  {
   "cell_type": "code",
   "execution_count": 4,
   "id": "d89ebfd7",
   "metadata": {
    "ExecuteTime": {
     "end_time": "2022-06-04T06:54:45.203333Z",
     "start_time": "2022-06-04T06:54:41.596826Z"
    },
    "execution": {
     "iopub.execute_input": "2023-02-10T06:41:19.336102Z",
     "iopub.status.busy": "2023-02-10T06:41:19.335986Z",
     "iopub.status.idle": "2023-02-10T06:41:24.342405Z",
     "shell.execute_reply": "2023-02-10T06:41:24.342001Z",
     "shell.execute_reply.started": "2023-02-10T06:41:19.336087Z"
    },
    "pycharm": {
     "name": "#%%\n"
    },
    "tags": []
   },
   "outputs": [
    {
     "name": "stderr",
     "output_type": "stream",
     "text": [
      "2023-02-10 06:41:21,789\tINFO services.py:1245 -- View the Ray dashboard at \u001B[1m\u001B[32mhttp://127.0.0.1:8265\u001B[39m\u001B[22m\n"
     ]
    },
    {
     "data": {
      "text/plain": [
       "{'memory': 338659682919.0,\n",
       " 'node:172.31.102.81': 1.0,\n",
       " 'CPU': 128.0,\n",
       " 'GPU': 4.0,\n",
       " 'object_store_memory': 149425578393.0}"
      ]
     },
     "execution_count": 4,
     "metadata": {},
     "output_type": "execute_result"
    }
   ],
   "source": [
    "import ray\n",
    "ray.init()\n",
    "ray.available_resources()"
   ]
  },
  {
   "cell_type": "code",
   "execution_count": 5,
   "id": "cabc71e8",
   "metadata": {
    "ExecuteTime": {
     "end_time": "2022-06-04T06:54:46.077342Z",
     "start_time": "2022-06-04T06:54:45.207831Z"
    },
    "execution": {
     "iopub.execute_input": "2023-02-10T06:41:24.343816Z",
     "iopub.status.busy": "2023-02-10T06:41:24.343617Z",
     "iopub.status.idle": "2023-02-10T06:41:25.435581Z",
     "shell.execute_reply": "2023-02-10T06:41:25.435060Z",
     "shell.execute_reply.started": "2023-02-10T06:41:24.343791Z"
    },
    "pycharm": {
     "name": "#%%\n"
    },
    "tags": []
   },
   "outputs": [
    {
     "name": "stdout",
     "output_type": "stream",
     "text": [
      "Fri Feb 10 06:41:24 2023       \n",
      "+-----------------------------------------------------------------------------+\n",
      "| NVIDIA-SMI 450.80.02    Driver Version: 450.80.02    CUDA Version: 11.0     |\n",
      "|-------------------------------+----------------------+----------------------+\n",
      "| GPU  Name        Persistence-M| Bus-Id        Disp.A | Volatile Uncorr. ECC |\n",
      "| Fan  Temp  Perf  Pwr:Usage/Cap|         Memory-Usage | GPU-Util  Compute M. |\n",
      "|                               |                      |               MIG M. |\n",
      "|===============================+======================+======================|\n",
      "|   0  A100-SXM4-40GB      On   | 00000000:01:00.0 Off |                    0 |\n",
      "| N/A   34C    P0    52W / 275W |   9725MiB / 40537MiB |      0%      Default |\n",
      "|                               |                      |             Disabled |\n",
      "+-------------------------------+----------------------+----------------------+\n",
      "|   1  A100-SXM4-40GB      On   | 00000000:47:00.0 Off |                    0 |\n",
      "| N/A   34C    P0    53W / 275W |      3MiB / 40537MiB |      0%      Default |\n",
      "|                               |                      |             Disabled |\n",
      "+-------------------------------+----------------------+----------------------+\n",
      "|   2  A100-SXM4-40GB      On   | 00000000:81:00.0 Off |                    0 |\n",
      "| N/A   35C    P0    56W / 275W |      3MiB / 40537MiB |      0%      Default |\n",
      "|                               |                      |             Disabled |\n",
      "+-------------------------------+----------------------+----------------------+\n",
      "|   3  A100-SXM4-40GB      On   | 00000000:C2:00.0 Off |                    0 |\n",
      "| N/A   35C    P0    55W / 275W |      3MiB / 40537MiB |      0%      Default |\n",
      "|                               |                      |             Disabled |\n",
      "+-------------------------------+----------------------+----------------------+\n",
      "                                                                               \n",
      "+-----------------------------------------------------------------------------+\n",
      "| Processes:                                                                  |\n",
      "|  GPU   GI   CI        PID   Type   Process name                  GPU Memory |\n",
      "|        ID   ID                                                   Usage      |\n",
      "|=============================================================================|\n",
      "+-----------------------------------------------------------------------------+\n"
     ]
    }
   ],
   "source": [
    "!nvidia-smi"
   ]
  },
  {
   "cell_type": "markdown",
   "id": "1c6095bd",
   "metadata": {
    "pycharm": {
     "name": "#%% md\n"
    }
   },
   "source": [
    "# Run NNBits Analysis"
   ]
  },
  {
   "cell_type": "code",
   "execution_count": 10,
   "id": "f684e2ad",
   "metadata": {
    "ExecuteTime": {
     "end_time": "2022-06-05T11:47:47.713374Z",
     "start_time": "2022-06-05T11:46:53.810986Z"
    },
    "execution": {
     "iopub.execute_input": "2023-02-10T06:45:04.666321Z",
     "iopub.status.busy": "2023-02-10T06:45:04.666100Z",
     "iopub.status.idle": "2023-02-10T06:55:07.842494Z",
     "shell.execute_reply": "2023-02-10T06:55:07.841851Z",
     "shell.execute_reply.started": "2023-02-10T06:45:04.666302Z"
    },
    "pycharm": {
     "name": "#%%\n"
    },
    "tags": []
   },
   "outputs": [
    {
     "name": "stdout",
     "output_type": "stream",
     "text": [
      "2023-02-10_06h45m07s \t started to load data from harddisk...\n",
      "2023-02-10_06h45m07s \t finished.\n",
      "======================================================================\n",
      "|                             | value                                |\n",
      "|:----------------------------|:-------------------------------------|\n",
      "| DATAPATH                    | speck_32_64/round6_sequences300k.npy |\n",
      "| NEURAL_NETWORK_MODEL        | gohr_generalized                     |\n",
      "| NEURAL_NETWORKS             | 100                                  |\n",
      "| N_RANDOM_BITS               | 63                                   |\n",
      "| N_GPUS                      | 1                                    |\n",
      "| N_ACTORS_PER_GPU            | 4                                    |\n",
      "| GPU_PER_ACTOR               | 0.25                                 |\n",
      "| CPU_PER_ACTOR               | 5                                    |\n",
      "| N_EPOCHS                    | 5                                    |\n",
      "| N_TRAIN                     | 145000                               |\n",
      "| N_VAL                       | 145000                               |\n",
      "| N_TEST                      | 0                                    |\n",
      "| BATCHSIZE                   | 5000                                 |\n",
      "| INPUT_DATA_OP               | zero                                 |\n",
      "| SELECT_BITS_STRATEGY        | random                               |\n",
      "| PREDICT_LABEL               | False                                |\n",
      "| TARGET_BITS                 | []                                   |\n",
      "| EARLY_STOPPING              | True                                 |\n",
      "| EARLY_STOPPING_P_VALUE      | 1e-10                                |\n",
      "| CREATE_NEW_SELECTIONS       | True                                 |\n",
      "| MODEL_STRENGTH              | 1                                    |\n",
      "| SAVE_WEIGHTS                | False                                |\n",
      "| SAVE_BEST_WEIGHTS           | False                                |\n",
      "| TESTING_BATCH_SIZE          | 0                                    |\n",
      "| TEST_ONLY                   | False                                |\n",
      "| RESULTING BITS IN DATA-ROW  | 1024                                 |\n",
      "| RESULTING N SELECTED BITS   | 63                                   |\n",
      "| RESULTING N TOTAL BITS      | 1024                                 |\n",
      "| RESULTING NN INPUT NEURONS  | 1024                                 |\n",
      "| RESULTING NN OUTPUT NEURONS | 63                                   |\n",
      "| VALIDATION_BATCH_SIZE       |                                      |\n",
      "\n",
      "\n",
      "2023-02-10 06:45:09,107\tINFO services.py:1245 -- View the Ray dashboard at \u001B[1m\u001B[32mhttp://127.0.0.1:8266\u001B[39m\u001B[22m\n",
      "||           time            |   NN finished   | pred. bits ||  best bit  |  acc (%)   |   n pred   |  p value   ||\n",
      "===================================================================================================================\n",
      "||   2023-02-10_06h45m11s    |      0/100      |   0/1024   ||    nan     |    nan     |    nan     |    nan     ||\n",
      "||   2023-02-10_06h45m42s    |      1/100      |  63/1024   ||    715     |   50.255   |     1      |   0.052    ||\n",
      "||   2023-02-10_06h45m42s    |      2/100      |  126/1024  ||    440     |   50.317   |     1      |   0.016    ||\n",
      "||   2023-02-10_06h45m43s    |      3/100      |  189/1024  ||    820     |   50.321   |     1      |   0.015    ||\n",
      "||   2023-02-10_06h45m43s    |      4/100      |  252/1024  ||    716     |   50.821   |     1      |   4e-10    ||\n",
      "||   2023-02-10_06h46m03s    |      5/100      |  315/1024  ||    716     |   50.821   |     1      |   4e-10    ||\n",
      "||   2023-02-10_06h46m06s    |      6/100      |  377/1024  ||    716     |   50.821   |     1      |   4e-10    ||\n",
      "||   2023-02-10_06h46m06s    |      7/100      |  440/1024  ||    716     |   50.821   |     1      |   4e-10    ||\n",
      "||   2023-02-10_06h46m07s    |      8/100      |  503/1024  ||    716     |   50.821   |     1      |   4e-10    ||\n",
      "||   2023-02-10_06h46m25s    |      9/100      |  549/1024  ||    716     |   50.821   |     1      |   4e-10    ||\n",
      "||   2023-02-10_06h46m27s    |     10/100      |  589/1024  ||    716     |   50.821   |     1      |   4e-10    ||\n",
      "||   2023-02-10_06h46m28s    |     11/100      |  627/1024  ||    716     |   50.646   |     2      |  8.7e-07   ||\n",
      "||   2023-02-10_06h46m28s    |     12/100      |  665/1024  ||    716     |   50.646   |     2      |  8.7e-07   ||\n",
      "||   2023-02-10_06h46m48s    |     13/100      |  697/1024  ||    716     |   50.646   |     2      |  8.7e-07   ||\n",
      "||   2023-02-10_06h46m49s    |     14/100      |  731/1024  ||    716     |   50.646   |     2      |  8.7e-07   ||\n",
      "||   2023-02-10_06h46m50s    |     15/100      |  764/1024  ||    716     |   50.646   |     2      |  8.7e-07   ||\n",
      "||   2023-02-10_06h46m50s    |     16/100      |  800/1024  ||    716     |   50.646   |     2      |  8.7e-07   ||\n",
      "||   2023-02-10_06h47m11s    |     17/100      |  826/1024  ||    716     |   50.646   |     2      |  8.7e-07   ||\n",
      "||   2023-02-10_06h47m11s    |     18/100      |  846/1024  ||    716     |   50.646   |     2      |  8.7e-07   ||\n",
      "||   2023-02-10_06h47m12s    |     20/100      |  870/1024  ||    716     |   50.646   |     2      |  8.7e-07   ||\n",
      "||   2023-02-10_06h47m12s    |     20/100      |  890/1024  ||    716     |   50.646   |     2      |  8.7e-07   ||\n",
      "||   2023-02-10_06h47m34s    |     21/100      |  907/1024  ||    716     |   50.646   |     2      |  8.7e-07   ||\n",
      "||   2023-02-10_06h47m34s    |     22/100      |  929/1024  ||    716     |   50.646   |     2      |  8.7e-07   ||\n",
      "||   2023-02-10_06h47m34s    |     23/100      |  936/1024  ||    716     |   50.646   |     2      |  8.7e-07   ||\n",
      "||   2023-02-10_06h47m34s    |     24/100      |  943/1024  ||    716     |   50.646   |     2      |  8.7e-07   ||\n",
      "||   2023-02-10_06h47m57s    |     25/100      |  952/1024  ||    716     |   50.646   |     2      |  8.7e-07   ||\n",
      "||   2023-02-10_06h47m57s    |     26/100      |  958/1024  ||    716     |   50.646   |     2      |  8.7e-07   ||\n",
      "||   2023-02-10_06h47m58s    |     27/100      |  969/1024  ||    716     |   50.646   |     2      |  8.7e-07   ||\n",
      "||   2023-02-10_06h47m58s    |     28/100      |  974/1024  ||    716     |   50.646   |     2      |  8.7e-07   ||\n",
      "||   2023-02-10_06h48m19s    |     29/100      |  979/1024  ||    716     |   50.646   |     2      |  8.7e-07   ||\n",
      "||   2023-02-10_06h48m20s    |     30/100      |  985/1024  ||    716     |   50.646   |     2      |  8.7e-07   ||\n",
      "||   2023-02-10_06h48m20s    |     32/100      |  992/1024  ||    716     |   50.646   |     2      |  8.7e-07   ||\n",
      "||   2023-02-10_06h48m20s    |     32/100      | 1000/1024  ||    716     |   50.646   |     2      |  8.7e-07   ||\n",
      "||   2023-02-10_06h48m43s    |     35/100      | 1005/1024  ||    716     |   50.646   |     2      |  8.7e-07   ||\n",
      "||   2023-02-10_06h48m43s    |     35/100      | 1009/1024  ||    716     |   50.646   |     2      |  8.7e-07   ||\n",
      "||   2023-02-10_06h48m43s    |     36/100      | 1014/1024  ||    716     |   50.646   |     2      |  8.7e-07   ||\n",
      "||   2023-02-10_06h49m08s    |     38/100      | 1017/1024  ||    716     |   50.646   |     2      |  8.7e-07   ||\n",
      "||   2023-02-10_06h49m08s    |     39/100      | 1018/1024  ||    716     |   50.646   |     2      |  8.7e-07   ||\n",
      "||   2023-02-10_06h49m08s    |     40/100      | 1020/1024  ||    716     |   50.646   |     2      |  8.7e-07   ||\n",
      "||   2023-02-10_06h49m31s    |     41/100      | 1021/1024  ||    716     |   50.646   |     2      |  8.7e-07   ||\n",
      "||   2023-02-10_06h49m32s    |     44/100      | 1022/1024  ||    716     |   50.633   |     3      |  1.4e-06   ||\n",
      "||   2023-02-10_06h49m32s    |     44/100      | 1023/1024  ||    716     |   50.633   |     3      |  1.4e-06   ||\n",
      "||   2023-02-10_06h49m55s    |     45/100      | 1023/1024  ||    716     |   50.599   |     4      |  5.2e-06   ||\n",
      "||   2023-02-10_06h49m55s    |     46/100      | 1023/1024  ||    716     |   50.599   |     4      |  5.2e-06   ||\n",
      "||   2023-02-10_06h49m56s    |     47/100      | 1024/1024  ||    716     |   50.599   |     4      |  5.2e-06   ||\n",
      "||   2023-02-10_06h49m56s    |     48/100      | 1024/1024  ||    716     |   50.599   |     4      |  5.2e-06   ||\n",
      "||   2023-02-10_06h50m19s    |     49/100      | 1024/1024  ||    716     |   50.599   |     4      |  5.2e-06   ||\n",
      "||   2023-02-10_06h50m19s    |     50/100      | 1024/1024  ||    716     |   50.599   |     4      |  5.2e-06   ||\n",
      "||   2023-02-10_06h50m19s    |     51/100      | 1024/1024  ||    716     |   50.599   |     4      |  5.2e-06   ||\n",
      "||   2023-02-10_06h50m19s    |     52/100      | 1024/1024  ||    716     |   50.599   |     4      |  5.2e-06   ||\n",
      "||   2023-02-10_06h50m43s    |     54/100      | 1024/1024  ||    716     |   50.599   |     4      |  5.2e-06   ||\n",
      "||   2023-02-10_06h50m43s    |     56/100      | 1024/1024  ||    716     |   50.599   |     4      |  5.2e-06   ||\n",
      "||   2023-02-10_06h51m06s    |     57/100      | 1024/1024  ||    716     |   50.599   |     4      |  5.2e-06   ||\n",
      "||   2023-02-10_06h51m06s    |     58/100      | 1024/1024  ||    716     |   50.659   |     5      |  5.2e-07   ||\n",
      "||   2023-02-10_06h51m06s    |     59/100      | 1024/1024  ||    716     |   50.659   |     5      |  5.2e-07   ||\n",
      "||   2023-02-10_06h51m07s    |     60/100      | 1024/1024  ||    716     |   50.659   |     5      |  5.2e-07   ||\n",
      "||   2023-02-10_06h51m30s    |     61/100      | 1024/1024  ||    716     |   50.659   |     5      |  5.2e-07   ||\n",
      "||   2023-02-10_06h51m31s    |     62/100      | 1024/1024  ||    716     |   50.659   |     5      |  5.2e-07   ||\n",
      "||   2023-02-10_06h51m31s    |     64/100      | 1024/1024  ||    716     |   50.669   |     6      |  3.6e-07   ||\n",
      "||   2023-02-10_06h51m54s    |     65/100      | 1024/1024  ||    716     |   50.669   |     6      |  3.6e-07   ||\n",
      "||   2023-02-10_06h51m54s    |     66/100      | 1024/1024  ||    716     |   50.669   |     6      |  3.6e-07   ||\n",
      "||   2023-02-10_06h51m54s    |     67/100      | 1024/1024  ||    716     |   50.669   |     6      |  3.6e-07   ||\n",
      "||   2023-02-10_06h51m54s    |     68/100      | 1024/1024  ||    716     |   50.669   |     6      |  3.6e-07   ||\n",
      "||   2023-02-10_06h52m17s    |     69/100      | 1024/1024  ||    716     |   50.669   |     6      |  3.6e-07   ||\n",
      "||   2023-02-10_06h52m17s    |     70/100      | 1024/1024  ||    716     |   50.669   |     6      |  3.6e-07   ||\n",
      "||   2023-02-10_06h52m17s    |     72/100      | 1024/1024  ||    716     |   50.669   |     6      |  3.6e-07   ||\n",
      "||   2023-02-10_06h52m40s    |     73/100      | 1024/1024  ||    716     |   50.669   |     6      |  3.6e-07   ||\n",
      "||   2023-02-10_06h52m41s    |     76/100      | 1024/1024  ||    716     |   50.669   |     6      |  3.6e-07   ||\n",
      "||   2023-02-10_06h53m04s    |     77/100      | 1024/1024  ||    716     |   50.669   |     6      |  3.6e-07   ||\n",
      "||   2023-02-10_06h53m04s    |     78/100      | 1024/1024  ||    716     |   50.669   |     6      |  3.6e-07   ||\n",
      "||   2023-02-10_06h53m05s    |     79/100      | 1024/1024  ||    716     |   50.669   |     6      |  3.6e-07   ||\n",
      "||   2023-02-10_06h53m05s    |     80/100      | 1024/1024  ||    716     |   50.669   |     6      |  3.6e-07   ||\n",
      "||   2023-02-10_06h53m28s    |     81/100      | 1024/1024  ||    716     |   50.669   |     6      |  3.6e-07   ||\n",
      "||   2023-02-10_06h53m28s    |     82/100      | 1024/1024  ||    716     |   50.669   |     6      |  3.6e-07   ||\n",
      "||   2023-02-10_06h53m28s    |     83/100      | 1024/1024  ||    716     |   50.669   |     6      |  3.6e-07   ||\n",
      "||   2023-02-10_06h53m28s    |     84/100      | 1024/1024  ||    716     |   50.669   |     6      |  3.6e-07   ||\n",
      "||   2023-02-10_06h53m51s    |     85/100      | 1024/1024  ||    716     |   50.669   |     6      |  3.6e-07   ||\n",
      "||   2023-02-10_06h53m53s    |     86/100      | 1024/1024  ||    716     |   50.669   |     6      |  3.6e-07   ||\n",
      "||   2023-02-10_06h53m53s    |     87/100      | 1024/1024  ||    716     |   50.669   |     6      |  3.6e-07   ||\n",
      "||   2023-02-10_06h53m53s    |     88/100      | 1024/1024  ||    716     |   50.669   |     6      |  3.6e-07   ||\n",
      "||   2023-02-10_06h54m16s    |     89/100      | 1024/1024  ||    716     |   50.669   |     6      |  3.6e-07   ||\n",
      "||   2023-02-10_06h54m17s    |     91/100      | 1024/1024  ||    716     |   50.669   |     6      |  3.6e-07   ||\n",
      "||   2023-02-10_06h54m17s    |     92/100      | 1024/1024  ||    716     |   50.669   |     6      |  3.6e-07   ||\n",
      "||   2023-02-10_06h54m40s    |     93/100      | 1024/1024  ||    716     |   50.669   |     6      |  3.6e-07   ||\n",
      "||   2023-02-10_06h54m41s    |     96/100      | 1024/1024  ||    716     |   50.669   |     6      |  3.6e-07   ||\n",
      "||   2023-02-10_06h55m04s    |     97/100      | 1024/1024  ||    716     |   50.669   |     6      |  3.6e-07   ||\n",
      "||   2023-02-10_06h55m05s    |     98/100      | 1024/1024  ||    716     |   50.669   |     6      |  3.6e-07   ||\n",
      "||   2023-02-10_06h55m05s    |     100/100     | 1024/1024  ||    716     |   50.647   |     7      |  8.5e-07   ||\n",
      "\u001B[0m"
     ]
    }
   ],
   "source": [
    "#============ run the analysis ============\n",
    "!/opt/miniconda3/envs/E2210/bin/python -m nnbits.run --savepath '{savepath}'"
   ]
  },
  {
   "cell_type": "markdown",
   "id": "50f12ae5-4a58-4b2e-bcd3-6ba4dae48bde",
   "metadata": {
    "pycharm": {
     "name": "#%% md\n"
    }
   },
   "source": [
    "# Analyze the results "
   ]
  },
  {
   "cell_type": "code",
   "execution_count": 13,
   "id": "ca98b778-36ee-4974-8a29-96604db34af6",
   "metadata": {
    "ExecuteTime": {
     "end_time": "2022-06-05T11:46:21.276151Z",
     "start_time": "2022-06-05T11:46:21.273778Z"
    },
    "execution": {
     "iopub.execute_input": "2023-02-10T06:55:40.230408Z",
     "iopub.status.busy": "2023-02-10T06:55:40.229919Z",
     "iopub.status.idle": "2023-02-10T06:55:40.233902Z",
     "shell.execute_reply": "2023-02-10T06:55:40.233454Z",
     "shell.execute_reply.started": "2023-02-10T06:55:40.230378Z"
    },
    "pycharm": {
     "name": "#%%\n"
    },
    "tags": []
   },
   "outputs": [],
   "source": [
    "import numpy as np\n",
    "\n",
    "# the file-manager is a simple module which knows under which path to search for e.g. the test_accuracies:\n",
    "from nnbits.filemanager import FileManager\n",
    "# given a file-manager, the get_X function loads all the test_accuracies from the analysis above into a single array:\n",
    "from nnbits.bitanalysis import get_X"
   ]
  },
  {
   "cell_type": "code",
   "execution_count": 14,
   "id": "83b9579d-b716-4fd7-baeb-76f70f18c62a",
   "metadata": {
    "ExecuteTime": {
     "end_time": "2022-06-05T11:46:23.829223Z",
     "start_time": "2022-06-05T11:46:23.825672Z"
    },
    "execution": {
     "iopub.execute_input": "2023-02-10T06:55:40.978424Z",
     "iopub.status.busy": "2023-02-10T06:55:40.978122Z",
     "iopub.status.idle": "2023-02-10T06:55:41.012372Z",
     "shell.execute_reply": "2023-02-10T06:55:41.011808Z",
     "shell.execute_reply.started": "2023-02-10T06:55:40.978395Z"
    },
    "pycharm": {
     "name": "#%%\n"
    },
    "tags": []
   },
   "outputs": [
    {
     "data": {
      "text/plain": [
       "(100, 1024)"
      ]
     },
     "execution_count": 14,
     "metadata": {},
     "output_type": "execute_result"
    }
   ],
   "source": [
    "F = FileManager('demo_speck32_round7') \n",
    "X = get_X(F)\n",
    "# X contains one row for each of the `N` neural network and one column for each of the `n` bits:\n",
    "X.shape"
   ]
  },
  {
   "cell_type": "code",
   "execution_count": 15,
   "id": "4c4b1c18-4d51-4b21-83fd-f0b6011fc51b",
   "metadata": {
    "ExecuteTime": {
     "end_time": "2022-06-05T11:46:28.087305Z",
     "start_time": "2022-06-05T11:46:28.084237Z"
    },
    "execution": {
     "iopub.execute_input": "2023-02-10T06:55:43.379196Z",
     "iopub.status.busy": "2023-02-10T06:55:43.378921Z",
     "iopub.status.idle": "2023-02-10T06:55:43.383093Z",
     "shell.execute_reply": "2023-02-10T06:55:43.382644Z",
     "shell.execute_reply.started": "2023-02-10T06:55:43.379177Z"
    },
    "pycharm": {
     "name": "#%%\n"
    },
    "tags": []
   },
   "outputs": [],
   "source": [
    "# the bit accuracies are calculated by taking the mean over all neural networks which predict the particular bit \n",
    "# (axis=0):\n",
    "# (the following three lines catch a runtime warning if a mean-calculation is empty. This happens if not all bits have been analyzed yet.)\n",
    "import warnings\n",
    "with warnings.catch_warnings():\n",
    "    warnings.simplefilter(\"ignore\", category=RuntimeWarning)\n",
    "    bit_accuracies = np.nanmean(X, axis=0)"
   ]
  },
  {
   "cell_type": "code",
   "execution_count": 16,
   "id": "d283277e-a678-464b-ac92-41384fcee117",
   "metadata": {
    "ExecuteTime": {
     "end_time": "2022-06-05T11:46:28.612142Z",
     "start_time": "2022-06-05T11:46:28.448131Z"
    },
    "execution": {
     "iopub.execute_input": "2023-02-10T06:55:43.691005Z",
     "iopub.status.busy": "2023-02-10T06:55:43.690752Z",
     "iopub.status.idle": "2023-02-10T06:55:43.833073Z",
     "shell.execute_reply": "2023-02-10T06:55:43.832655Z",
     "shell.execute_reply.started": "2023-02-10T06:55:43.690983Z"
    },
    "pycharm": {
     "name": "#%%\n"
    },
    "tags": []
   },
   "outputs": [
    {
     "data": {
      "text/html": [
       "<div>\n",
       "<style scoped>\n",
       "    .dataframe tbody tr th:only-of-type {\n",
       "        vertical-align: middle;\n",
       "    }\n",
       "\n",
       "    .dataframe tbody tr th {\n",
       "        vertical-align: top;\n",
       "    }\n",
       "\n",
       "    .dataframe thead th {\n",
       "        text-align: right;\n",
       "    }\n",
       "</style>\n",
       "<table border=\"1\" class=\"dataframe\">\n",
       "  <thead>\n",
       "    <tr style=\"text-align: right;\">\n",
       "      <th></th>\n",
       "      <th>bit</th>\n",
       "      <th>mean accuracy</th>\n",
       "    </tr>\n",
       "  </thead>\n",
       "  <tbody>\n",
       "    <tr>\n",
       "      <th>716</th>\n",
       "      <td>716</td>\n",
       "      <td>0.506469</td>\n",
       "    </tr>\n",
       "    <tr>\n",
       "      <th>732</th>\n",
       "      <td>732</td>\n",
       "      <td>0.505054</td>\n",
       "    </tr>\n",
       "    <tr>\n",
       "      <th>525</th>\n",
       "      <td>525</td>\n",
       "      <td>0.501650</td>\n",
       "    </tr>\n",
       "    <tr>\n",
       "      <th>701</th>\n",
       "      <td>701</td>\n",
       "      <td>0.501575</td>\n",
       "    </tr>\n",
       "    <tr>\n",
       "      <th>255</th>\n",
       "      <td>255</td>\n",
       "      <td>0.501524</td>\n",
       "    </tr>\n",
       "    <tr>\n",
       "      <th>...</th>\n",
       "      <td>...</td>\n",
       "      <td>...</td>\n",
       "    </tr>\n",
       "    <tr>\n",
       "      <th>19</th>\n",
       "      <td>19</td>\n",
       "      <td>0.498695</td>\n",
       "    </tr>\n",
       "    <tr>\n",
       "      <th>302</th>\n",
       "      <td>302</td>\n",
       "      <td>0.498587</td>\n",
       "    </tr>\n",
       "    <tr>\n",
       "      <th>37</th>\n",
       "      <td>37</td>\n",
       "      <td>0.498459</td>\n",
       "    </tr>\n",
       "    <tr>\n",
       "      <th>423</th>\n",
       "      <td>423</td>\n",
       "      <td>0.498335</td>\n",
       "    </tr>\n",
       "    <tr>\n",
       "      <th>290</th>\n",
       "      <td>290</td>\n",
       "      <td>0.498291</td>\n",
       "    </tr>\n",
       "  </tbody>\n",
       "</table>\n",
       "<p>1024 rows × 2 columns</p>\n",
       "</div>"
      ],
      "text/plain": [
       "     bit  mean accuracy\n",
       "716  716       0.506469\n",
       "732  732       0.505054\n",
       "525  525       0.501650\n",
       "701  701       0.501575\n",
       "255  255       0.501524\n",
       "..   ...            ...\n",
       "19    19       0.498695\n",
       "302  302       0.498587\n",
       "37    37       0.498459\n",
       "423  423       0.498335\n",
       "290  290       0.498291\n",
       "\n",
       "[1024 rows x 2 columns]"
      ]
     },
     "execution_count": 16,
     "metadata": {},
     "output_type": "execute_result"
    }
   ],
   "source": [
    "import pandas as pd\n",
    "df = pd.DataFrame({'bit': np.arange(1024), \n",
    "                   'mean accuracy': bit_accuracies})\n",
    "\n",
    "df.sort_values('mean accuracy', ascending=False)"
   ]
  },
  {
   "cell_type": "markdown",
   "id": "fe4cc4ee-0de5-4eb7-af0a-7e4346aa61d6",
   "metadata": {},
   "source": [
    "# Visualize the Results (shows bit 716 and bit 732)"
   ]
  },
  {
   "cell_type": "code",
   "execution_count": 17,
   "id": "c436ec3b-4153-47db-aa1e-71c70cbd465d",
   "metadata": {
    "ExecuteTime": {
     "end_time": "2022-06-05T11:46:33.835747Z",
     "start_time": "2022-06-05T11:46:33.457403Z"
    },
    "execution": {
     "iopub.execute_input": "2023-02-10T06:55:46.788218Z",
     "iopub.status.busy": "2023-02-10T06:55:46.787943Z",
     "iopub.status.idle": "2023-02-10T06:55:47.754284Z",
     "shell.execute_reply": "2023-02-10T06:55:47.753762Z",
     "shell.execute_reply.started": "2023-02-10T06:55:46.788197Z"
    },
    "pycharm": {
     "name": "#%%\n"
    },
    "tags": []
   },
   "outputs": [
    {
     "data": {
      "text/plain": [
       "Text(0, 0.5, 'validation accuracy')"
      ]
     },
     "execution_count": 17,
     "metadata": {},
     "output_type": "execute_result"
    },
    {
     "data": {
      "image/png": "[encoded data removed]",
      "text/plain": [
       "<Figure size 1500x450 with 1 Axes>"
      ]
     },
     "metadata": {
      "needs_background": "light"
     },
     "output_type": "display_data"
    }
   ],
   "source": [
    "import matplotlib.pyplot as plt\n",
    "\n",
    "# here we visualize the obtained `bit_accuracies`:\n",
    "plt.figure(figsize=(10, 3), dpi=150)\n",
    "plt.plot(bit_accuracies, 'o', markersize=3, linestyle = 'None', label=\"mean validation accuracy of each bit\")\n",
    "# find bit with maximum accuracy\n",
    "dfm = df[df['mean accuracy'] == max(df['mean accuracy'])]\n",
    "plt.plot(dfm['bit'], dfm['mean accuracy'], marker='x', c='C0', linestyle = 'None', label=f\"best bit {int(dfm['bit'])} with {float(dfm['mean accuracy'])*100:.1f}% accuracy\")\n",
    "\n",
    "plt.legend(loc='upper left')\n",
    "plt.xlabel('bit id')\n",
    "plt.ylabel('validation accuracy')"
   ]
  }
 ],
 "metadata": {
  "kernelspec": {
   "display_name": "Python 3 (ipykernel)",
   "language": "python",
   "name": "python3"
  },
  "language_info": {
   "codemirror_mode": {
    "name": "ipython",
    "version": 3
   },
   "file_extension": ".py",
   "mimetype": "text/x-python",
   "name": "python",
   "nbconvert_exporter": "python",
   "pygments_lexer": "ipython3",
   "version": "3.8.12"
  },
  "latex_envs": {
   "LaTeX_envs_menu_present": true,
   "autoclose": false,
   "autocomplete": true,
   "bibliofile": "biblio.bib",
   "cite_by": "apalike",
   "current_citInitial": 1,
   "eqLabelWithNumbers": true,
   "eqNumInitial": 1,
   "hotkeys": {
    "equation": "Ctrl-E",
    "itemize": "Ctrl-I"
   },
   "labels_anchors": false,
   "latex_user_defs": false,
   "report_style_numbering": false,
   "user_envs_cfg": false
  },
  "toc": {
   "base_numbering": 1,
   "nav_menu": {},
   "number_sections": true,
   "sideBar": true,
   "skip_h1_title": false,
   "title_cell": "Table of Contents",
   "title_sidebar": "Contents",
   "toc_cell": true,
   "toc_position": {},
   "toc_section_display": true,
   "toc_window_display": true
  },
  "varInspector": {
   "cols": {
    "lenName": 16,
    "lenType": 16,
    "lenVar": 40
   },
   "kernels_config": {
    "python": {
     "delete_cmd_postfix": "",
     "delete_cmd_prefix": "del ",
     "library": "var_list.py",
     "varRefreshCmd": "print(var_dic_list())"
    },
    "r": {
     "delete_cmd_postfix": ") ",
     "delete_cmd_prefix": "rm(",
     "library": "var_list.r",
     "varRefreshCmd": "cat(var_dic_list()) "
    }
   },
   "types_to_exclude": [
    "module",
    "function",
    "builtin_function_or_method",
    "instance",
    "_Feature"
   ],
   "window_display": false
  }
 },
 "nbformat": 4,
 "nbformat_minor": 5
}

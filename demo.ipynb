{
 "cells": [
  {
   "cell_type": "markdown",
   "id": "45949c2b",
   "metadata": {},
   "source": [
    "This demo shows how to use the `RayDist` repository by \n",
    "\n",
    "1. generating the avalanche dataset for Speck 32/64\n",
    "2. exploring the computational resources\n",
    "3. running an ensemble neural network analysis"
   ]
  },
  {
   "cell_type": "markdown",
   "id": "08ab53b6",
   "metadata": {},
   "source": [
    "Please execute the following cells by pressing \n",
    "\n",
    "`Shift + Enter`"
   ]
  },
  {
   "cell_type": "markdown",
   "id": "808b1780",
   "metadata": {},
   "source": [
    "# Install Requirements "
   ]
  },
  {
   "cell_type": "markdown",
   "id": "ae28e7f8",
   "metadata": {},
   "source": [
    "The following modules are required: "
   ]
  },
  {
   "cell_type": "code",
   "execution_count": 4,
   "id": "9d663a9c",
   "metadata": {
    "ExecuteTime": {
     "end_time": "2022-06-04T06:57:38.337540Z",
     "start_time": "2022-06-04T06:57:38.192893Z"
    }
   },
   "outputs": [
    {
     "name": "stdout",
     "output_type": "stream",
     "text": [
      "toml\r\n",
      "ray\r\n",
      "tensorflow\r\n",
      "watchdog\r\n",
      "\r\n",
      "scipy == 1.7.3"
     ]
    }
   ],
   "source": [
    "%cat requirements.txt"
   ]
  },
  {
   "cell_type": "markdown",
   "id": "722a6c0b",
   "metadata": {},
   "source": [
    "Install them by running the following cell:"
   ]
  },
  {
   "cell_type": "code",
   "execution_count": null,
   "id": "aa72eaba",
   "metadata": {},
   "outputs": [],
   "source": [
    "!pip install -r requirements.txt"
   ]
  },
  {
   "cell_type": "markdown",
   "id": "d21fa67d",
   "metadata": {},
   "source": [
    "# Choose a round to analyze "
   ]
  },
  {
   "cell_type": "code",
   "execution_count": 5,
   "id": "26740f66",
   "metadata": {
    "ExecuteTime": {
     "end_time": "2022-06-04T07:05:48.018566Z",
     "start_time": "2022-06-04T07:05:48.016428Z"
    }
   },
   "outputs": [],
   "source": [
    "# Here we will analyze round 7 of Speck 32/64.\n",
    "ROUND_IDs = [6]"
   ]
  },
  {
   "cell_type": "markdown",
   "id": "8f70d02d",
   "metadata": {},
   "source": [
    "# Generate Data "
   ]
  },
  {
   "cell_type": "markdown",
   "id": "be12e9c4",
   "metadata": {},
   "source": [
    "Create a folder for the data"
   ]
  },
  {
   "cell_type": "code",
   "execution_count": 8,
   "id": "4ddea48f",
   "metadata": {
    "ExecuteTime": {
     "end_time": "2022-05-19T08:15:56.904775Z",
     "start_time": "2022-05-19T08:15:56.688420Z"
    }
   },
   "outputs": [],
   "source": [
    "!mkdir 'speck_32_64'"
   ]
  },
  {
   "cell_type": "markdown",
   "id": "330592e7",
   "metadata": {},
   "source": [
    "Generate `number_of_samples = 300_000` avalanche units"
   ]
  },
  {
   "cell_type": "code",
   "execution_count": 10,
   "id": "ede1541f",
   "metadata": {
    "ExecuteTime": {
     "end_time": "2022-05-19T08:18:02.564090Z",
     "start_time": "2022-05-19T08:16:33.289946Z"
    }
   },
   "outputs": [],
   "source": [
    "#### CONFIGURATION ######\n",
    "\n",
    "number_of_samples = 300_000\n",
    "\n",
    "#########################\n",
    "\n",
    "from avalanche_data_generator.speck_32_64 import speck_k64_p32_o32_r22 as data_generator\n",
    "import numpy as np\n",
    "\n",
    "dataset=data_generator.generate_avalanche_dataset(int(number_of_samples))\n",
    "\n",
    "for r in ROUND_IDs:\n",
    "    np.save(f\"speck_32_64/round{r}_sequences300k.npy\", dataset[ROUND_ID])"
   ]
  },
  {
   "cell_type": "markdown",
   "id": "eba7e590",
   "metadata": {},
   "source": [
    "# Have a look at the available Resources \n",
    "\n",
    "The Nvidia A100-DGX server provides \n",
    "\n",
    "* `4 A100-SXM GPUs, each with 40'536 MiB memory (and in addition a graphical GPU)` \n",
    "* `128 CPU cores`\n",
    "\n",
    "In comparison, the free Google Colaboratory provides\n",
    "\n",
    "* `1 Tesla T4 GPU with 15'109 MiB memory`\n",
    "* `2 CPU cores`\n",
    "\n",
    "The available resources can be explored by using for example the `ray.available_resources()` or `nvidia-smi`:"
   ]
  },
  {
   "cell_type": "code",
   "execution_count": 1,
   "id": "de8c5931",
   "metadata": {
    "ExecuteTime": {
     "end_time": "2022-06-04T06:54:45.203333Z",
     "start_time": "2022-06-04T06:54:41.596826Z"
    }
   },
   "outputs": [
    {
     "data": {
      "text/plain": [
       "{'GPU': 5.0,\n",
       " 'object_store_memory': 94416284467.0,\n",
       " 'memory': 210304663757.0,\n",
       " 'CPU': 128.0,\n",
       " 'node:172.31.102.80': 1.0}"
      ]
     },
     "execution_count": 1,
     "metadata": {},
     "output_type": "execute_result"
    }
   ],
   "source": [
    "import ray\n",
    "ray.init()\n",
    "ray.available_resources()"
   ]
  },
  {
   "cell_type": "code",
   "execution_count": 2,
   "id": "231ef6b1",
   "metadata": {
    "ExecuteTime": {
     "end_time": "2022-06-04T06:54:46.077342Z",
     "start_time": "2022-06-04T06:54:45.207831Z"
    }
   },
   "outputs": [
    {
     "name": "stdout",
     "output_type": "stream",
     "text": [
      "Sat Jun  4 10:54:45 2022       \n",
      "+-----------------------------------------------------------------------------+\n",
      "| NVIDIA-SMI 495.29.05    Driver Version: 495.29.05    CUDA Version: 11.5     |\n",
      "|-------------------------------+----------------------+----------------------+\n",
      "| GPU  Name        Persistence-M| Bus-Id        Disp.A | Volatile Uncorr. ECC |\n",
      "| Fan  Temp  Perf  Pwr:Usage/Cap|         Memory-Usage | GPU-Util  Compute M. |\n",
      "|                               |                      |               MIG M. |\n",
      "|===============================+======================+======================|\n",
      "|   0  NVIDIA A100-SXM...  On   | 00000000:01:00.0 Off |                    0 |\n",
      "| N/A   36C    P0    51W / 275W |      3MiB / 40536MiB |      0%      Default |\n",
      "|                               |                      |             Disabled |\n",
      "+-------------------------------+----------------------+----------------------+\n",
      "|   1  NVIDIA A100-SXM...  On   | 00000000:47:00.0 Off |                    0 |\n",
      "| N/A   37C    P0    53W / 275W |      3MiB / 40536MiB |      0%      Default |\n",
      "|                               |                      |             Disabled |\n",
      "+-------------------------------+----------------------+----------------------+\n",
      "|   2  NVIDIA A100-SXM...  On   | 00000000:81:00.0 Off |                    0 |\n",
      "| N/A   36C    P0    55W / 275W |      3MiB / 40536MiB |      0%      Default |\n",
      "|                               |                      |             Disabled |\n",
      "+-------------------------------+----------------------+----------------------+\n",
      "|   3  NVIDIA DGX Display  On   | 00000000:C1:00.0 Off |                  N/A |\n",
      "| 33%   38C    P8    N/A /  50W |     74MiB /  3911MiB |      0%      Default |\n",
      "|                               |                      |                  N/A |\n",
      "+-------------------------------+----------------------+----------------------+\n",
      "|   4  NVIDIA A100-SXM...  On   | 00000000:C2:00.0 Off |                    0 |\n",
      "| N/A   36C    P0    57W / 275W |      3MiB / 40536MiB |      0%      Default |\n",
      "|                               |                      |             Disabled |\n",
      "+-------------------------------+----------------------+----------------------+\n",
      "                                                                               \n",
      "+-----------------------------------------------------------------------------+\n",
      "| Processes:                                                                  |\n",
      "|  GPU   GI   CI        PID   Type   Process name                  GPU Memory |\n",
      "|        ID   ID                                                   Usage      |\n",
      "|=============================================================================|\n",
      "|    3   N/A  N/A      5658      G   /usr/lib/xorg/Xorg                 64MiB |\n",
      "|    3   N/A  N/A      5816      G   /usr/bin/gnome-shell                5MiB |\n",
      "+-----------------------------------------------------------------------------+\n"
     ]
    }
   ],
   "source": [
    "!nvidia-smi"
   ]
  },
  {
   "cell_type": "markdown",
   "id": "1c6095bd",
   "metadata": {},
   "source": [
    "# Run `RayDist` neural network analysis "
   ]
  },
  {
   "cell_type": "code",
   "execution_count": null,
   "id": "3a22e0e4",
   "metadata": {
    "ExecuteTime": {
     "start_time": "2022-06-04T07:10:29.080Z"
    }
   },
   "outputs": [
    {
     "name": "stdout",
     "output_type": "stream",
     "text": [
      "====================================\n",
      "speck_32_64/round6_sequences300k.npy\n",
      "||           time            |   NN finished   | pred. bits ||  best bit  |  acc (%)   |   n pred   |  p value   ||\n",
      "===================================================================================================================\n",
      "||   2022-06-04_11h10m35s    |      0/100      |   0/1024   ||    nan     |    nan     |    nan     |    nan     ||\n",
      "||   2022-06-04_11h11m18s    |      1/100      |  63/1024   ||    448     |   50.280   |     1      |   0.033    ||\n",
      "||   2022-06-04_11h11m18s    |      2/100      |  125/1024  ||    711     |   50.403   |     1      |   0.0021   ||\n",
      "||   2022-06-04_11h11m19s    |      3/100      |  180/1024  ||    244     |   50.403   |     1      |   0.0021   ||\n",
      "||   2022-06-04_11h11m19s    |      4/100      |  232/1024  ||    244     |   50.403   |     1      |   0.0021   ||\n",
      "||   2022-06-04_11h11m20s    |      5/100      |  289/1024  ||    244     |   50.403   |     1      |   0.0021   ||\n",
      "||   2022-06-04_11h11m20s    |      7/100      |  338/1024  ||    244     |   50.403   |     1      |   0.0021   ||\n",
      "||   2022-06-04_11h11m20s    |      7/100      |  393/1024  ||    244     |   50.403   |     1      |   0.0021   ||\n",
      "||   2022-06-04_11h11m20s    |      8/100      |  453/1024  ||    244     |   50.403   |     1      |   0.0021   ||\n",
      "||   2022-06-04_11h11m21s    |      9/100      |  492/1024  ||    244     |   50.403   |     1      |   0.0021   ||\n",
      "||   2022-06-04_11h11m21s    |     10/100      |  545/1024  ||    244     |   50.403   |     1      |   0.0021   ||\n",
      "||   2022-06-04_11h11m21s    |     11/100      |  599/1024  ||    244     |   50.403   |     1      |   0.0021   ||\n",
      "||   2022-06-04_11h11m21s    |     12/100      |  631/1024  ||    244     |   50.403   |     1      |   0.0021   ||\n",
      "||   2022-06-04_11h11m22s    |     13/100      |  682/1024  ||    244     |   50.403   |     1      |   0.0021   ||\n",
      "||   2022-06-04_11h11m22s    |     14/100      |  707/1024  ||    244     |   50.403   |     1      |   0.0021   ||\n",
      "||   2022-06-04_11h11m22s    |     15/100      |  752/1024  ||    244     |   50.403   |     1      |   0.0021   ||\n",
      "||   2022-06-04_11h11m22s    |     16/100      |  792/1024  ||    244     |   50.403   |     1      |   0.0021   ||\n",
      "||   2022-06-04_11h11m22s    |     17/100      |  813/1024  ||    244     |   50.403   |     1      |   0.0021   ||\n",
      "||   2022-06-04_11h11m22s    |     18/100      |  855/1024  ||    244     |   50.403   |     1      |   0.0021   ||\n",
      "||   2022-06-04_11h11m23s    |     20/100      |  896/1024  ||    244     |   50.403   |     1      |   0.0021   ||\n",
      "||   2022-06-04_11h11m24s    |     20/100      |  938/1024  ||    244     |   50.403   |     1      |   0.0021   ||\n",
      "||   2022-06-04_11h11m24s    |     21/100      |  981/1024  ||    244     |   50.403   |     1      |   0.0021   ||\n",
      "||   2022-06-04_11h11m24s    |     22/100      |  985/1024  ||    244     |   50.403   |     1      |   0.0021   ||\n",
      "||   2022-06-04_11h11m24s    |     23/100      |  991/1024  ||    244     |   50.403   |     1      |   0.0021   ||\n",
      "||   2022-06-04_11h11m25s    |     24/100      | 1024/1024  ||    244     |   50.403   |     1      |   0.0021   ||\n",
      "||   2022-06-04_11h11m55s    |     25/100      | 1024/1024  ||    244     |   50.403   |     1      |   0.0021   ||\n",
      "||   2022-06-04_11h11m56s    |     26/100      | 1024/1024  ||    244     |   50.403   |     1      |   0.0021   ||\n",
      "||   2022-06-04_11h11m57s    |     27/100      | 1024/1024  ||    244     |   50.403   |     1      |   0.0021   ||\n",
      "||   2022-06-04_11h11m57s    |     29/100      | 1024/1024  ||    244     |   50.403   |     1      |   0.0021   ||\n",
      "||   2022-06-04_11h11m57s    |     30/100      | 1024/1024  ||    732     |   50.339   |     2      |   0.0098   ||\n",
      "||   2022-06-04_11h11m57s    |     31/100      | 1024/1024  ||    732     |   50.339   |     2      |   0.0098   ||\n",
      "||   2022-06-04_11h11m57s    |     32/100      | 1024/1024  ||    732     |   50.339   |     2      |   0.0098   ||\n",
      "||   2022-06-04_11h11m57s    |     33/100      | 1024/1024  ||    732     |   50.339   |     2      |   0.0098   ||\n",
      "||   2022-06-04_11h11m57s    |     35/100      | 1024/1024  ||    732     |   50.339   |     2      |   0.0098   ||\n",
      "||   2022-06-04_11h11m57s    |     35/100      | 1024/1024  ||    732     |   50.532   |     3      |   5e-05    ||\n",
      "||   2022-06-04_11h11m57s    |     36/100      | 1024/1024  ||    732     |   50.532   |     3      |   5e-05    ||\n",
      "||   2022-06-04_11h11m57s    |     37/100      | 1024/1024  ||    732     |   50.532   |     3      |   5e-05    ||\n",
      "||   2022-06-04_11h11m58s    |     38/100      | 1024/1024  ||    732     |   50.532   |     3      |   5e-05    ||\n",
      "||   2022-06-04_11h11m58s    |     39/100      | 1024/1024  ||    732     |   50.532   |     3      |   5e-05    ||\n",
      "||   2022-06-04_11h11m58s    |     40/100      | 1024/1024  ||    732     |   50.532   |     3      |   5e-05    ||\n",
      "||   2022-06-04_11h11m58s    |     42/100      | 1024/1024  ||    732     |   50.532   |     3      |   5e-05    ||\n",
      "||   2022-06-04_11h11m58s    |     43/100      | 1024/1024  ||    732     |   50.532   |     3      |   5e-05    ||\n",
      "||   2022-06-04_11h11m58s    |     44/100      | 1024/1024  ||    732     |   50.532   |     3      |   5e-05    ||\n",
      "||   2022-06-04_11h11m58s    |     45/100      | 1024/1024  ||    732     |   50.532   |     3      |   5e-05    ||\n",
      "||   2022-06-04_11h11m58s    |     46/100      | 1024/1024  ||    732     |   50.532   |     3      |   5e-05    ||\n",
      "||   2022-06-04_11h11m59s    |     47/100      | 1024/1024  ||    732     |   50.532   |     3      |   5e-05    ||\n",
      "||   2022-06-04_11h11m59s    |     48/100      | 1024/1024  ||    732     |   50.532   |     3      |   5e-05    ||\n",
      "||   2022-06-04_11h12m30s    |     49/100      | 1024/1024  ||    732     |   50.532   |     3      |   5e-05    ||\n",
      "||   2022-06-04_11h12m31s    |     50/100      | 1024/1024  ||    732     |   50.532   |     3      |   5e-05    ||\n",
      "||   2022-06-04_11h12m31s    |     51/100      | 1024/1024  ||    732     |   50.532   |     3      |   5e-05    ||\n",
      "||   2022-06-04_11h12m31s    |     52/100      | 1024/1024  ||    732     |   50.532   |     3      |   5e-05    ||\n",
      "||   2022-06-04_11h12m31s    |     53/100      | 1024/1024  ||    732     |   50.532   |     3      |   5e-05    ||\n",
      "||   2022-06-04_11h12m31s    |     54/100      | 1024/1024  ||    732     |   50.532   |     3      |   5e-05    ||\n",
      "||   2022-06-04_11h12m32s    |     55/100      | 1024/1024  ||    732     |   50.539   |     4      |  3.9e-05   ||\n",
      "||   2022-06-04_11h12m32s    |     56/100      | 1024/1024  ||    732     |   50.539   |     4      |  3.9e-05   ||\n",
      "||   2022-06-04_11h12m32s    |     59/100      | 1024/1024  ||    732     |   50.539   |     4      |  3.9e-05   ||\n",
      "||   2022-06-04_11h12m32s    |     60/100      | 1024/1024  ||    732     |   50.539   |     4      |  3.9e-05   ||\n",
      "||   2022-06-04_11h12m32s    |     61/100      | 1024/1024  ||    732     |   50.539   |     4      |  3.9e-05   ||\n",
      "||   2022-06-04_11h12m32s    |     62/100      | 1024/1024  ||    732     |   50.539   |     4      |  3.9e-05   ||\n",
      "||   2022-06-04_11h12m32s    |     64/100      | 1024/1024  ||    732     |   50.539   |     4      |  3.9e-05   ||\n",
      "||   2022-06-04_11h12m32s    |     65/100      | 1024/1024  ||    732     |   50.539   |     4      |  3.9e-05   ||\n",
      "||   2022-06-04_11h12m32s    |     66/100      | 1024/1024  ||    732     |   50.539   |     4      |  3.9e-05   ||\n",
      "||   2022-06-04_11h12m32s    |     68/100      | 1024/1024  ||    732     |   50.539   |     4      |  3.9e-05   ||\n",
      "||   2022-06-04_11h12m33s    |     68/100      | 1024/1024  ||    732     |   50.539   |     4      |  3.9e-05   ||\n",
      "||   2022-06-04_11h12m33s    |     69/100      | 1024/1024  ||    732     |   50.539   |     4      |  3.9e-05   ||\n",
      "||   2022-06-04_11h12m33s    |     70/100      | 1024/1024  ||    732     |   50.539   |     4      |  3.9e-05   ||\n",
      "||   2022-06-04_11h12m33s    |     71/100      | 1024/1024  ||    732     |   50.539   |     4      |  3.9e-05   ||\n",
      "||   2022-06-04_11h12m33s    |     72/100      | 1024/1024  ||    732     |   50.628   |     5      |  1.7e-06   ||\n"
     ]
    }
   ],
   "source": [
    "import toml\n",
    "from raydist.filemanager import FileManager\n",
    "\n",
    "for r in ROUND_IDs:\n",
    "    \n",
    "    savepath = f'demo_speck32_roundid{r}'\n",
    "    !mkdir '{savepath}'\n",
    "\n",
    "    F = FileManager(savepath)\n",
    "    \n",
    "    datapath = f'speck_32_64/round{r}_sequences300k.npy'\n",
    "    \n",
    "    # the meaning of each parameter is explained in detail in \n",
    "    # `raydist/example_config.cfg`\n",
    "    cfgdict = {'datapath': datapath,\n",
    "                 'N_BITS': 1024,\n",
    "                 'N_GPUS': 4,\n",
    "                 'N_ACTORS_PER_GPU': 6,\n",
    "                 'NUM_GPUS': 0.15,\n",
    "                 'NUM_CPUS': 5,\n",
    "                 'MODEL_ID': 'gohr_generalized',\n",
    "                 'MODEL_STRENGTH': 1,\n",
    "                 'MODEL_INPUTS': 1024,\n",
    "                 'MODEL_OUTPUTS': 63,\n",
    "                 'N_EPOCHS': 5,\n",
    "                 'N_TRAIN': 147456,\n",
    "                 'N_VAL': 145512,\n",
    "                 'BATCHSIZE': 4096,\n",
    "                 'EARLY_STOPPING': True,\n",
    "                 'MAKE_NEW_FILTERS': True,\n",
    "                 'N_FILTERS': 100,\n",
    "                 'N_INPUT_FILTER_ELEMENTS': 961,\n",
    "                 'FILTER_STRATEGY': 'random',\n",
    "                 'TARGET_BITS': [],\n",
    "                 'SAVE_WEIGHTS': False,\n",
    "                 'DATA_STRATEGY': 'zero'}\n",
    "                 \n",
    "    with open(F.filename_cfg(), 'w') as configfile:\n",
    "        toml.dump(cfgdict, configfile)\n",
    "        \n",
    "    print(\"=\"*len(datapath))\n",
    "    print(datapath)\n",
    "        \n",
    "    !python -m raydist.run --savepath '{savepath}'"
   ]
  },
  {
   "cell_type": "code",
   "execution_count": null,
   "id": "f950a646",
   "metadata": {},
   "outputs": [],
   "source": []
  }
 ],
 "metadata": {
  "kernelspec": {
   "display_name": "Python 3 (ipykernel)",
   "language": "python",
   "name": "python3"
  },
  "language_info": {
   "codemirror_mode": {
    "name": "ipython",
    "version": 3
   },
   "file_extension": ".py",
   "mimetype": "text/x-python",
   "name": "python",
   "nbconvert_exporter": "python",
   "pygments_lexer": "ipython3",
   "version": "3.8.12"
  },
  "latex_envs": {
   "LaTeX_envs_menu_present": true,
   "autoclose": false,
   "autocomplete": true,
   "bibliofile": "biblio.bib",
   "cite_by": "apalike",
   "current_citInitial": 1,
   "eqLabelWithNumbers": true,
   "eqNumInitial": 1,
   "hotkeys": {
    "equation": "Ctrl-E",
    "itemize": "Ctrl-I"
   },
   "labels_anchors": false,
   "latex_user_defs": false,
   "report_style_numbering": false,
   "user_envs_cfg": false
  },
  "toc": {
   "base_numbering": 1,
   "nav_menu": {},
   "number_sections": true,
   "sideBar": true,
   "skip_h1_title": false,
   "title_cell": "Table of Contents",
   "title_sidebar": "Contents",
   "toc_cell": false,
   "toc_position": {},
   "toc_section_display": true,
   "toc_window_display": false
  },
  "varInspector": {
   "cols": {
    "lenName": 16,
    "lenType": 16,
    "lenVar": 40
   },
   "kernels_config": {
    "python": {
     "delete_cmd_postfix": "",
     "delete_cmd_prefix": "del ",
     "library": "var_list.py",
     "varRefreshCmd": "print(var_dic_list())"
    },
    "r": {
     "delete_cmd_postfix": ") ",
     "delete_cmd_prefix": "rm(",
     "library": "var_list.r",
     "varRefreshCmd": "cat(var_dic_list()) "
    }
   },
   "types_to_exclude": [
    "module",
    "function",
    "builtin_function_or_method",
    "instance",
    "_Feature"
   ],
   "window_display": false
  }
 },
 "nbformat": 4,
 "nbformat_minor": 5
}

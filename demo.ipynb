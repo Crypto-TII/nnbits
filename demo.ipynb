{
 "cells": [
  {
   "cell_type": "markdown",
   "id": "79d7c480",
   "metadata": {
    "pycharm": {
     "name": "#%% md\n"
    }
   },
   "source": [
    "This demo shows how to use the `nnbits` repository by \n",
    "\n",
    "1. generating the avalanche dataset for round 7 of Speck 32/64\n",
    "2. exploring the computational resources\n",
    "3. running an ensemble neural network analysis\n",
    "\n",
    "It reproduces the corresponding results from the manuscript."
   ]
  },
  {
   "cell_type": "markdown",
   "id": "b8d3ffec",
   "metadata": {
    "pycharm": {
     "name": "#%% md\n"
    },
    "toc": true
   },
   "source": [
    "<h1>Table of Contents<span class=\"tocSkip\"></span></h1>\n",
    "<div class=\"toc\"><ul class=\"toc-item\"><li><span><a href=\"#Install-Requirements\" data-toc-modified-id=\"Install-Requirements-1\"><span class=\"toc-item-num\">1&nbsp;&nbsp;</span>Install Requirements</a></span></li><li><span><a href=\"#Choose-a-round-to-analyze\" data-toc-modified-id=\"Choose-a-round-to-analyze-2\"><span class=\"toc-item-num\">2&nbsp;&nbsp;</span>Choose a round to analyze</a></span></li><li><span><a href=\"#Generate-avalanche-data\" data-toc-modified-id=\"Generate-avalanche-data-3\"><span class=\"toc-item-num\">3&nbsp;&nbsp;</span>Generate avalanche data</a></span></li><li><span><a href=\"#Have-a-look-at-the-available-resources\" data-toc-modified-id=\"Have-a-look-at-the-available-resources-4\"><span class=\"toc-item-num\">4&nbsp;&nbsp;</span>Have a look at the available resources</a></span></li><li><span><a href=\"#Run-nnbits-neural-network-analysis\" data-toc-modified-id=\"Run-nnbits-neural-network-analysis-5\"><span class=\"toc-item-num\">5&nbsp;&nbsp;</span>Run <code>nnbits</code> neural network analysis</a></span></li><li><span><a href=\"#Analyze-the-results\" data-toc-modified-id=\"Analyze-the-results-6\"><span class=\"toc-item-num\">6&nbsp;&nbsp;</span>Analyze the results</a></span></li></ul></div>"
   ]
  },
  {
   "cell_type": "markdown",
   "source": [
    "# How to use this demo?\n",
    "Please execute the following cells by pressing \n",
    "\n",
    "`Shift + Enter`\n",
    "\n",
    "If you are using Google Colab, please enable GPU support by clicking on `Runtime > Change Runtime Type > Hardware accelerator \"GPU\" > Save`. "
   ],
   "metadata": {
    "collapsed": false,
    "pycharm": {
     "name": "#%% md\n"
    }
   }
  },
  {
   "cell_type": "markdown",
   "source": [
    "# Install Requirements "
   ],
   "metadata": {
    "collapsed": false,
    "pycharm": {
     "name": "#%% md\n"
    }
   }
  },
  {
   "cell_type": "markdown",
   "source": [
    "Clone the GitHub repository:"
   ],
   "metadata": {
    "collapsed": false,
    "pycharm": {
     "name": "#%% md\n"
    }
   }
  },
  {
   "cell_type": "code",
   "execution_count": null,
   "outputs": [],
   "source": [
    "!git clone https://github.com/Crypto-TII/nnbits"
   ],
   "metadata": {
    "collapsed": false,
    "pycharm": {
     "name": "#%%\n"
    }
   }
  },
  {
   "cell_type": "code",
   "execution_count": null,
   "outputs": [],
   "source": [
    "%cd nnbits"
   ],
   "metadata": {
    "collapsed": false,
    "pycharm": {
     "name": "#%%\n"
    }
   }
  },
  {
   "cell_type": "markdown",
   "id": "de3ee120-d371-4aa1-be06-ce72dc8edd86",
   "metadata": {},
   "source": [
    "Clone the GitHub repository:"
   ]
  },
  {
   "cell_type": "code",
   "execution_count": null,
   "id": "d85feda7-0bec-48b0-b098-a9ae301cc3f5",
   "metadata": {},
   "outputs": [],
   "source": [
    "!git clone https://github.com/Crypto-TII/nnbits"
   ]
  },
  {
   "cell_type": "code",
   "execution_count": 2,
   "id": "5ce28555-db6e-4775-9365-4b81b51bce05",
   "metadata": {
    "execution": {
     "iopub.execute_input": "2022-09-21T10:21:11.077958Z",
     "iopub.status.busy": "2022-09-21T10:21:11.077796Z",
     "iopub.status.idle": "2022-09-21T10:21:11.081579Z",
     "shell.execute_reply": "2022-09-21T10:21:11.081238Z",
     "shell.execute_reply.started": "2022-09-21T10:21:11.077941Z"
    }
   },
   "outputs": [
    {
     "name": "stdout",
     "output_type": "stream",
     "text": [
      "/opt/cryptanalysis_servers_shared_folder/NNBits/10_main_code/nnbits\n"
     ]
    }
   ],
   "source": [
    "%cd nnbits"
   ]
  },
  {
   "cell_type": "markdown",
   "id": "61547790",
   "metadata": {
    "pycharm": {
     "name": "#%% md\n"
    }
   },
   "source": [
    "The following modules are required: "
   ]
  },
  {
   "cell_type": "code",
   "execution_count": 3,
   "id": "71fd544a",
   "metadata": {
    "ExecuteTime": {
     "end_time": "2022-06-05T11:34:44.480996Z",
     "start_time": "2022-06-05T11:34:44.328928Z"
    },
    "execution": {
     "iopub.execute_input": "2022-09-21T10:21:14.433068Z",
     "iopub.status.busy": "2022-09-21T10:21:14.432850Z",
     "iopub.status.idle": "2022-09-21T10:21:14.542629Z",
     "shell.execute_reply": "2022-09-21T10:21:14.542148Z",
     "shell.execute_reply.started": "2022-09-21T10:21:14.433053Z"
    },
    "pycharm": {
     "name": "#%%\n"
    },
    "tags": []
   },
   "outputs": [
    {
     "name": "stdout",
     "output_type": "stream",
     "text": [
      "cat: requirements.txt: No such file or directory\n"
     ]
    }
   ],
   "source": [
    "%cat requirements.txt"
   ]
  },
  {
   "cell_type": "markdown",
   "id": "b641fb7e",
   "metadata": {
    "pycharm": {
     "name": "#%% md\n"
    }
   },
   "source": [
    "Install the requirements by running the following cell. "
   ]
  },
  {
   "cell_type": "code",
   "execution_count": null,
   "id": "e5703088",
   "metadata": {
    "pycharm": {
     "name": "#%%\n"
    }
   },
   "outputs": [],
   "source": [
    "!pip install -r requirements.txt"
   ]
  },
  {
   "cell_type": "markdown",
   "id": "f28acbef",
   "metadata": {
    "pycharm": {
     "name": "#%% md\n"
    }
   },
   "source": [
    "# Choose a round to analyze "
   ]
  },
  {
   "cell_type": "code",
   "execution_count": 2,
   "id": "74cbef0a",
   "metadata": {
    "ExecuteTime": {
     "end_time": "2022-06-05T11:41:20.845174Z",
     "start_time": "2022-06-05T11:41:20.843107Z"
    },
    "pycharm": {
     "name": "#%%\n"
    }
   },
   "outputs": [],
   "source": [
    "# Here we will analyze round 7 of Speck 32/64.\n",
    "# The corresponding round-id is round 6 (we start counting the round-id from zero):\n",
    "ROUND_IDs = [6]"
   ]
  },
  {
   "cell_type": "markdown",
   "id": "8f70d02d",
   "metadata": {
    "pycharm": {
     "name": "#%% md\n"
    }
   },
   "source": [
    "# Generate avalanche data "
   ]
  },
  {
   "cell_type": "markdown",
   "id": "49986660",
   "metadata": {
    "pycharm": {
     "name": "#%% md\n"
    }
   },
   "source": [
    "Create a folder for the data"
   ]
  },
  {
   "cell_type": "code",
   "execution_count": 8,
   "id": "4ddea48f",
   "metadata": {
    "ExecuteTime": {
     "end_time": "2022-05-19T08:15:56.904775Z",
     "start_time": "2022-05-19T08:15:56.688420Z"
    },
    "pycharm": {
     "name": "#%%\n"
    }
   },
   "outputs": [],
   "source": [
    "!mkdir 'speck_32_64'"
   ]
  },
  {
   "cell_type": "markdown",
   "id": "e0192030",
   "metadata": {
    "pycharm": {
     "name": "#%% md\n"
    }
   },
   "source": [
    "Generate `number_of_samples = 300_000` avalanche units"
   ]
  },
  {
   "cell_type": "code",
   "execution_count": 10,
   "id": "ede1541f",
   "metadata": {
    "ExecuteTime": {
     "end_time": "2022-05-19T08:18:02.564090Z",
     "start_time": "2022-05-19T08:16:33.289946Z"
    },
    "pycharm": {
     "name": "#%%\n"
    }
   },
   "outputs": [],
   "source": [
    "#### CONFIGURATION ######\n",
    "\n",
    "number_of_samples = 300_000\n",
    "\n",
    "#########################\n",
    "\n",
    "from avalanche_data_generator.speck_32_64 import speck_k64_p32_o32_r22 as data_generator\n",
    "import numpy as np\n",
    "\n",
    "dataset=data_generator.generate_avalanche_dataset(int(number_of_samples))\n",
    "\n",
    "for r in ROUND_IDs:\n",
    "    np.save(f\"speck_32_64/round{r}_sequences300k.npy\", dataset[ROUND_ID])"
   ]
  },
  {
   "cell_type": "markdown",
   "id": "c66df706",
   "metadata": {
    "pycharm": {
     "name": "#%% md\n"
    }
   },
   "source": [
    "# Have a look at the available resources \n",
    "\n",
    "The Nvidia A100-DGX server provides \n",
    "\n",
    "* `4 A100-SXM GPUs, each with 40'536 MiB memory (and in addition a graphical GPU)` \n",
    "* `128 CPU cores`\n",
    "\n",
    "In comparison, the free Google Colaboratory provides\n",
    "\n",
    "* `1 Tesla T4 GPU with 15'109 MiB memory`\n",
    "* `2 CPU cores`\n",
    "\n",
    "The available resources can be explored by using for example the `ray.available_resources()` or `nvidia-smi`:"
   ]
  },
  {
   "cell_type": "code",
   "execution_count": 1,
   "id": "d89ebfd7",
   "metadata": {
    "ExecuteTime": {
     "end_time": "2022-06-04T06:54:45.203333Z",
     "start_time": "2022-06-04T06:54:41.596826Z"
    },
    "pycharm": {
     "name": "#%%\n"
    }
   },
   "outputs": [
    {
     "data": {
      "text/plain": [
       "{'GPU': 5.0,\n",
       " 'object_store_memory': 94416284467.0,\n",
       " 'memory': 210304663757.0,\n",
       " 'CPU': 128.0,\n",
       " 'node:172.31.102.80': 1.0}"
      ]
     },
     "execution_count": 1,
     "metadata": {},
     "output_type": "execute_result"
    }
   ],
   "source": [
    "import ray\n",
    "ray.init()\n",
    "ray.available_resources()"
   ]
  },
  {
   "cell_type": "code",
   "execution_count": 2,
   "id": "cabc71e8",
   "metadata": {
    "ExecuteTime": {
     "end_time": "2022-06-04T06:54:46.077342Z",
     "start_time": "2022-06-04T06:54:45.207831Z"
    },
    "pycharm": {
     "name": "#%%\n"
    }
   },
   "outputs": [
    {
     "name": "stdout",
     "output_type": "stream",
     "text": [
      "Sat Jun  4 10:54:45 2022       \n",
      "+-----------------------------------------------------------------------------+\n",
      "| NVIDIA-SMI 495.29.05    Driver Version: 495.29.05    CUDA Version: 11.5     |\n",
      "|-------------------------------+----------------------+----------------------+\n",
      "| GPU  Name        Persistence-M| Bus-Id        Disp.A | Volatile Uncorr. ECC |\n",
      "| Fan  Temp  Perf  Pwr:Usage/Cap|         Memory-Usage | GPU-Util  Compute M. |\n",
      "|                               |                      |               MIG M. |\n",
      "|===============================+======================+======================|\n",
      "|   0  NVIDIA A100-SXM...  On   | 00000000:01:00.0 Off |                    0 |\n",
      "| N/A   36C    P0    51W / 275W |      3MiB / 40536MiB |      0%      Default |\n",
      "|                               |                      |             Disabled |\n",
      "+-------------------------------+----------------------+----------------------+\n",
      "|   1  NVIDIA A100-SXM...  On   | 00000000:47:00.0 Off |                    0 |\n",
      "| N/A   37C    P0    53W / 275W |      3MiB / 40536MiB |      0%      Default |\n",
      "|                               |                      |             Disabled |\n",
      "+-------------------------------+----------------------+----------------------+\n",
      "|   2  NVIDIA A100-SXM...  On   | 00000000:81:00.0 Off |                    0 |\n",
      "| N/A   36C    P0    55W / 275W |      3MiB / 40536MiB |      0%      Default |\n",
      "|                               |                      |             Disabled |\n",
      "+-------------------------------+----------------------+----------------------+\n",
      "|   3  NVIDIA DGX Display  On   | 00000000:C1:00.0 Off |                  N/A |\n",
      "| 33%   38C    P8    N/A /  50W |     74MiB /  3911MiB |      0%      Default |\n",
      "|                               |                      |                  N/A |\n",
      "+-------------------------------+----------------------+----------------------+\n",
      "|   4  NVIDIA A100-SXM...  On   | 00000000:C2:00.0 Off |                    0 |\n",
      "| N/A   36C    P0    57W / 275W |      3MiB / 40536MiB |      0%      Default |\n",
      "|                               |                      |             Disabled |\n",
      "+-------------------------------+----------------------+----------------------+\n",
      "                                                                               \n",
      "+-----------------------------------------------------------------------------+\n",
      "| Processes:                                                                  |\n",
      "|  GPU   GI   CI        PID   Type   Process name                  GPU Memory |\n",
      "|        ID   ID                                                   Usage      |\n",
      "|=============================================================================|\n",
      "|    3   N/A  N/A      5658      G   /usr/lib/xorg/Xorg                 64MiB |\n",
      "|    3   N/A  N/A      5816      G   /usr/bin/gnome-shell                5MiB |\n",
      "+-----------------------------------------------------------------------------+\n"
     ]
    }
   ],
   "source": [
    "!nvidia-smi"
   ]
  },
  {
   "cell_type": "markdown",
   "id": "1c6095bd",
   "metadata": {
    "pycharm": {
     "name": "#%% md\n"
    }
   },
   "source": [
    "# Run `nnbits` neural network analysis "
   ]
  },
  {
   "cell_type": "markdown",
   "id": "d4deeef8",
   "metadata": {
    "pycharm": {
     "name": "#%% md\n"
    }
   },
   "source": [
    "If you are executing the Notebook on <font color='blue'>Google Colaboratory, please change</font> the following four lines in the cell below:\n",
    "\n",
    "```python\n",
    "...\n",
    "'N_GPUS': 1, \n",
    "'N_ACTORS_PER_GPU': 2,\n",
    "'GPU_PER_ACTOR': 0.5,\n",
    "'CPU_PER_ACTOR': 0.5 ,\n",
    "...\n",
    "```"
   ]
  },
  {
   "cell_type": "code",
   "execution_count": 13,
   "id": "f684e2ad",
   "metadata": {
    "ExecuteTime": {
     "end_time": "2022-06-05T11:47:47.713374Z",
     "start_time": "2022-06-05T11:46:53.810986Z"
    },
    "pycharm": {
     "name": "#%%\n"
    }
   },
   "outputs": [
    {
     "name": "stdout",
     "output_type": "stream",
     "text": [
      "======================================================================\n",
      "|                             | value                                |\n",
      "|:----------------------------|:-------------------------------------|\n",
      "| DATAPATH                    | speck_32_64/round6_sequences300k.npy |\n",
      "| NEURAL_NETWORK_MODEL        | gohr_generalized                     |\n",
      "| NEURAL_NETWORKS             | 100                                  |\n",
      "| SELECT_BITS_STRATEGY        | random                               |\n",
      "| INPUT_DATA_OP               | zero                                 |\n",
      "| N_RANDOM_BITS               | 63                                   |\n",
      "| N_GPUS                      | 4                                    |\n",
      "| N_ACTORS_PER_GPU            | 6                                    |\n",
      "| GPU_PER_ACTOR               | 0.15                                 |\n",
      "| CPU_PER_ACTOR               | 5                                    |\n",
      "| N_EPOCHS                    | 5                                    |\n",
      "| N_TRAIN                     | 145000                               |\n",
      "| N_VAL                       | 145000                               |\n",
      "| BATCHSIZE                   | 5000                                 |\n",
      "| PREDICT_LABEL               | False                                |\n",
      "| TARGET_BITS                 | []                                   |\n",
      "| EARLY_STOPPING              | True                                 |\n",
      "| EARLY_STOPPING_P_VALUE      | 1e-10                                |\n",
      "| CREATE_NEW_SELECTIONS       | True                                 |\n",
      "| MODEL_STRENGTH              | 1                                    |\n",
      "| VALIDATION_BATCH_SIZE       | 145000                               |\n",
      "| SAVE_WEIGHTS                | False                                |\n",
      "| RESULTING BITS IN DATA-ROW  | 1024                                 |\n",
      "| RESULTING N SELECTED BITS   | 63                                   |\n",
      "| RESULTING N TOTAL BITS      | 1024                                 |\n",
      "| RESULTING NN INPUT NEURONS  | 1024                                 |\n",
      "| RESULTING NN OUTPUT NEURONS | 63                                   |\n",
      "\n",
      "\n",
      "||           time            |   NN finished   | pred. bits ||  best bit  |  acc (%)   |   n pred   |  p value   ||\n",
      "===================================================================================================================\n",
      "||   2022-06-05_15h47m00s    |      0/100      |   0/1024   ||    nan     |    nan     |    nan     |    nan     ||\n",
      "||   2022-06-05_15h47m42s    |      1/100      |  63/1024   ||    523     |   50.328   |     1      |   0.013    ||\n",
      "||   2022-06-05_15h47m43s    |      2/100      |  124/1024  ||    523     |   50.328   |     1      |   0.013    ||\n",
      "||   2022-06-05_15h47m43s    |      4/100      |  186/1024  ||    523     |   50.328   |     1      |   0.013    ||\n",
      "||   2022-06-05_15h47m43s    |      4/100      |  244/1024  ||    523     |   50.328   |     1      |   0.013    ||\n",
      "||   2022-06-05_15h47m43s    |      5/100      |  304/1024  ||    523     |   50.328   |     1      |   0.013    ||\n",
      "||   2022-06-05_15h47m43s    |      6/100      |  359/1024  ||    444     |   50.497   |     1      |  0.00015   ||\n",
      "||   2022-06-05_15h47m43s    |      7/100      |  408/1024  ||    444     |   50.497   |     1      |  0.00015   ||\n",
      "||   2022-06-05_15h47m43s    |      8/100      |  453/1024  ||    444     |   50.497   |     1      |  0.00015   ||\n",
      "||   2022-06-05_15h47m43s    |     10/100      |  547/1024  ||    444     |   50.497   |     1      |  0.00015   ||\n",
      "||   2022-06-05_15h47m43s    |     11/100      |  547/1024  ||    444     |   50.497   |     1      |  0.00015   ||\n",
      "||   2022-06-05_15h47m43s    |     11/100      |  591/1024  ||    444     |   50.497   |     1      |  0.00015   ||\n",
      "||   2022-06-05_15h47m43s    |     12/100      |  637/1024  ||    716     |   50.812   |     1      |  6.4e-10   ||\n",
      "||   2022-06-05_15h47m43s    |     13/100      |  680/1024  ||    716     |   50.812   |     1      |  6.4e-10   ||\n",
      "||   2022-06-05_15h47m44s    |     15/100      |  717/1024  ||    716     |   50.812   |     1      |  6.4e-10   ||\n",
      "||   2022-06-05_15h47m44s    |     15/100      |  757/1024  ||    716     |   50.812   |     1      |  6.4e-10   ||\n",
      "||   2022-06-05_15h47m44s    |     16/100      |  791/1024  ||    716     |   50.812   |     1      |  6.4e-10   ||\n",
      "||   2022-06-05_15h47m44s    |     17/100      |  823/1024  ||    732     |   50.899   |     1      |  7.6e-12   ||\n",
      "p-value is below limit ==> stop analysis.\n",
      "||   2022-06-05_15h47m44s    |     18/100      |  848/1024  ||    732     |   50.899   |     1      |  7.6e-12   ||\n",
      "\u001B[0m"
     ]
    }
   ],
   "source": [
    "import toml\n",
    "from nnbits.filemanager import FileManager\n",
    "\n",
    "for r in ROUND_IDs:\n",
    "    \n",
    "    # choose where to save the data\n",
    "    savepath = f'demo_speck32_roundid{r}'\n",
    "    !rm -r '{savepath}'\n",
    "    !mkdir '{savepath}'\n",
    "    \n",
    "    # choose the settings\n",
    "    config = {'DATAPATH': f'speck_32_64/round{r}_sequences300k.npy',\n",
    "               # ensemble settings\n",
    "                 'NEURAL_NETWORK_MODEL': 'gohr_generalized', \n",
    "                 'NEURAL_NETWORKS': 100, \n",
    "                 'SELECT_BITS_STRATEGY': 'random', \n",
    "                 'INPUT_DATA_OP': 'zero', \n",
    "                 'N_RANDOM_BITS': 63,\n",
    "               # hardware settings\n",
    "                 'N_GPUS': 4,\n",
    "                 'N_ACTORS_PER_GPU': 6,\n",
    "                 'GPU_PER_ACTOR': 0.15,\n",
    "                 'CPU_PER_ACTOR': 5, \n",
    "               # training settings\n",
    "                 'N_EPOCHS': 5,\n",
    "                 'N_TRAIN': 145_000,\n",
    "                 'N_VAL': 145_000,\n",
    "                 'BATCHSIZE': 5000}\n",
    "    \n",
    "    # save the configuration file\n",
    "    F = FileManager(savepath)\n",
    "\n",
    "    with open(F.filename_config(), 'w') as configfile:\n",
    "        toml.dump(config, configfile)\n",
    "        \n",
    "    #============ run the analysis ============\n",
    "    !python -m nnbits.run --savepath '{savepath}'"
   ]
  },
  {
   "cell_type": "markdown",
   "id": "ae1b8a34",
   "metadata": {
    "pycharm": {
     "name": "#%% md\n"
    }
   },
   "source": [
    "# Analyze the results "
   ]
  },
  {
   "cell_type": "code",
   "execution_count": 5,
   "id": "f950a646",
   "metadata": {
    "ExecuteTime": {
     "end_time": "2022-06-05T11:46:21.276151Z",
     "start_time": "2022-06-05T11:46:21.273778Z"
    },
    "pycharm": {
     "name": "#%%\n"
    }
   },
   "outputs": [],
   "source": [
    "import numpy as np"
   ]
  },
  {
   "cell_type": "markdown",
   "id": "d3d0f847",
   "metadata": {
    "pycharm": {
     "name": "#%% md\n"
    }
   },
   "source": [
    "Each neural network has been tested on the test-data and the results are saved in the `test_accuracies` folder:"
   ]
  },
  {
   "cell_type": "code",
   "execution_count": 6,
   "id": "b5346352",
   "metadata": {
    "ExecuteTime": {
     "end_time": "2022-06-05T11:46:22.326390Z",
     "start_time": "2022-06-05T11:46:22.181018Z"
    },
    "pycharm": {
     "name": "#%%\n"
    }
   },
   "outputs": [
    {
     "name": "stdout",
     "output_type": "stream",
     "text": [
      "bit_selections\th5    run_log.pkl      test_accuracies_bit_by_bit\n",
      "config.cfg\thist  test_accuracies\n"
     ]
    }
   ],
   "source": [
    "!ls 'demo_speck32_roundid6'"
   ]
  },
  {
   "cell_type": "code",
   "execution_count": 7,
   "id": "1cf33933",
   "metadata": {
    "ExecuteTime": {
     "end_time": "2022-06-05T11:46:22.929269Z",
     "start_time": "2022-06-05T11:46:22.784341Z"
    },
    "pycharm": {
     "name": "#%%\n"
    }
   },
   "outputs": [
    {
     "name": "stdout",
     "output_type": "stream",
     "text": [
      "0.npy\t19.npy\t28.npy\t37.npy\t46.npy\t55.npy\t64.npy\t73.npy\t82.npy\t91.npy\n",
      "10.npy\t1.npy\t29.npy\t38.npy\t47.npy\t56.npy\t65.npy\t74.npy\t83.npy\t92.npy\n",
      "11.npy\t20.npy\t2.npy\t39.npy\t48.npy\t57.npy\t66.npy\t75.npy\t84.npy\t93.npy\n",
      "12.npy\t21.npy\t30.npy\t3.npy\t49.npy\t58.npy\t67.npy\t76.npy\t85.npy\t94.npy\n",
      "13.npy\t22.npy\t31.npy\t40.npy\t4.npy\t59.npy\t68.npy\t77.npy\t86.npy\t95.npy\n",
      "14.npy\t23.npy\t32.npy\t41.npy\t50.npy\t5.npy\t69.npy\t78.npy\t87.npy\t96.npy\n",
      "15.npy\t24.npy\t33.npy\t42.npy\t51.npy\t60.npy\t6.npy\t79.npy\t88.npy\t97.npy\n",
      "16.npy\t25.npy\t34.npy\t43.npy\t52.npy\t61.npy\t70.npy\t7.npy\t89.npy\t98.npy\n",
      "17.npy\t26.npy\t35.npy\t44.npy\t53.npy\t62.npy\t71.npy\t80.npy\t8.npy\t99.npy\n",
      "18.npy\t27.npy\t36.npy\t45.npy\t54.npy\t63.npy\t72.npy\t81.npy\t90.npy\t9.npy\n"
     ]
    }
   ],
   "source": [
    "!ls 'demo_speck32_roundid6/test_accuracies'"
   ]
  },
  {
   "cell_type": "code",
   "execution_count": 8,
   "id": "d07a1b8e",
   "metadata": {
    "ExecuteTime": {
     "end_time": "2022-06-05T11:46:23.829223Z",
     "start_time": "2022-06-05T11:46:23.825672Z"
    },
    "pycharm": {
     "name": "#%%\n"
    }
   },
   "outputs": [],
   "source": [
    "# the file-manager is a simple module which knows under which path to search for e.g. the test_accuracies:\n",
    "from nnbits.filemanager import FileManager\n",
    "F = FileManager('demo_speck32_roundid6') "
   ]
  },
  {
   "cell_type": "code",
   "execution_count": 9,
   "id": "654465c3",
   "metadata": {
    "ExecuteTime": {
     "end_time": "2022-06-05T11:46:25.182633Z",
     "start_time": "2022-06-05T11:46:25.146906Z"
    },
    "pycharm": {
     "name": "#%%\n"
    }
   },
   "outputs": [
    {
     "data": {
      "text/plain": [
       "(100, 1024)"
      ]
     },
     "execution_count": 9,
     "metadata": {},
     "output_type": "execute_result"
    }
   ],
   "source": [
    "# given a file-manager, the get_X function loads all the test_accuracies from above into a single array:\n",
    "from nnbits.bitanalysis import get_X\n",
    "X = get_X(F)\n",
    "# X contains one row for each of the `N` neural network and one column for each of the `n` bits:\n",
    "X.shape"
   ]
  },
  {
   "cell_type": "code",
   "execution_count": 10,
   "id": "9752828e",
   "metadata": {
    "ExecuteTime": {
     "end_time": "2022-06-05T11:46:28.087305Z",
     "start_time": "2022-06-05T11:46:28.084237Z"
    },
    "pycharm": {
     "name": "#%%\n"
    }
   },
   "outputs": [],
   "source": [
    "# the bit accuracies are calculated by taking the mean over all neural networks which predict the particular bit \n",
    "# (axis=0):\n",
    "bit_accuracies = np.nanmean(X, axis=0)"
   ]
  },
  {
   "cell_type": "code",
   "execution_count": 11,
   "id": "15063129",
   "metadata": {
    "ExecuteTime": {
     "end_time": "2022-06-05T11:46:28.612142Z",
     "start_time": "2022-06-05T11:46:28.448131Z"
    },
    "pycharm": {
     "name": "#%%\n"
    }
   },
   "outputs": [
    {
     "data": {
      "text/html": [
       "<div>\n",
       "<style scoped>\n",
       "    .dataframe tbody tr th:only-of-type {\n",
       "        vertical-align: middle;\n",
       "    }\n",
       "\n",
       "    .dataframe tbody tr th {\n",
       "        vertical-align: top;\n",
       "    }\n",
       "\n",
       "    .dataframe thead th {\n",
       "        text-align: right;\n",
       "    }\n",
       "</style>\n",
       "<table border=\"1\" class=\"dataframe\">\n",
       "  <thead>\n",
       "    <tr style=\"text-align: right;\">\n",
       "      <th></th>\n",
       "      <th>bit</th>\n",
       "      <th>mean accuracy</th>\n",
       "    </tr>\n",
       "  </thead>\n",
       "  <tbody>\n",
       "    <tr>\n",
       "      <th>716</th>\n",
       "      <td>716</td>\n",
       "      <td>0.506580</td>\n",
       "    </tr>\n",
       "    <tr>\n",
       "      <th>732</th>\n",
       "      <td>732</td>\n",
       "      <td>0.505576</td>\n",
       "    </tr>\n",
       "    <tr>\n",
       "      <th>961</th>\n",
       "      <td>961</td>\n",
       "      <td>0.501742</td>\n",
       "    </tr>\n",
       "    <tr>\n",
       "      <th>583</th>\n",
       "      <td>583</td>\n",
       "      <td>0.501731</td>\n",
       "    </tr>\n",
       "    <tr>\n",
       "      <th>685</th>\n",
       "      <td>685</td>\n",
       "      <td>0.501573</td>\n",
       "    </tr>\n",
       "    <tr>\n",
       "      <th>...</th>\n",
       "      <td>...</td>\n",
       "      <td>...</td>\n",
       "    </tr>\n",
       "    <tr>\n",
       "      <th>997</th>\n",
       "      <td>997</td>\n",
       "      <td>0.498548</td>\n",
       "    </tr>\n",
       "    <tr>\n",
       "      <th>293</th>\n",
       "      <td>293</td>\n",
       "      <td>0.498417</td>\n",
       "    </tr>\n",
       "    <tr>\n",
       "      <th>339</th>\n",
       "      <td>339</td>\n",
       "      <td>0.498370</td>\n",
       "    </tr>\n",
       "    <tr>\n",
       "      <th>301</th>\n",
       "      <td>301</td>\n",
       "      <td>0.498214</td>\n",
       "    </tr>\n",
       "    <tr>\n",
       "      <th>786</th>\n",
       "      <td>786</td>\n",
       "      <td>0.497446</td>\n",
       "    </tr>\n",
       "  </tbody>\n",
       "</table>\n",
       "<p>1024 rows × 2 columns</p>\n",
       "</div>"
      ],
      "text/plain": [
       "     bit  mean accuracy\n",
       "716  716       0.506580\n",
       "732  732       0.505576\n",
       "961  961       0.501742\n",
       "583  583       0.501731\n",
       "685  685       0.501573\n",
       "..   ...            ...\n",
       "997  997       0.498548\n",
       "293  293       0.498417\n",
       "339  339       0.498370\n",
       "301  301       0.498214\n",
       "786  786       0.497446\n",
       "\n",
       "[1024 rows x 2 columns]"
      ]
     },
     "execution_count": 11,
     "metadata": {},
     "output_type": "execute_result"
    }
   ],
   "source": [
    "import pandas as pd\n",
    "df = pd.DataFrame({'bit': np.arange(1024), \n",
    "                   'mean accuracy': bit_accuracies})\n",
    "\n",
    "df.sort_values('mean accuracy', ascending=False)"
   ]
  },
  {
   "cell_type": "code",
   "execution_count": 12,
   "id": "e0605515",
   "metadata": {
    "ExecuteTime": {
     "end_time": "2022-06-05T11:46:33.835747Z",
     "start_time": "2022-06-05T11:46:33.457403Z"
    },
    "pycharm": {
     "name": "#%%\n"
    }
   },
   "outputs": [
    {
     "data": {
      "text/plain": [
       "Text(0, 0.5, 'test accuracy')"
      ]
     },
     "execution_count": 12,
     "metadata": {},
     "output_type": "execute_result"
    },
    {
     "data": {
      "image/png": "[encoded data removed]",
      "text/plain": [
       "<Figure size 1500x450 with 1 Axes>"
      ]
     },
     "metadata": {
      "needs_background": "light"
     },
     "output_type": "display_data"
    }
   ],
   "source": [
    "import matplotlib.pyplot as plt\n",
    "\n",
    "# here we visualize the obtained `bit_accuracies`:\n",
    "plt.figure(figsize=(10, 3), dpi=150)\n",
    "plt.plot(bit_accuracies, 'o', markersize=3)\n",
    "plt.xlabel('bit id')\n",
    "plt.ylabel('test accuracy')"
   ]
  },
  {
   "cell_type": "code",
   "execution_count": null,
   "id": "fdb3da1d",
   "metadata": {
    "pycharm": {
     "name": "#%%\n"
    }
   },
   "outputs": [],
   "source": []
  }
 ],
 "metadata": {
  "kernelspec": {
   "display_name": "Python 3 (ipykernel)",
   "language": "python",
   "name": "python3"
  },
  "language_info": {
   "codemirror_mode": {
    "name": "ipython",
    "version": 3
   },
   "file_extension": ".py",
   "mimetype": "text/x-python",
   "name": "python",
   "nbconvert_exporter": "python",
   "pygments_lexer": "ipython3",
   "version": "3.8.12"
  },
  "latex_envs": {
   "LaTeX_envs_menu_present": true,
   "autoclose": false,
   "autocomplete": true,
   "bibliofile": "biblio.bib",
   "cite_by": "apalike",
   "current_citInitial": 1,
   "eqLabelWithNumbers": true,
   "eqNumInitial": 1,
   "hotkeys": {
    "equation": "Ctrl-E",
    "itemize": "Ctrl-I"
   },
   "labels_anchors": false,
   "latex_user_defs": false,
   "report_style_numbering": false,
   "user_envs_cfg": false
  },
  "toc": {
   "base_numbering": 1,
   "nav_menu": {},
   "number_sections": true,
   "sideBar": true,
   "skip_h1_title": false,
   "title_cell": "Table of Contents",
   "title_sidebar": "Contents",
   "toc_cell": true,
   "toc_position": {},
   "toc_section_display": true,
   "toc_window_display": true
  },
  "varInspector": {
   "cols": {
    "lenName": 16,
    "lenType": 16,
    "lenVar": 40
   },
   "kernels_config": {
    "python": {
     "delete_cmd_postfix": "",
     "delete_cmd_prefix": "del ",
     "library": "var_list.py",
     "varRefreshCmd": "print(var_dic_list())"
    },
    "r": {
     "delete_cmd_postfix": ") ",
     "delete_cmd_prefix": "rm(",
     "library": "var_list.r",
     "varRefreshCmd": "cat(var_dic_list()) "
    }
   },
   "types_to_exclude": [
    "module",
    "function",
    "builtin_function_or_method",
    "instance",
    "_Feature"
   ],
   "window_display": false
  }
 },
 "nbformat": 4,
 "nbformat_minor": 5
}
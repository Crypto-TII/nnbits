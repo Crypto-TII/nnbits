{
 "cells": [
  {
   "cell_type": "markdown",
   "id": "50a4f3cc",
   "metadata": {},
   "source": [
    "# Generate Data "
   ]
  },
  {
   "cell_type": "code",
   "execution_count": null,
   "id": "ba1f6ce5",
   "metadata": {},
   "outputs": [],
   "source": [
    "!mkdir 'speck_32_64'"
   ]
  },
  {
   "cell_type": "code",
   "execution_count": null,
   "id": "4f122013",
   "metadata": {},
   "outputs": [],
   "source": [
    "#### CONFIGURATION ######\n",
    "\n",
    "number_of_samples = 300_000\n",
    "\n",
    "#########################\n",
    "\n",
    "import speck_k64_p32_o32_r22 as data_generator\n",
    "import numpy as np\n",
    "\n",
    "dataset=data_generator.generate_avalanche_dataset(int(number_of_samples))\n",
    "for r in range(len(dataset)):\n",
    "    np.savez_compressed(f\"speck_32_64/round{r}_sequences300k.npy\", dataset=dataset[r])"
   ]
  },
  {
   "cell_type": "markdown",
   "id": "6e37d559",
   "metadata": {},
   "source": [
    "# Run `raydist` Test "
   ]
  },
  {
   "cell_type": "code",
   "execution_count": null,
   "id": "726dea30",
   "metadata": {},
   "outputs": [],
   "source": [
    "import toml\n",
    "from raydist.filemanager import FileManager\n",
    "\n",
    "for r in [0,1,2,3,4,5,6,7,8,21]:\n",
    "    \n",
    "    savepath = f'nc_speck32_roundid{r}'\n",
    "    !mkdir '{savepath}'\n",
    "\n",
    "    F = FileManager(savepath)\n",
    "    \n",
    "    datapath = f'speck_32_64/round{r}_sequences300k.npy'\n",
    "    \n",
    "    cfgdict = {'datapath': datapath,\n",
    "                 'N_BITS': 1024,\n",
    "                 'N_GPUS': 1,\n",
    "                 'N_ACTORS_PER_GPU': 6,\n",
    "                 'NUM_GPUS': 0.15,\n",
    "                 'NUM_CPUS': 5,\n",
    "                 'MODEL_ID': 'gohr_generalized',\n",
    "                 'MODEL_STRENGTH': 1,\n",
    "                 'MODEL_INPUTS': 1024,\n",
    "                 'MODEL_OUTPUTS': 63,\n",
    "                 'N_EPOCHS': 5,\n",
    "                 'N_TRAIN': 147456,\n",
    "                 'N_VAL': 145512,\n",
    "                 'BATCHSIZE': 4096,\n",
    "                 'EARLY_STOPPING': True,\n",
    "                 'MAKE_NEW_FILTERS': True,\n",
    "                 'N_FILTERS': 100,\n",
    "                 'N_INPUT_FILTER_ELEMENTS': 961,\n",
    "                 'FILTER_STRATEGY': 'random',\n",
    "                 'TARGET_BITS': [],\n",
    "                 'DATA_STRATEGY': 'zero'}\n",
    "                 \n",
    "    with open(F.filename_cfg(), 'w') as configfile:\n",
    "        toml.dump(cfgdict, configfile)\n",
    "        \n",
    "    print(\"=\"*len(datapath))\n",
    "    print(datapath)\n",
    "        \n",
    "    !python -m raydist.run --savepath '{savepath}'"
   ]
  }
 ],
 "metadata": {
  "kernelspec": {
   "display_name": "Python 3 (ipykernel)",
   "language": "python",
   "name": "python3"
  },
  "language_info": {
   "codemirror_mode": {
    "name": "ipython",
    "version": 3
   },
   "file_extension": ".py",
   "mimetype": "text/x-python",
   "name": "python",
   "nbconvert_exporter": "python",
   "pygments_lexer": "ipython3",
   "version": "3.8.12"
  },
  "latex_envs": {
   "LaTeX_envs_menu_present": true,
   "autoclose": false,
   "autocomplete": true,
   "bibliofile": "biblio.bib",
   "cite_by": "apalike",
   "current_citInitial": 1,
   "eqLabelWithNumbers": true,
   "eqNumInitial": 1,
   "hotkeys": {
    "equation": "Ctrl-E",
    "itemize": "Ctrl-I"
   },
   "labels_anchors": false,
   "latex_user_defs": false,
   "report_style_numbering": false,
   "user_envs_cfg": false
  },
  "toc": {
   "base_numbering": 1,
   "nav_menu": {},
   "number_sections": true,
   "sideBar": true,
   "skip_h1_title": false,
   "title_cell": "Table of Contents",
   "title_sidebar": "Contents",
   "toc_cell": false,
   "toc_position": {},
   "toc_section_display": true,
   "toc_window_display": false
  },
  "varInspector": {
   "cols": {
    "lenName": 16,
    "lenType": 16,
    "lenVar": 40
   },
   "kernels_config": {
    "python": {
     "delete_cmd_postfix": "",
     "delete_cmd_prefix": "del ",
     "library": "var_list.py",
     "varRefreshCmd": "print(var_dic_list())"
    },
    "r": {
     "delete_cmd_postfix": ") ",
     "delete_cmd_prefix": "rm(",
     "library": "var_list.r",
     "varRefreshCmd": "cat(var_dic_list()) "
    }
   },
   "types_to_exclude": [
    "module",
    "function",
    "builtin_function_or_method",
    "instance",
    "_Feature"
   ],
   "window_display": false
  }
 },
 "nbformat": 4,
 "nbformat_minor": 5
}

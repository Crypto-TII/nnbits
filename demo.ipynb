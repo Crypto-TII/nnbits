{
 "cells": [
  {
   "cell_type": "markdown",
   "id": "79d7c480",
   "metadata": {},
   "source": [
    "This demo shows how to use the `RayDist` repository by \n",
    "\n",
    "1. generating the avalanche dataset for round 7 of Speck 32/64\n",
    "2. exploring the computational resources\n",
    "3. running an ensemble neural network analysis\n",
    "\n",
    "It reproduces the corresponding results from the manuscript."
   ]
  },
  {
   "cell_type": "markdown",
   "id": "b8d3ffec",
   "metadata": {
    "toc": true
   },
   "source": [
    "<h1>Table of Contents<span class=\"tocSkip\"></span></h1>\n",
    "<div class=\"toc\"><ul class=\"toc-item\"><li><span><a href=\"#Install-Requirements\" data-toc-modified-id=\"Install-Requirements-1\"><span class=\"toc-item-num\">1&nbsp;&nbsp;</span>Install Requirements</a></span></li><li><span><a href=\"#Choose-a-round-to-analyze\" data-toc-modified-id=\"Choose-a-round-to-analyze-2\"><span class=\"toc-item-num\">2&nbsp;&nbsp;</span>Choose a round to analyze</a></span></li><li><span><a href=\"#Generate-avalanche-data\" data-toc-modified-id=\"Generate-avalanche-data-3\"><span class=\"toc-item-num\">3&nbsp;&nbsp;</span>Generate avalanche data</a></span></li><li><span><a href=\"#Have-a-look-at-the-available-resources\" data-toc-modified-id=\"Have-a-look-at-the-available-resources-4\"><span class=\"toc-item-num\">4&nbsp;&nbsp;</span>Have a look at the available resources</a></span></li><li><span><a href=\"#Run-RayDist-neural-network-analysis\" data-toc-modified-id=\"Run-RayDist-neural-network-analysis-5\"><span class=\"toc-item-num\">5&nbsp;&nbsp;</span>Run <code>RayDist</code> neural network analysis</a></span></li><li><span><a href=\"#Analyze-the-results\" data-toc-modified-id=\"Analyze-the-results-6\"><span class=\"toc-item-num\">6&nbsp;&nbsp;</span>Analyze the results</a></span></li></ul></div>"
   ]
  },
  {
   "cell_type": "markdown",
   "id": "8fcdf9b5",
   "metadata": {},
   "source": [
    "Please execute the following cells by pressing \n",
    "\n",
    "`Shift + Enter`"
   ]
  },
  {
   "cell_type": "markdown",
   "id": "1a79dfc6",
   "metadata": {},
   "source": [
    "# Install Requirements "
   ]
  },
  {
   "cell_type": "markdown",
   "id": "61547790",
   "metadata": {},
   "source": [
    "The following modules are required: "
   ]
  },
  {
   "cell_type": "code",
   "execution_count": 9,
   "id": "71fd544a",
   "metadata": {
    "ExecuteTime": {
     "end_time": "2022-06-04T07:18:13.985398Z",
     "start_time": "2022-06-04T07:18:13.658635Z"
    }
   },
   "outputs": [
    {
     "name": "stdout",
     "output_type": "stream",
     "text": [
      "tensorflow\r\n",
      "numpy\r\n",
      "pandas\r\n",
      "matplotlib\r\n",
      "toml\r\n",
      "ray\r\n",
      "watchdog\r\n",
      "\r\n",
      "scipy == 1.7.3"
     ]
    }
   ],
   "source": [
    "%cat requirements.txt"
   ]
  },
  {
   "cell_type": "markdown",
   "id": "b641fb7e",
   "metadata": {},
   "source": [
    "Install the requirements by running the following cell. "
   ]
  },
  {
   "cell_type": "code",
   "execution_count": null,
   "id": "e5703088",
   "metadata": {},
   "outputs": [],
   "source": [
    "!pip install -r requirements.txt"
   ]
  },
  {
   "cell_type": "markdown",
   "id": "f28acbef",
   "metadata": {},
   "source": [
    "# Choose a round to analyze "
   ]
  },
  {
   "cell_type": "code",
   "execution_count": 5,
   "id": "74cbef0a",
   "metadata": {
    "ExecuteTime": {
     "end_time": "2022-06-04T07:05:48.018566Z",
     "start_time": "2022-06-04T07:05:48.016428Z"
    }
   },
   "outputs": [],
   "source": [
    "# Here we will analyze round 7 of Speck 32/64.\n",
    "# The corresponding round-id is round 6 (we start counting the round-id from zero):\n",
    "ROUND_IDs = [6]"
   ]
  },
  {
   "cell_type": "markdown",
   "id": "8f70d02d",
   "metadata": {},
   "source": [
    "# Generate avalanche data "
   ]
  },
  {
   "cell_type": "markdown",
   "id": "49986660",
   "metadata": {},
   "source": [
    "Create a folder for the data"
   ]
  },
  {
   "cell_type": "code",
   "execution_count": 8,
   "id": "4ddea48f",
   "metadata": {
    "ExecuteTime": {
     "end_time": "2022-05-19T08:15:56.904775Z",
     "start_time": "2022-05-19T08:15:56.688420Z"
    }
   },
   "outputs": [],
   "source": [
    "!mkdir 'speck_32_64'"
   ]
  },
  {
   "cell_type": "markdown",
   "id": "e0192030",
   "metadata": {},
   "source": [
    "Generate `number_of_samples = 300_000` avalanche units"
   ]
  },
  {
   "cell_type": "code",
   "execution_count": 10,
   "id": "ede1541f",
   "metadata": {
    "ExecuteTime": {
     "end_time": "2022-05-19T08:18:02.564090Z",
     "start_time": "2022-05-19T08:16:33.289946Z"
    }
   },
   "outputs": [],
   "source": [
    "#### CONFIGURATION ######\n",
    "\n",
    "number_of_samples = 300_000\n",
    "\n",
    "#########################\n",
    "\n",
    "from avalanche_data_generator.speck_32_64 import speck_k64_p32_o32_r22 as data_generator\n",
    "import numpy as np\n",
    "\n",
    "dataset=data_generator.generate_avalanche_dataset(int(number_of_samples))\n",
    "\n",
    "for r in ROUND_IDs:\n",
    "    np.save(f\"speck_32_64/round{r}_sequences300k.npy\", dataset[ROUND_ID])"
   ]
  },
  {
   "cell_type": "markdown",
   "id": "c66df706",
   "metadata": {},
   "source": [
    "# Have a look at the available resources \n",
    "\n",
    "The Nvidia A100-DGX server provides \n",
    "\n",
    "* `4 A100-SXM GPUs, each with 40'536 MiB memory (and in addition a graphical GPU)` \n",
    "* `128 CPU cores`\n",
    "\n",
    "In comparison, the free Google Colaboratory provides\n",
    "\n",
    "* `1 Tesla T4 GPU with 15'109 MiB memory`\n",
    "* `2 CPU cores`\n",
    "\n",
    "The available resources can be explored by using for example the `ray.available_resources()` or `nvidia-smi`:"
   ]
  },
  {
   "cell_type": "code",
   "execution_count": 1,
   "id": "d89ebfd7",
   "metadata": {
    "ExecuteTime": {
     "end_time": "2022-06-04T06:54:45.203333Z",
     "start_time": "2022-06-04T06:54:41.596826Z"
    }
   },
   "outputs": [
    {
     "data": {
      "text/plain": [
       "{'GPU': 5.0,\n",
       " 'object_store_memory': 94416284467.0,\n",
       " 'memory': 210304663757.0,\n",
       " 'CPU': 128.0,\n",
       " 'node:172.31.102.80': 1.0}"
      ]
     },
     "execution_count": 1,
     "metadata": {},
     "output_type": "execute_result"
    }
   ],
   "source": [
    "import ray\n",
    "ray.init()\n",
    "ray.available_resources()"
   ]
  },
  {
   "cell_type": "code",
   "execution_count": 2,
   "id": "cabc71e8",
   "metadata": {
    "ExecuteTime": {
     "end_time": "2022-06-04T06:54:46.077342Z",
     "start_time": "2022-06-04T06:54:45.207831Z"
    }
   },
   "outputs": [
    {
     "name": "stdout",
     "output_type": "stream",
     "text": [
      "Sat Jun  4 10:54:45 2022       \n",
      "+-----------------------------------------------------------------------------+\n",
      "| NVIDIA-SMI 495.29.05    Driver Version: 495.29.05    CUDA Version: 11.5     |\n",
      "|-------------------------------+----------------------+----------------------+\n",
      "| GPU  Name        Persistence-M| Bus-Id        Disp.A | Volatile Uncorr. ECC |\n",
      "| Fan  Temp  Perf  Pwr:Usage/Cap|         Memory-Usage | GPU-Util  Compute M. |\n",
      "|                               |                      |               MIG M. |\n",
      "|===============================+======================+======================|\n",
      "|   0  NVIDIA A100-SXM...  On   | 00000000:01:00.0 Off |                    0 |\n",
      "| N/A   36C    P0    51W / 275W |      3MiB / 40536MiB |      0%      Default |\n",
      "|                               |                      |             Disabled |\n",
      "+-------------------------------+----------------------+----------------------+\n",
      "|   1  NVIDIA A100-SXM...  On   | 00000000:47:00.0 Off |                    0 |\n",
      "| N/A   37C    P0    53W / 275W |      3MiB / 40536MiB |      0%      Default |\n",
      "|                               |                      |             Disabled |\n",
      "+-------------------------------+----------------------+----------------------+\n",
      "|   2  NVIDIA A100-SXM...  On   | 00000000:81:00.0 Off |                    0 |\n",
      "| N/A   36C    P0    55W / 275W |      3MiB / 40536MiB |      0%      Default |\n",
      "|                               |                      |             Disabled |\n",
      "+-------------------------------+----------------------+----------------------+\n",
      "|   3  NVIDIA DGX Display  On   | 00000000:C1:00.0 Off |                  N/A |\n",
      "| 33%   38C    P8    N/A /  50W |     74MiB /  3911MiB |      0%      Default |\n",
      "|                               |                      |                  N/A |\n",
      "+-------------------------------+----------------------+----------------------+\n",
      "|   4  NVIDIA A100-SXM...  On   | 00000000:C2:00.0 Off |                    0 |\n",
      "| N/A   36C    P0    57W / 275W |      3MiB / 40536MiB |      0%      Default |\n",
      "|                               |                      |             Disabled |\n",
      "+-------------------------------+----------------------+----------------------+\n",
      "                                                                               \n",
      "+-----------------------------------------------------------------------------+\n",
      "| Processes:                                                                  |\n",
      "|  GPU   GI   CI        PID   Type   Process name                  GPU Memory |\n",
      "|        ID   ID                                                   Usage      |\n",
      "|=============================================================================|\n",
      "|    3   N/A  N/A      5658      G   /usr/lib/xorg/Xorg                 64MiB |\n",
      "|    3   N/A  N/A      5816      G   /usr/bin/gnome-shell                5MiB |\n",
      "+-----------------------------------------------------------------------------+\n"
     ]
    }
   ],
   "source": [
    "!nvidia-smi"
   ]
  },
  {
   "cell_type": "markdown",
   "id": "1c6095bd",
   "metadata": {},
   "source": [
    "# Run `RayDist` neural network analysis "
   ]
  },
  {
   "cell_type": "markdown",
   "id": "d4deeef8",
   "metadata": {},
   "source": [
    "If you are executing the Notebook on <font color='blue'>Google Colaboratory, please change</font> the following four lines in the cell below:\n",
    "\n",
    "```python\n",
    "...\n",
    "'N_GPUS': 1, \n",
    "'N_ACTORS_PER_GPU': 2,\n",
    "'NUM_GPUS': 0.5,\n",
    "'NUM_CPUS': 0.5 ,\n",
    "...\n",
    "```"
   ]
  },
  {
   "cell_type": "code",
   "execution_count": 8,
   "id": "3a22e0e4",
   "metadata": {
    "ExecuteTime": {
     "end_time": "2022-06-04T07:13:23.357176Z",
     "start_time": "2022-06-04T07:10:29.165424Z"
    }
   },
   "outputs": [
    {
     "name": "stdout",
     "output_type": "stream",
     "text": [
      "====================================\n",
      "speck_32_64/round6_sequences300k.npy\n",
      "||           time            |   NN finished   | pred. bits ||  best bit  |  acc (%)   |   n pred   |  p value   ||\n",
      "===================================================================================================================\n",
      "||   2022-06-04_11h10m35s    |      0/100      |   0/1024   ||    nan     |    nan     |    nan     |    nan     ||\n",
      "||   2022-06-04_11h11m18s    |      1/100      |  63/1024   ||    448     |   50.280   |     1      |   0.033    ||\n",
      "||   2022-06-04_11h11m18s    |      2/100      |  125/1024  ||    711     |   50.403   |     1      |   0.0021   ||\n",
      "||   2022-06-04_11h11m19s    |      3/100      |  180/1024  ||    244     |   50.403   |     1      |   0.0021   ||\n",
      "||   2022-06-04_11h11m19s    |      4/100      |  232/1024  ||    244     |   50.403   |     1      |   0.0021   ||\n",
      "||   2022-06-04_11h11m20s    |      5/100      |  289/1024  ||    244     |   50.403   |     1      |   0.0021   ||\n",
      "||   2022-06-04_11h11m20s    |      7/100      |  338/1024  ||    244     |   50.403   |     1      |   0.0021   ||\n",
      "||   2022-06-04_11h11m20s    |      7/100      |  393/1024  ||    244     |   50.403   |     1      |   0.0021   ||\n",
      "||   2022-06-04_11h11m20s    |      8/100      |  453/1024  ||    244     |   50.403   |     1      |   0.0021   ||\n",
      "||   2022-06-04_11h11m21s    |      9/100      |  492/1024  ||    244     |   50.403   |     1      |   0.0021   ||\n",
      "||   2022-06-04_11h11m21s    |     10/100      |  545/1024  ||    244     |   50.403   |     1      |   0.0021   ||\n",
      "||   2022-06-04_11h11m21s    |     11/100      |  599/1024  ||    244     |   50.403   |     1      |   0.0021   ||\n",
      "||   2022-06-04_11h11m21s    |     12/100      |  631/1024  ||    244     |   50.403   |     1      |   0.0021   ||\n",
      "||   2022-06-04_11h11m22s    |     13/100      |  682/1024  ||    244     |   50.403   |     1      |   0.0021   ||\n",
      "||   2022-06-04_11h11m22s    |     14/100      |  707/1024  ||    244     |   50.403   |     1      |   0.0021   ||\n",
      "||   2022-06-04_11h11m22s    |     15/100      |  752/1024  ||    244     |   50.403   |     1      |   0.0021   ||\n",
      "||   2022-06-04_11h11m22s    |     16/100      |  792/1024  ||    244     |   50.403   |     1      |   0.0021   ||\n",
      "||   2022-06-04_11h11m22s    |     17/100      |  813/1024  ||    244     |   50.403   |     1      |   0.0021   ||\n",
      "||   2022-06-04_11h11m22s    |     18/100      |  855/1024  ||    244     |   50.403   |     1      |   0.0021   ||\n",
      "||   2022-06-04_11h11m23s    |     20/100      |  896/1024  ||    244     |   50.403   |     1      |   0.0021   ||\n",
      "||   2022-06-04_11h11m24s    |     20/100      |  938/1024  ||    244     |   50.403   |     1      |   0.0021   ||\n",
      "||   2022-06-04_11h11m24s    |     21/100      |  981/1024  ||    244     |   50.403   |     1      |   0.0021   ||\n",
      "||   2022-06-04_11h11m24s    |     22/100      |  985/1024  ||    244     |   50.403   |     1      |   0.0021   ||\n",
      "||   2022-06-04_11h11m24s    |     23/100      |  991/1024  ||    244     |   50.403   |     1      |   0.0021   ||\n",
      "||   2022-06-04_11h11m25s    |     24/100      | 1024/1024  ||    244     |   50.403   |     1      |   0.0021   ||\n",
      "||   2022-06-04_11h11m55s    |     25/100      | 1024/1024  ||    244     |   50.403   |     1      |   0.0021   ||\n",
      "||   2022-06-04_11h11m56s    |     26/100      | 1024/1024  ||    244     |   50.403   |     1      |   0.0021   ||\n",
      "||   2022-06-04_11h11m57s    |     27/100      | 1024/1024  ||    244     |   50.403   |     1      |   0.0021   ||\n",
      "||   2022-06-04_11h11m57s    |     29/100      | 1024/1024  ||    244     |   50.403   |     1      |   0.0021   ||\n",
      "||   2022-06-04_11h11m57s    |     30/100      | 1024/1024  ||    732     |   50.339   |     2      |   0.0098   ||\n",
      "||   2022-06-04_11h11m57s    |     31/100      | 1024/1024  ||    732     |   50.339   |     2      |   0.0098   ||\n",
      "||   2022-06-04_11h11m57s    |     32/100      | 1024/1024  ||    732     |   50.339   |     2      |   0.0098   ||\n",
      "||   2022-06-04_11h11m57s    |     33/100      | 1024/1024  ||    732     |   50.339   |     2      |   0.0098   ||\n",
      "||   2022-06-04_11h11m57s    |     35/100      | 1024/1024  ||    732     |   50.339   |     2      |   0.0098   ||\n",
      "||   2022-06-04_11h11m57s    |     35/100      | 1024/1024  ||    732     |   50.532   |     3      |   5e-05    ||\n",
      "||   2022-06-04_11h11m57s    |     36/100      | 1024/1024  ||    732     |   50.532   |     3      |   5e-05    ||\n",
      "||   2022-06-04_11h11m57s    |     37/100      | 1024/1024  ||    732     |   50.532   |     3      |   5e-05    ||\n",
      "||   2022-06-04_11h11m58s    |     38/100      | 1024/1024  ||    732     |   50.532   |     3      |   5e-05    ||\n",
      "||   2022-06-04_11h11m58s    |     39/100      | 1024/1024  ||    732     |   50.532   |     3      |   5e-05    ||\n",
      "||   2022-06-04_11h11m58s    |     40/100      | 1024/1024  ||    732     |   50.532   |     3      |   5e-05    ||\n",
      "||   2022-06-04_11h11m58s    |     42/100      | 1024/1024  ||    732     |   50.532   |     3      |   5e-05    ||\n",
      "||   2022-06-04_11h11m58s    |     43/100      | 1024/1024  ||    732     |   50.532   |     3      |   5e-05    ||\n",
      "||   2022-06-04_11h11m58s    |     44/100      | 1024/1024  ||    732     |   50.532   |     3      |   5e-05    ||\n",
      "||   2022-06-04_11h11m58s    |     45/100      | 1024/1024  ||    732     |   50.532   |     3      |   5e-05    ||\n",
      "||   2022-06-04_11h11m58s    |     46/100      | 1024/1024  ||    732     |   50.532   |     3      |   5e-05    ||\n",
      "||   2022-06-04_11h11m59s    |     47/100      | 1024/1024  ||    732     |   50.532   |     3      |   5e-05    ||\n",
      "||   2022-06-04_11h11m59s    |     48/100      | 1024/1024  ||    732     |   50.532   |     3      |   5e-05    ||\n",
      "||   2022-06-04_11h12m30s    |     49/100      | 1024/1024  ||    732     |   50.532   |     3      |   5e-05    ||\n",
      "||   2022-06-04_11h12m31s    |     50/100      | 1024/1024  ||    732     |   50.532   |     3      |   5e-05    ||\n",
      "||   2022-06-04_11h12m31s    |     51/100      | 1024/1024  ||    732     |   50.532   |     3      |   5e-05    ||\n",
      "||   2022-06-04_11h12m31s    |     52/100      | 1024/1024  ||    732     |   50.532   |     3      |   5e-05    ||\n",
      "||   2022-06-04_11h12m31s    |     53/100      | 1024/1024  ||    732     |   50.532   |     3      |   5e-05    ||\n",
      "||   2022-06-04_11h12m31s    |     54/100      | 1024/1024  ||    732     |   50.532   |     3      |   5e-05    ||\n",
      "||   2022-06-04_11h12m32s    |     55/100      | 1024/1024  ||    732     |   50.539   |     4      |  3.9e-05   ||\n",
      "||   2022-06-04_11h12m32s    |     56/100      | 1024/1024  ||    732     |   50.539   |     4      |  3.9e-05   ||\n",
      "||   2022-06-04_11h12m32s    |     59/100      | 1024/1024  ||    732     |   50.539   |     4      |  3.9e-05   ||\n",
      "||   2022-06-04_11h12m32s    |     60/100      | 1024/1024  ||    732     |   50.539   |     4      |  3.9e-05   ||\n",
      "||   2022-06-04_11h12m32s    |     61/100      | 1024/1024  ||    732     |   50.539   |     4      |  3.9e-05   ||\n",
      "||   2022-06-04_11h12m32s    |     62/100      | 1024/1024  ||    732     |   50.539   |     4      |  3.9e-05   ||\n",
      "||   2022-06-04_11h12m32s    |     64/100      | 1024/1024  ||    732     |   50.539   |     4      |  3.9e-05   ||\n",
      "||   2022-06-04_11h12m32s    |     65/100      | 1024/1024  ||    732     |   50.539   |     4      |  3.9e-05   ||\n",
      "||   2022-06-04_11h12m32s    |     66/100      | 1024/1024  ||    732     |   50.539   |     4      |  3.9e-05   ||\n",
      "||   2022-06-04_11h12m32s    |     68/100      | 1024/1024  ||    732     |   50.539   |     4      |  3.9e-05   ||\n",
      "||   2022-06-04_11h12m33s    |     68/100      | 1024/1024  ||    732     |   50.539   |     4      |  3.9e-05   ||\n",
      "||   2022-06-04_11h12m33s    |     69/100      | 1024/1024  ||    732     |   50.539   |     4      |  3.9e-05   ||\n",
      "||   2022-06-04_11h12m33s    |     70/100      | 1024/1024  ||    732     |   50.539   |     4      |  3.9e-05   ||\n",
      "||   2022-06-04_11h12m33s    |     71/100      | 1024/1024  ||    732     |   50.539   |     4      |  3.9e-05   ||\n",
      "||   2022-06-04_11h12m33s    |     72/100      | 1024/1024  ||    732     |   50.628   |     5      |  1.7e-06   ||\n"
     ]
    },
    {
     "name": "stdout",
     "output_type": "stream",
     "text": [
      "||   2022-06-04_11h13m04s    |     73/100      | 1024/1024  ||    732     |   50.628   |     5      |  1.7e-06   ||\n",
      "||   2022-06-04_11h13m05s    |     74/100      | 1024/1024  ||    732     |   50.628   |     5      |  1.7e-06   ||\n",
      "||   2022-06-04_11h13m05s    |     75/100      | 1024/1024  ||    732     |   50.628   |     5      |  1.7e-06   ||\n",
      "||   2022-06-04_11h13m05s    |     76/100      | 1024/1024  ||    732     |   50.628   |     5      |  1.7e-06   ||\n",
      "||   2022-06-04_11h13m05s    |     77/100      | 1024/1024  ||    732     |   50.628   |     5      |  1.7e-06   ||\n",
      "||   2022-06-04_11h13m05s    |     78/100      | 1024/1024  ||    732     |   50.628   |     5      |  1.7e-06   ||\n",
      "||   2022-06-04_11h13m05s    |     79/100      | 1024/1024  ||    732     |   50.628   |     5      |  1.7e-06   ||\n",
      "||   2022-06-04_11h13m05s    |     80/100      | 1024/1024  ||    732     |   50.628   |     5      |  1.7e-06   ||\n",
      "||   2022-06-04_11h13m06s    |     82/100      | 1024/1024  ||    732     |   50.628   |     5      |  1.7e-06   ||\n",
      "||   2022-06-04_11h13m06s    |     83/100      | 1024/1024  ||    732     |   50.628   |     5      |  1.7e-06   ||\n",
      "||   2022-06-04_11h13m06s    |     84/100      | 1024/1024  ||    732     |   50.628   |     5      |  1.7e-06   ||\n",
      "||   2022-06-04_11h13m06s    |     86/100      | 1024/1024  ||    732     |   50.651   |     6      |   7e-07    ||\n",
      "||   2022-06-04_11h13m06s    |     87/100      | 1024/1024  ||    732     |   50.651   |     6      |   7e-07    ||\n",
      "||   2022-06-04_11h13m06s    |     90/100      | 1024/1024  ||    732     |   50.651   |     6      |   7e-07    ||\n",
      "||   2022-06-04_11h13m06s    |     91/100      | 1024/1024  ||    732     |   50.651   |     6      |   7e-07    ||\n",
      "||   2022-06-04_11h13m06s    |     93/100      | 1024/1024  ||    732     |   50.651   |     6      |   7e-07    ||\n",
      "||   2022-06-04_11h13m07s    |     94/100      | 1024/1024  ||    732     |   50.651   |     6      |   7e-07    ||\n",
      "||   2022-06-04_11h13m07s    |     95/100      | 1024/1024  ||    732     |   50.651   |     6      |   7e-07    ||\n",
      "||   2022-06-04_11h13m07s    |     96/100      | 1024/1024  ||    732     |   50.651   |     6      |   7e-07    ||\n",
      "||   2022-06-04_11h13m18s    |     97/100      | 1024/1024  ||    732     |   50.651   |     6      |   7e-07    ||\n",
      "||   2022-06-04_11h13m19s    |     98/100      | 1024/1024  ||    732     |   50.651   |     6      |   7e-07    ||\n",
      "||   2022-06-04_11h13m19s    |     99/100      | 1024/1024  ||    732     |   50.651   |     6      |   7e-07    ||\n",
      "||   2022-06-04_11h13m19s    |     100/100     | 1024/1024  ||    732     |   50.651   |     6      |   7e-07    ||\n",
      "\u001b[0m"
     ]
    }
   ],
   "source": [
    "import toml\n",
    "from raydist.filemanager import FileManager\n",
    "\n",
    "for r in ROUND_IDs:\n",
    "    \n",
    "    savepath = f'demo_speck32_roundid{r}'\n",
    "    !mkdir '{savepath}'\n",
    "\n",
    "    F = FileManager(savepath)\n",
    "    \n",
    "    datapath = f'speck_32_64/round{r}_sequences300k.npy'\n",
    "    \n",
    "    # the meaning of each parameter is explained in detail in \n",
    "    # `raydist/example_config.cfg`\n",
    "    cfgdict = {'datapath': datapath,\n",
    "                 'N_BITS': 1024,\n",
    "                 'N_GPUS': 4,\n",
    "                 'N_ACTORS_PER_GPU': 6,\n",
    "                 'NUM_GPUS': 0.15,\n",
    "                 'NUM_CPUS': 5,\n",
    "                 'MODEL_ID': 'gohr_generalized',\n",
    "                 'MODEL_STRENGTH': 1,\n",
    "                 'MODEL_INPUTS': 1024,\n",
    "                 'MODEL_OUTPUTS': 63,\n",
    "                 'N_EPOCHS': 5,\n",
    "                 'N_TRAIN': 147456,\n",
    "                 'N_VAL': 145512,\n",
    "                 'BATCHSIZE': 4096,\n",
    "                 'EARLY_STOPPING': True,\n",
    "                 'MAKE_NEW_FILTERS': True,\n",
    "                 'N_FILTERS': 100,\n",
    "                 'N_INPUT_FILTER_ELEMENTS': 961,\n",
    "                 'FILTER_STRATEGY': 'random',\n",
    "                 'TARGET_BITS': [],\n",
    "                 'SAVE_WEIGHTS': False,\n",
    "                 'DATA_STRATEGY': 'zero'}\n",
    "                 \n",
    "    with open(F.filename_cfg(), 'w') as configfile:\n",
    "        toml.dump(cfgdict, configfile)\n",
    "        \n",
    "    print(\"=\"*len(datapath))\n",
    "    print(datapath)\n",
    "        \n",
    "    !python -m raydist.run --savepath '{savepath}'"
   ]
  },
  {
   "cell_type": "markdown",
   "id": "ae1b8a34",
   "metadata": {},
   "source": [
    "# Analyze the results "
   ]
  },
  {
   "cell_type": "code",
   "execution_count": 11,
   "id": "f950a646",
   "metadata": {
    "ExecuteTime": {
     "end_time": "2022-06-04T07:24:49.792310Z",
     "start_time": "2022-06-04T07:24:49.408011Z"
    }
   },
   "outputs": [],
   "source": [
    "import numpy as np"
   ]
  },
  {
   "cell_type": "markdown",
   "id": "d3d0f847",
   "metadata": {},
   "source": [
    "Each neural network has been tested on the test-data and the results are saved in the `test_accuracies` folder:"
   ]
  },
  {
   "cell_type": "code",
   "execution_count": 33,
   "id": "b5346352",
   "metadata": {
    "ExecuteTime": {
     "end_time": "2022-06-04T07:28:30.544198Z",
     "start_time": "2022-06-04T07:28:30.392867Z"
    }
   },
   "outputs": [
    {
     "name": "stdout",
     "output_type": "stream",
     "text": [
      "config.cfg  h5\t  run_log.pkl\t   test_accuracies_bit_by_bit\r\n",
      "filters     hist  test_accuracies\r\n"
     ]
    }
   ],
   "source": [
    "!ls 'demo_speck32_roundid6'"
   ]
  },
  {
   "cell_type": "code",
   "execution_count": 34,
   "id": "1cf33933",
   "metadata": {
    "ExecuteTime": {
     "end_time": "2022-06-04T07:29:07.849153Z",
     "start_time": "2022-06-04T07:29:07.697997Z"
    }
   },
   "outputs": [
    {
     "name": "stdout",
     "output_type": "stream",
     "text": [
      "0.npy\t19.npy\t28.npy\t37.npy\t46.npy\t55.npy\t64.npy\t73.npy\t82.npy\t91.npy\r\n",
      "10.npy\t1.npy\t29.npy\t38.npy\t47.npy\t56.npy\t65.npy\t74.npy\t83.npy\t92.npy\r\n",
      "11.npy\t20.npy\t2.npy\t39.npy\t48.npy\t57.npy\t66.npy\t75.npy\t84.npy\t93.npy\r\n",
      "12.npy\t21.npy\t30.npy\t3.npy\t49.npy\t58.npy\t67.npy\t76.npy\t85.npy\t94.npy\r\n",
      "13.npy\t22.npy\t31.npy\t40.npy\t4.npy\t59.npy\t68.npy\t77.npy\t86.npy\t95.npy\r\n",
      "14.npy\t23.npy\t32.npy\t41.npy\t50.npy\t5.npy\t69.npy\t78.npy\t87.npy\t96.npy\r\n",
      "15.npy\t24.npy\t33.npy\t42.npy\t51.npy\t60.npy\t6.npy\t79.npy\t88.npy\t97.npy\r\n",
      "16.npy\t25.npy\t34.npy\t43.npy\t52.npy\t61.npy\t70.npy\t7.npy\t89.npy\t98.npy\r\n",
      "17.npy\t26.npy\t35.npy\t44.npy\t53.npy\t62.npy\t71.npy\t80.npy\t8.npy\t99.npy\r\n",
      "18.npy\t27.npy\t36.npy\t45.npy\t54.npy\t63.npy\t72.npy\t81.npy\t90.npy\t9.npy\r\n"
     ]
    }
   ],
   "source": [
    "!ls 'demo_speck32_roundid6/test_accuracies'"
   ]
  },
  {
   "cell_type": "code",
   "execution_count": null,
   "id": "d07a1b8e",
   "metadata": {},
   "outputs": [],
   "source": [
    "# the file-manager is a simple module which knows under which path to search for e.g. the test_accuracies:\n",
    "from raydist.filemanager import FileManager\n",
    "F = FileManager('demo_speck32_roundid6') "
   ]
  },
  {
   "cell_type": "code",
   "execution_count": 37,
   "id": "654465c3",
   "metadata": {
    "ExecuteTime": {
     "end_time": "2022-06-04T07:31:05.113144Z",
     "start_time": "2022-06-04T07:31:05.088682Z"
    }
   },
   "outputs": [
    {
     "data": {
      "text/plain": [
       "(100, 1024)"
      ]
     },
     "execution_count": 37,
     "metadata": {},
     "output_type": "execute_result"
    }
   ],
   "source": [
    "# given a file-manager, the get_X function loads all the test_accuracies from above into a single array:\n",
    "from raydist.bitanalysis import get_X\n",
    "X = get_X(F)\n",
    "# X contains one row for each of the `N` neural network and one column for each of the `n` bits:\n",
    "X.shape"
   ]
  },
  {
   "cell_type": "code",
   "execution_count": null,
   "id": "9752828e",
   "metadata": {},
   "outputs": [],
   "source": [
    "# the bit accuracies are calculated by taking the mean over all neural networks which predict the particular bit \n",
    "# (axis=0):\n",
    "bit_accuracies = np.nanmean(X, axis=0)"
   ]
  },
  {
   "cell_type": "code",
   "execution_count": 42,
   "id": "15063129",
   "metadata": {
    "ExecuteTime": {
     "end_time": "2022-06-04T07:39:51.590864Z",
     "start_time": "2022-06-04T07:39:51.583534Z"
    }
   },
   "outputs": [
    {
     "data": {
      "text/html": [
       "<div>\n",
       "<style scoped>\n",
       "    .dataframe tbody tr th:only-of-type {\n",
       "        vertical-align: middle;\n",
       "    }\n",
       "\n",
       "    .dataframe tbody tr th {\n",
       "        vertical-align: top;\n",
       "    }\n",
       "\n",
       "    .dataframe thead th {\n",
       "        text-align: right;\n",
       "    }\n",
       "</style>\n",
       "<table border=\"1\" class=\"dataframe\">\n",
       "  <thead>\n",
       "    <tr style=\"text-align: right;\">\n",
       "      <th></th>\n",
       "      <th>bit</th>\n",
       "      <th>mean accuracy</th>\n",
       "    </tr>\n",
       "  </thead>\n",
       "  <tbody>\n",
       "    <tr>\n",
       "      <th>732</th>\n",
       "      <td>732</td>\n",
       "      <td>0.506514</td>\n",
       "    </tr>\n",
       "    <tr>\n",
       "      <th>716</th>\n",
       "      <td>716</td>\n",
       "      <td>0.505468</td>\n",
       "    </tr>\n",
       "    <tr>\n",
       "      <th>685</th>\n",
       "      <td>685</td>\n",
       "      <td>0.502345</td>\n",
       "    </tr>\n",
       "    <tr>\n",
       "      <th>500</th>\n",
       "      <td>500</td>\n",
       "      <td>0.501849</td>\n",
       "    </tr>\n",
       "    <tr>\n",
       "      <th>859</th>\n",
       "      <td>859</td>\n",
       "      <td>0.501733</td>\n",
       "    </tr>\n",
       "    <tr>\n",
       "      <th>...</th>\n",
       "      <td>...</td>\n",
       "      <td>...</td>\n",
       "    </tr>\n",
       "    <tr>\n",
       "      <th>20</th>\n",
       "      <td>20</td>\n",
       "      <td>0.498500</td>\n",
       "    </tr>\n",
       "    <tr>\n",
       "      <th>786</th>\n",
       "      <td>786</td>\n",
       "      <td>0.498433</td>\n",
       "    </tr>\n",
       "    <tr>\n",
       "      <th>282</th>\n",
       "      <td>282</td>\n",
       "      <td>0.498401</td>\n",
       "    </tr>\n",
       "    <tr>\n",
       "      <th>965</th>\n",
       "      <td>965</td>\n",
       "      <td>0.498396</td>\n",
       "    </tr>\n",
       "    <tr>\n",
       "      <th>354</th>\n",
       "      <td>354</td>\n",
       "      <td>0.498251</td>\n",
       "    </tr>\n",
       "  </tbody>\n",
       "</table>\n",
       "<p>1024 rows × 2 columns</p>\n",
       "</div>"
      ],
      "text/plain": [
       "     bit  mean accuracy\n",
       "732  732       0.506514\n",
       "716  716       0.505468\n",
       "685  685       0.502345\n",
       "500  500       0.501849\n",
       "859  859       0.501733\n",
       "..   ...            ...\n",
       "20    20       0.498500\n",
       "786  786       0.498433\n",
       "282  282       0.498401\n",
       "965  965       0.498396\n",
       "354  354       0.498251\n",
       "\n",
       "[1024 rows x 2 columns]"
      ]
     },
     "execution_count": 42,
     "metadata": {},
     "output_type": "execute_result"
    }
   ],
   "source": [
    "import pandas as pd\n",
    "df = pd.DataFrame({'bit': np.arange(1024), \n",
    "                   'mean accuracy': bit_accuracies})\n",
    "\n",
    "df.sort_values('mean accuracy', ascending=False)"
   ]
  },
  {
   "cell_type": "code",
   "execution_count": 45,
   "id": "e0605515",
   "metadata": {
    "ExecuteTime": {
     "end_time": "2022-06-04T07:43:28.483607Z",
     "start_time": "2022-06-04T07:43:28.381601Z"
    }
   },
   "outputs": [
    {
     "data": {
      "text/plain": [
       "Text(0, 0.5, 'test accuracy')"
      ]
     },
     "execution_count": 45,
     "metadata": {},
     "output_type": "execute_result"
    },
    {
     "data": {
      "image/png": "[encoded data removed]",
      "text/plain": [
       "<Figure size 1500x450 with 1 Axes>"
      ]
     },
     "metadata": {
      "needs_background": "light"
     },
     "output_type": "display_data"
    }
   ],
   "source": [
    "import matplotlib.pyplot as plt\n",
    "\n",
    "# here we visualize the obtained `bit_accuracies`:\n",
    "plt.figure(figsize=(10, 3), dpi=150)\n",
    "plt.plot(bit_accuracies, 'o', markersize=3)\n",
    "plt.xlabel('bit id')\n",
    "plt.ylabel('test accuracy')"
   ]
  },
  {
   "cell_type": "code",
   "execution_count": null,
   "id": "fdb3da1d",
   "metadata": {},
   "outputs": [],
   "source": []
  }
 ],
 "metadata": {
  "kernelspec": {
   "display_name": "Python 3 (ipykernel)",
   "language": "python",
   "name": "python3"
  },
  "language_info": {
   "codemirror_mode": {
    "name": "ipython",
    "version": 3
   },
   "file_extension": ".py",
   "mimetype": "text/x-python",
   "name": "python",
   "nbconvert_exporter": "python",
   "pygments_lexer": "ipython3",
   "version": "3.8.12"
  },
  "latex_envs": {
   "LaTeX_envs_menu_present": true,
   "autoclose": false,
   "autocomplete": true,
   "bibliofile": "biblio.bib",
   "cite_by": "apalike",
   "current_citInitial": 1,
   "eqLabelWithNumbers": true,
   "eqNumInitial": 1,
   "hotkeys": {
    "equation": "Ctrl-E",
    "itemize": "Ctrl-I"
   },
   "labels_anchors": false,
   "latex_user_defs": false,
   "report_style_numbering": false,
   "user_envs_cfg": false
  },
  "toc": {
   "base_numbering": 1,
   "nav_menu": {},
   "number_sections": true,
   "sideBar": true,
   "skip_h1_title": false,
   "title_cell": "Table of Contents",
   "title_sidebar": "Contents",
   "toc_cell": true,
   "toc_position": {},
   "toc_section_display": true,
   "toc_window_display": true
  },
  "varInspector": {
   "cols": {
    "lenName": 16,
    "lenType": 16,
    "lenVar": 40
   },
   "kernels_config": {
    "python": {
     "delete_cmd_postfix": "",
     "delete_cmd_prefix": "del ",
     "library": "var_list.py",
     "varRefreshCmd": "print(var_dic_list())"
    },
    "r": {
     "delete_cmd_postfix": ") ",
     "delete_cmd_prefix": "rm(",
     "library": "var_list.r",
     "varRefreshCmd": "cat(var_dic_list()) "
    }
   },
   "types_to_exclude": [
    "module",
    "function",
    "builtin_function_or_method",
    "instance",
    "_Feature"
   ],
   "window_display": false
  }
 },
 "nbformat": 4,
 "nbformat_minor": 5
}

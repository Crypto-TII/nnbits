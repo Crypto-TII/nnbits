{
 "cells": [
  {
   "cell_type": "markdown",
   "id": "79d7c480",
   "metadata": {
    "colab": {
     "accelerator": "GPU"
    },
    "pycharm": {
     "name": "#%% md\n"
    }
   },
   "source": [
    "This demo shows how to use the `nnbits` repository by \n",
    "\n",
    "1. generating the avalanche dataset for round 7 of Speck 32/64\n",
    "2. exploring the computational resources\n",
    "3. running an ensemble neural network analysis\n",
    "\n",
    "It reproduces the corresponding results from the manuscript."
   ]
  },
  {
   "cell_type": "markdown",
   "id": "b8d3ffec",
   "metadata": {
    "pycharm": {
     "name": "#%% md\n"
    },
    "toc": true
   },
   "source": [
    "<h1>Table of Contents<span class=\"tocSkip\"></span></h1>\n",
    "<div class=\"toc\"><ul class=\"toc-item\"><li><span><a href=\"#Install-Requirements\" data-toc-modified-id=\"Install-Requirements-1\"><span class=\"toc-item-num\">1&nbsp;&nbsp;</span>Install Requirements</a></span></li><li><span><a href=\"#Choose-a-round-to-analyze\" data-toc-modified-id=\"Choose-a-round-to-analyze-2\"><span class=\"toc-item-num\">2&nbsp;&nbsp;</span>Choose a round to analyze</a></span></li><li><span><a href=\"#Generate-avalanche-data\" data-toc-modified-id=\"Generate-avalanche-data-3\"><span class=\"toc-item-num\">3&nbsp;&nbsp;</span>Generate avalanche data</a></span></li><li><span><a href=\"#Have-a-look-at-the-available-resources\" data-toc-modified-id=\"Have-a-look-at-the-available-resources-4\"><span class=\"toc-item-num\">4&nbsp;&nbsp;</span>Have a look at the available resources</a></span></li><li><span><a href=\"#Run-nnbits-neural-network-analysis\" data-toc-modified-id=\"Run-nnbits-neural-network-analysis-5\"><span class=\"toc-item-num\">5&nbsp;&nbsp;</span>Run <code>nnbits</code> neural network analysis</a></span></li><li><span><a href=\"#Analyze-the-results\" data-toc-modified-id=\"Analyze-the-results-6\"><span class=\"toc-item-num\">6&nbsp;&nbsp;</span>Analyze the results</a></span></li></ul></div>"
   ]
  },
  {
   "cell_type": "markdown",
   "id": "d91cc436",
   "metadata": {
    "pycharm": {
     "name": "#%% md\n"
    }
   },
   "source": [
    "# How to use this demo?\n",
    "Please execute the following cells by pressing \n",
    "\n",
    "`Shift + Enter`.\n",
    "\n",
    "<font color='blue'>**Important**</font> If you are executing the Notebook on <font color='blue'>Google Colaboratory, please enable GPU support by clicking on `Runtime > Change Runtime Type > Hardware accelerator \"GPU\" > Save`</font>:"
   ]
  },
  {
   "cell_type": "markdown",
   "id": "f9680296",
   "metadata": {
    "pycharm": {
     "name": "#%% md\n"
    }
   },
   "source": [
    "# Install Requirements "
   ]
  },
  {
   "cell_type": "markdown",
   "id": "2ac21812",
   "metadata": {
    "pycharm": {
     "name": "#%% md\n"
    }
   },
   "source": [
    "Clone the GitHub repository:"
   ]
  },
  {
   "cell_type": "code",
   "execution_count": null,
   "id": "2b8312fd",
   "metadata": {
    "collapsed": false,
    "jupyter": {
     "outputs_hidden": false
    },
    "pycharm": {
     "name": "#%%\n"
    }
   },
   "outputs": [],
   "source": [
    "!git clone https://github.com/Crypto-TII/nnbits"
   ]
  },
  {
   "cell_type": "markdown",
   "id": "04435cc5-7387-4c0d-854f-c5ed36d84efd",
   "metadata": {},
   "source": [
    "Change directory into the cloned repository:"
   ]
  },
  {
   "cell_type": "code",
   "execution_count": null,
   "id": "c8e2d50a",
   "metadata": {
    "collapsed": false,
    "jupyter": {
     "outputs_hidden": false
    },
    "pycharm": {
     "name": "#%%\n"
    }
   },
   "outputs": [],
   "source": [
    "%cd nnbits/"
   ]
  },
  {
   "cell_type": "markdown",
   "id": "c8c4b85a",
   "metadata": {
    "pycharm": {
     "name": "#%% md\n"
    }
   },
   "source": [
    "The following modules are required: "
   ]
  },
  {
   "cell_type": "code",
   "execution_count": null,
   "id": "d58b047d",
   "metadata": {
    "collapsed": false,
    "jupyter": {
     "outputs_hidden": false
    },
    "pycharm": {
     "name": "#%%\n"
    }
   },
   "outputs": [],
   "source": [
    "%cat requirements.txt"
   ]
  },
  {
   "cell_type": "markdown",
   "id": "1c1d697c",
   "metadata": {
    "pycharm": {
     "name": "#%% md\n"
    }
   },
   "source": [
    "Install the requirements by running the following cell. "
   ]
  },
  {
   "cell_type": "code",
   "execution_count": null,
   "id": "e5703088",
   "metadata": {
    "pycharm": {
     "name": "#%%\n"
    }
   },
   "outputs": [],
   "source": [
    "!pip install -r requirements.txt"
   ]
  },
  {
   "cell_type": "markdown",
   "id": "f28acbef",
   "metadata": {
    "pycharm": {
     "name": "#%% md\n"
    }
   },
   "source": [
    "# Choose a round to analyze "
   ]
  },
  {
   "cell_type": "code",
   "execution_count": 3,
   "id": "74cbef0a",
   "metadata": {
    "ExecuteTime": {
     "end_time": "2022-06-05T11:41:20.845174Z",
     "start_time": "2022-06-05T11:41:20.843107Z"
    },
    "execution": {
     "iopub.execute_input": "2022-09-21T12:49:36.755896Z",
     "iopub.status.busy": "2022-09-21T12:49:36.755662Z",
     "iopub.status.idle": "2022-09-21T12:49:36.758542Z",
     "shell.execute_reply": "2022-09-21T12:49:36.758209Z",
     "shell.execute_reply.started": "2022-09-21T12:49:36.755869Z"
    },
    "pycharm": {
     "name": "#%%\n"
    },
    "tags": []
   },
   "outputs": [],
   "source": [
    "# Here we will analyze round 7 of Speck 32/64.\n",
    "# The corresponding round-id is round 6 (we start counting the round-id from zero):\n",
    "ROUND_IDs = [6]"
   ]
  },
  {
   "cell_type": "markdown",
   "id": "8f70d02d",
   "metadata": {
    "pycharm": {
     "name": "#%% md\n"
    }
   },
   "source": [
    "# Generate avalanche data "
   ]
  },
  {
   "cell_type": "markdown",
   "id": "49986660",
   "metadata": {
    "pycharm": {
     "name": "#%% md\n"
    }
   },
   "source": [
    "Create a folder for the data"
   ]
  },
  {
   "cell_type": "code",
   "execution_count": 15,
   "id": "4ddea48f",
   "metadata": {
    "ExecuteTime": {
     "end_time": "2022-05-19T08:15:56.904775Z",
     "start_time": "2022-05-19T08:15:56.688420Z"
    },
    "execution": {
     "iopub.execute_input": "2022-09-21T11:19:21.492763Z",
     "iopub.status.busy": "2022-09-21T11:19:21.492605Z",
     "iopub.status.idle": "2022-09-21T11:19:21.682781Z",
     "shell.execute_reply": "2022-09-21T11:19:21.682148Z",
     "shell.execute_reply.started": "2022-09-21T11:19:21.492747Z"
    },
    "pycharm": {
     "name": "#%%\n"
    },
    "tags": []
   },
   "outputs": [],
   "source": [
    "!mkdir 'speck_32_64'"
   ]
  },
  {
   "cell_type": "markdown",
   "id": "e0192030",
   "metadata": {
    "pycharm": {
     "name": "#%% md\n"
    }
   },
   "source": [
    "Generate `number_of_samples = 300_000` avalanche units (this takes about one minute in Google Colab):"
   ]
  },
  {
   "cell_type": "code",
   "execution_count": 17,
   "id": "ede1541f",
   "metadata": {
    "ExecuteTime": {
     "end_time": "2022-05-19T08:18:02.564090Z",
     "start_time": "2022-05-19T08:16:33.289946Z"
    },
    "execution": {
     "iopub.execute_input": "2022-09-21T11:19:30.139176Z",
     "iopub.status.busy": "2022-09-21T11:19:30.138922Z",
     "iopub.status.idle": "2022-09-21T11:19:59.525697Z",
     "shell.execute_reply": "2022-09-21T11:19:59.525112Z",
     "shell.execute_reply.started": "2022-09-21T11:19:30.139159Z"
    },
    "pycharm": {
     "name": "#%%\n"
    },
    "tags": []
   },
   "outputs": [],
   "source": [
    "#### CONFIGURATION ######\n",
    "\n",
    "number_of_samples = 300_000\n",
    "\n",
    "#########################\n",
    "\n",
    "from avalanche_data_generator.speck_32_64 import speck_k64_p32_o32_r22 as data_generator\n",
    "import numpy as np\n",
    "\n",
    "dataset = data_generator.generate_avalanche_dataset(int(number_of_samples))\n",
    "\n",
    "for r in ROUND_IDs:\n",
    "    np.save(f\"speck_32_64/round{r}_sequences300k.npy\", dataset[r])"
   ]
  },
  {
   "cell_type": "markdown",
   "id": "c66df706",
   "metadata": {
    "pycharm": {
     "name": "#%% md\n"
    }
   },
   "source": [
    "# Have a look at the available resources \n",
    "\n",
    "The Nvidia A100-DGX server provides \n",
    "\n",
    "* `4 A100-SXM GPUs, each with 40'536 MiB memory (and in addition a graphical GPU)` \n",
    "* `128 CPU cores`\n",
    "\n",
    "In comparison, the free Google Colaboratory provides\n",
    "\n",
    "* `1 Tesla T4 GPU with 15'109 MiB memory`\n",
    "* `2 CPU cores`\n",
    "\n",
    "The available resources can be explored by using for example the `ray.available_resources()` or `nvidia-smi`:"
   ]
  },
  {
   "cell_type": "code",
   "execution_count": 1,
   "id": "d89ebfd7",
   "metadata": {
    "ExecuteTime": {
     "end_time": "2022-06-04T06:54:45.203333Z",
     "start_time": "2022-06-04T06:54:41.596826Z"
    },
    "execution": {
     "iopub.execute_input": "2022-09-21T12:49:01.406801Z",
     "iopub.status.busy": "2022-09-21T12:49:01.406617Z",
     "iopub.status.idle": "2022-09-21T12:49:04.813773Z",
     "shell.execute_reply": "2022-09-21T12:49:04.813368Z",
     "shell.execute_reply.started": "2022-09-21T12:49:01.406752Z"
    },
    "pycharm": {
     "name": "#%%\n"
    },
    "tags": []
   },
   "outputs": [
    {
     "data": {
      "text/plain": [
       "{'node:172.31.102.84': 1.0,\n",
       " 'object_store_memory': 138092019302.0,\n",
       " 'memory': 312214711706.0,\n",
       " 'CPU': 128.0,\n",
       " 'GPU': 5.0}"
      ]
     },
     "execution_count": 1,
     "metadata": {},
     "output_type": "execute_result"
    }
   ],
   "source": [
    "import ray\n",
    "ray.init()\n",
    "ray.available_resources()"
   ]
  },
  {
   "cell_type": "code",
   "execution_count": 2,
   "id": "cabc71e8",
   "metadata": {
    "ExecuteTime": {
     "end_time": "2022-06-04T06:54:46.077342Z",
     "start_time": "2022-06-04T06:54:45.207831Z"
    },
    "pycharm": {
     "name": "#%%\n"
    }
   },
   "outputs": [
    {
     "name": "stdout",
     "output_type": "stream",
     "text": [
      "Sat Jun  4 10:54:45 2022       \n",
      "+-----------------------------------------------------------------------------+\n",
      "| NVIDIA-SMI 495.29.05    Driver Version: 495.29.05    CUDA Version: 11.5     |\n",
      "|-------------------------------+----------------------+----------------------+\n",
      "| GPU  Name        Persistence-M| Bus-Id        Disp.A | Volatile Uncorr. ECC |\n",
      "| Fan  Temp  Perf  Pwr:Usage/Cap|         Memory-Usage | GPU-Util  Compute M. |\n",
      "|                               |                      |               MIG M. |\n",
      "|===============================+======================+======================|\n",
      "|   0  NVIDIA A100-SXM...  On   | 00000000:01:00.0 Off |                    0 |\n",
      "| N/A   36C    P0    51W / 275W |      3MiB / 40536MiB |      0%      Default |\n",
      "|                               |                      |             Disabled |\n",
      "+-------------------------------+----------------------+----------------------+\n",
      "|   1  NVIDIA A100-SXM...  On   | 00000000:47:00.0 Off |                    0 |\n",
      "| N/A   37C    P0    53W / 275W |      3MiB / 40536MiB |      0%      Default |\n",
      "|                               |                      |             Disabled |\n",
      "+-------------------------------+----------------------+----------------------+\n",
      "|   2  NVIDIA A100-SXM...  On   | 00000000:81:00.0 Off |                    0 |\n",
      "| N/A   36C    P0    55W / 275W |      3MiB / 40536MiB |      0%      Default |\n",
      "|                               |                      |             Disabled |\n",
      "+-------------------------------+----------------------+----------------------+\n",
      "|   3  NVIDIA DGX Display  On   | 00000000:C1:00.0 Off |                  N/A |\n",
      "| 33%   38C    P8    N/A /  50W |     74MiB /  3911MiB |      0%      Default |\n",
      "|                               |                      |                  N/A |\n",
      "+-------------------------------+----------------------+----------------------+\n",
      "|   4  NVIDIA A100-SXM...  On   | 00000000:C2:00.0 Off |                    0 |\n",
      "| N/A   36C    P0    57W / 275W |      3MiB / 40536MiB |      0%      Default |\n",
      "|                               |                      |             Disabled |\n",
      "+-------------------------------+----------------------+----------------------+\n",
      "                                                                               \n",
      "+-----------------------------------------------------------------------------+\n",
      "| Processes:                                                                  |\n",
      "|  GPU   GI   CI        PID   Type   Process name                  GPU Memory |\n",
      "|        ID   ID                                                   Usage      |\n",
      "|=============================================================================|\n",
      "|    3   N/A  N/A      5658      G   /usr/lib/xorg/Xorg                 64MiB |\n",
      "|    3   N/A  N/A      5816      G   /usr/bin/gnome-shell                5MiB |\n",
      "+-----------------------------------------------------------------------------+\n"
     ]
    }
   ],
   "source": [
    "!nvidia-smi"
   ]
  },
  {
   "cell_type": "markdown",
   "id": "1c6095bd",
   "metadata": {
    "pycharm": {
     "name": "#%% md\n"
    }
   },
   "source": [
    "# Run `nnbits` neural network analysis "
   ]
  },
  {
   "cell_type": "markdown",
   "id": "d4deeef8",
   "metadata": {
    "pycharm": {
     "name": "#%% md\n"
    }
   },
   "source": [
    "If you are executing the Notebook on <font color='blue'>Google Colaboratory, please ensure that the following four lines are identical in the cell below</font>:\n",
    "\n",
    "```python\n",
    "...\n",
    "# hardware settings\n",
    "'N_GPUS': 1, \n",
    "'N_ACTORS_PER_GPU': 2,\n",
    "'GPU_PER_ACTOR': 0.5,\n",
    "'CPU_PER_ACTOR': 0.5,\n",
    "...\n",
    "```\n",
    "\n",
    "If you work on a 4-GPU server with 40 GB memory per GPU, the following settings would be appropriate \n",
    "```python\n",
    "...\n",
    "# hardware settings\n",
    "'N_GPUS': 4,\n",
    "'N_ACTORS_PER_GPU': 6,\n",
    "'GPU_PER_ACTOR': 0.15,\n",
    "'CPU_PER_ACTOR': 5, \n",
    "...\n",
    "```"
   ]
  },
  {
   "cell_type": "code",
   "execution_count": 4,
   "id": "f684e2ad",
   "metadata": {
    "ExecuteTime": {
     "end_time": "2022-06-05T11:47:47.713374Z",
     "start_time": "2022-06-05T11:46:53.810986Z"
    },
    "execution": {
     "iopub.execute_input": "2022-09-21T12:49:39.874070Z",
     "iopub.status.busy": "2022-09-21T12:49:39.873844Z",
     "iopub.status.idle": "2022-09-21T12:52:11.557776Z",
     "shell.execute_reply": "2022-09-21T12:52:11.557393Z",
     "shell.execute_reply.started": "2022-09-21T12:49:39.874053Z"
    },
    "pycharm": {
     "name": "#%%\n"
    },
    "tags": []
   },
   "outputs": [
    {
     "name": "stdout",
     "output_type": "stream",
     "text": [
      "2022-09-21_16h49m41s \t started to load data from harddisk...\n",
      "2022-09-21_16h49m41s \t finished.\n",
      "======================================================================\n",
      "|                             | value                                |\n",
      "|:----------------------------|:-------------------------------------|\n",
      "| DATAPATH                    | speck_32_64/round6_sequences300k.npy |\n",
      "| NEURAL_NETWORK_MODEL        | gohr_generalized                     |\n",
      "| NEURAL_NETWORKS             | 100                                  |\n",
      "| SELECT_BITS_STRATEGY        | random                               |\n",
      "| INPUT_DATA_OP               | zero                                 |\n",
      "| N_RANDOM_BITS               | 63                                   |\n",
      "| N_GPUS                      | 1                                    |\n",
      "| N_ACTORS_PER_GPU            | 2                                    |\n",
      "| GPU_PER_ACTOR               | 0.5                                  |\n",
      "| CPU_PER_ACTOR               | 0.5                                  |\n",
      "| N_EPOCHS                    | 5                                    |\n",
      "| N_TRAIN                     | 145000                               |\n",
      "| N_VAL                       | 145000                               |\n",
      "| N_TEST                      | 0                                    |\n",
      "| BATCHSIZE                   | 5000                                 |\n",
      "| PREDICT_LABEL               | False                                |\n",
      "| TARGET_BITS                 | []                                   |\n",
      "| EARLY_STOPPING              | True                                 |\n",
      "| EARLY_STOPPING_P_VALUE      | 1e-10                                |\n",
      "| CREATE_NEW_SELECTIONS       | True                                 |\n",
      "| MODEL_STRENGTH              | 1                                    |\n",
      "| VALIDATION_BATCH_SIZE       |                                      |\n",
      "| SAVE_WEIGHTS                | False                                |\n",
      "| SAVE_BEST_WEIGHTS           | False                                |\n",
      "| TESTING_BATCH_SIZE          | 0                                    |\n",
      "| TEST_ONLY                   | False                                |\n",
      "| RESULTING BITS IN DATA-ROW  | 1024                                 |\n",
      "| RESULTING N SELECTED BITS   | 63                                   |\n",
      "| RESULTING N TOTAL BITS      | 1024                                 |\n",
      "| RESULTING NN INPUT NEURONS  | 1024                                 |\n",
      "| RESULTING NN OUTPUT NEURONS | 63                                   |\n",
      "\n",
      "\n",
      "||           time            |   NN finished   | pred. bits ||  best bit  |  acc (%)   |   n pred   |  p value   ||\n",
      "===================================================================================================================\n",
      "||   2022-09-21_16h49m45s    |      0/100      |   0/1024   ||    nan     |    nan     |    nan     |    nan     ||\n",
      "||   2022-09-21_16h50m05s    |      2/100      |  63/1024   ||    885     |   50.250   |     1      |   0.057    ||\n",
      "||   2022-09-21_16h50m05s    |      2/100      |  126/1024  ||    146     |   50.321   |     1      |   0.015    ||\n",
      "||   2022-09-21_16h50m21s    |      3/100      |  189/1024  ||    641     |   50.339   |     1      |   0.0098   ||\n",
      "||   2022-09-21_16h50m21s    |      4/100      |  252/1024  ||    641     |   50.339   |     1      |   0.0098   ||\n",
      "||   2022-09-21_16h50m36s    |      5/100      |  315/1024  ||    641     |   50.339   |     1      |   0.0098   ||\n",
      "||   2022-09-21_16h50m36s    |      6/100      |  378/1024  ||    641     |   50.339   |     1      |   0.0098   ||\n",
      "||   2022-09-21_16h50m51s    |      8/100      |  441/1024  ||    641     |   50.339   |     1      |   0.0098   ||\n",
      "||   2022-09-21_16h50m51s    |      8/100      |  504/1024  ||    641     |   50.339   |     1      |   0.0098   ||\n",
      "||   2022-09-21_16h51m07s    |     10/100      |  567/1024  ||    629     |   50.372   |     1      |   0.0047   ||\n",
      "||   2022-09-21_16h51m07s    |     10/100      |  629/1024  ||    629     |   50.372   |     1      |   0.0047   ||\n",
      "||   2022-09-21_16h51m22s    |     12/100      |  662/1024  ||    732     |   50.781   |     1      |  2.8e-09   ||\n",
      "||   2022-09-21_16h51m22s    |     12/100      |  698/1024  ||    732     |   50.781   |     1      |  2.8e-09   ||\n",
      "||   2022-09-21_16h51m37s    |     14/100      |  733/1024  ||    732     |   50.781   |     1      |  2.8e-09   ||\n",
      "||   2022-09-21_16h51m37s    |     14/100      |  764/1024  ||    732     |   50.781   |     1      |  2.8e-09   ||\n",
      "||   2022-09-21_16h51m52s    |     15/100      |  798/1024  ||    732     |   50.781   |     1      |  2.8e-09   ||\n",
      "||   2022-09-21_16h51m52s    |     16/100      |  830/1024  ||    716     |   50.894   |     1      |  1.1e-11   ||\n",
      "||   2022-09-21_16h52m07s    |     17/100      |  845/1024  ||    716     |   50.894   |     1      |  1.1e-11   ||\n",
      "p-value is below limit ==> stop analysis.\n",
      "||   2022-09-21_16h52m07s    |     18/100      |  867/1024  ||    716     |   50.894   |     1      |  1.1e-11   ||\n",
      "\u001b[0m"
     ]
    }
   ],
   "source": [
    "import toml\n",
    "from nnbits.filemanager import FileManager\n",
    "\n",
    "for r in ROUND_IDs:\n",
    "    \n",
    "    # choose where to save the data\n",
    "    savepath = f'demo_speck32_roundid{r}'\n",
    "    !rm -r '{savepath}'\n",
    "    !mkdir '{savepath}'\n",
    "    \n",
    "    # choose the settings\n",
    "    config = {'DATAPATH': f'speck_32_64/round{r}_sequences300k.npy',\n",
    "               # ensemble settings\n",
    "                 'NEURAL_NETWORK_MODEL': 'gohr_generalized', \n",
    "                 'NEURAL_NETWORKS': 100, \n",
    "                 'SELECT_BITS_STRATEGY': 'random', \n",
    "                 'INPUT_DATA_OP': 'zero', \n",
    "                 'N_RANDOM_BITS': 63,\n",
    "               # hardware settings\n",
    "                'N_GPUS': 1, \n",
    "                'N_ACTORS_PER_GPU': 2,\n",
    "                'GPU_PER_ACTOR': 0.5,\n",
    "                'CPU_PER_ACTOR': 0.5,\n",
    "               # training settings\n",
    "                 'N_EPOCHS': 5,\n",
    "                 'N_TRAIN': 145_000,\n",
    "                 'N_VAL': 145_000,\n",
    "                 'N_TEST': 0,\n",
    "                 'BATCHSIZE': 5000}\n",
    "    \n",
    "    # save the configuration file\n",
    "    F = FileManager(savepath)\n",
    "\n",
    "    with open(F.filename_config(), 'w') as configfile:\n",
    "        toml.dump(config, configfile)\n",
    "        \n",
    "    #============ run the analysis ============\n",
    "    !python -m nnbits.run --savepath '{savepath}'"
   ]
  },
  {
   "cell_type": "markdown",
   "id": "ae1b8a34",
   "metadata": {
    "pycharm": {
     "name": "#%% md\n"
    }
   },
   "source": [
    "# Analyze the results "
   ]
  },
  {
   "cell_type": "code",
   "execution_count": 29,
   "id": "f950a646",
   "metadata": {
    "ExecuteTime": {
     "end_time": "2022-06-05T11:46:21.276151Z",
     "start_time": "2022-06-05T11:46:21.273778Z"
    },
    "execution": {
     "iopub.execute_input": "2022-09-21T11:26:56.119349Z",
     "iopub.status.busy": "2022-09-21T11:26:56.119021Z",
     "iopub.status.idle": "2022-09-21T11:26:56.122381Z",
     "shell.execute_reply": "2022-09-21T11:26:56.121910Z",
     "shell.execute_reply.started": "2022-09-21T11:26:56.119324Z"
    },
    "pycharm": {
     "name": "#%%\n"
    }
   },
   "outputs": [],
   "source": [
    "import numpy as np"
   ]
  },
  {
   "cell_type": "markdown",
   "id": "d3d0f847",
   "metadata": {
    "pycharm": {
     "name": "#%% md\n"
    }
   },
   "source": [
    "Each neural network has been tested on the test-data and the results are saved in the `test_accuracies` folder:"
   ]
  },
  {
   "cell_type": "code",
   "execution_count": 30,
   "id": "b5346352",
   "metadata": {
    "ExecuteTime": {
     "end_time": "2022-06-05T11:46:22.326390Z",
     "start_time": "2022-06-05T11:46:22.181018Z"
    },
    "execution": {
     "iopub.execute_input": "2022-09-21T11:26:58.040875Z",
     "iopub.status.busy": "2022-09-21T11:26:58.040635Z",
     "iopub.status.idle": "2022-09-21T11:26:58.223572Z",
     "shell.execute_reply": "2022-09-21T11:26:58.223054Z",
     "shell.execute_reply.started": "2022-09-21T11:26:58.040847Z"
    },
    "pycharm": {
     "name": "#%%\n"
    }
   },
   "outputs": [
    {
     "name": "stdout",
     "output_type": "stream",
     "text": [
      "bit_selections\th5    run_log.pkl      test_accuracies_bit_by_bit\n",
      "config.cfg\thist  test_accuracies\n"
     ]
    }
   ],
   "source": [
    "!ls 'demo_speck32_roundid6'"
   ]
  },
  {
   "cell_type": "code",
   "execution_count": 31,
   "id": "1cf33933",
   "metadata": {
    "ExecuteTime": {
     "end_time": "2022-06-05T11:46:22.929269Z",
     "start_time": "2022-06-05T11:46:22.784341Z"
    },
    "execution": {
     "iopub.execute_input": "2022-09-21T11:27:00.394157Z",
     "iopub.status.busy": "2022-09-21T11:27:00.394019Z",
     "iopub.status.idle": "2022-09-21T11:27:00.578044Z",
     "shell.execute_reply": "2022-09-21T11:27:00.577522Z",
     "shell.execute_reply.started": "2022-09-21T11:27:00.394141Z"
    },
    "pycharm": {
     "name": "#%%\n"
    }
   },
   "outputs": [
    {
     "name": "stdout",
     "output_type": "stream",
     "text": [
      "0.npy\t11.npy\t1.npy  3.npy  5.npy  7.npy  9.npy\n",
      "10.npy\t12.npy\t2.npy  4.npy  6.npy  8.npy\n"
     ]
    }
   ],
   "source": [
    "!ls 'demo_speck32_roundid6/test_accuracies'"
   ]
  },
  {
   "cell_type": "code",
   "execution_count": 32,
   "id": "d07a1b8e",
   "metadata": {
    "ExecuteTime": {
     "end_time": "2022-06-05T11:46:23.829223Z",
     "start_time": "2022-06-05T11:46:23.825672Z"
    },
    "execution": {
     "iopub.execute_input": "2022-09-21T11:27:02.737791Z",
     "iopub.status.busy": "2022-09-21T11:27:02.737627Z",
     "iopub.status.idle": "2022-09-21T11:27:02.742905Z",
     "shell.execute_reply": "2022-09-21T11:27:02.742573Z",
     "shell.execute_reply.started": "2022-09-21T11:27:02.737775Z"
    },
    "pycharm": {
     "name": "#%%\n"
    }
   },
   "outputs": [],
   "source": [
    "# the file-manager is a simple module which knows under which path to search for e.g. the test_accuracies:\n",
    "from nnbits.filemanager import FileManager\n",
    "F = FileManager('demo_speck32_roundid6') "
   ]
  },
  {
   "cell_type": "code",
   "execution_count": 33,
   "id": "654465c3",
   "metadata": {
    "ExecuteTime": {
     "end_time": "2022-06-05T11:46:25.182633Z",
     "start_time": "2022-06-05T11:46:25.146906Z"
    },
    "execution": {
     "iopub.execute_input": "2022-09-21T11:27:04.761159Z",
     "iopub.status.busy": "2022-09-21T11:27:04.761003Z",
     "iopub.status.idle": "2022-09-21T11:27:04.801321Z",
     "shell.execute_reply": "2022-09-21T11:27:04.800932Z",
     "shell.execute_reply.started": "2022-09-21T11:27:04.761144Z"
    },
    "pycharm": {
     "name": "#%%\n"
    }
   },
   "outputs": [
    {
     "data": {
      "text/plain": [
       "(100, 1024)"
      ]
     },
     "execution_count": 33,
     "metadata": {},
     "output_type": "execute_result"
    }
   ],
   "source": [
    "# given a file-manager, the get_X function loads all the test_accuracies from above into a single array:\n",
    "from nnbits.bitanalysis import get_X\n",
    "X = get_X(F)\n",
    "# X contains one row for each of the `N` neural network and one column for each of the `n` bits:\n",
    "X.shape"
   ]
  },
  {
   "cell_type": "code",
   "execution_count": 36,
   "id": "9752828e",
   "metadata": {
    "ExecuteTime": {
     "end_time": "2022-06-05T11:46:28.087305Z",
     "start_time": "2022-06-05T11:46:28.084237Z"
    },
    "execution": {
     "iopub.execute_input": "2022-09-21T11:29:25.890230Z",
     "iopub.status.busy": "2022-09-21T11:29:25.890063Z",
     "iopub.status.idle": "2022-09-21T11:29:25.893621Z",
     "shell.execute_reply": "2022-09-21T11:29:25.893240Z",
     "shell.execute_reply.started": "2022-09-21T11:29:25.890215Z"
    },
    "pycharm": {
     "name": "#%%\n"
    },
    "tags": []
   },
   "outputs": [],
   "source": [
    "# the bit accuracies are calculated by taking the mean over all neural networks which predict the particular bit \n",
    "# (axis=0):\n",
    "# (the following three lines catch a runtime warning if a mean-calculation is empty. This happens if not all bits have been analyzed yet.)\n",
    "import warnings\n",
    "with warnings.catch_warnings():\n",
    "    warnings.simplefilter(\"ignore\", category=RuntimeWarning)\n",
    "    bit_accuracies = np.nanmean(X, axis=0)"
   ]
  },
  {
   "cell_type": "code",
   "execution_count": 37,
   "id": "15063129",
   "metadata": {
    "ExecuteTime": {
     "end_time": "2022-06-05T11:46:28.612142Z",
     "start_time": "2022-06-05T11:46:28.448131Z"
    },
    "execution": {
     "iopub.execute_input": "2022-09-21T11:29:29.143020Z",
     "iopub.status.busy": "2022-09-21T11:29:29.142789Z",
     "iopub.status.idle": "2022-09-21T11:29:29.260534Z",
     "shell.execute_reply": "2022-09-21T11:29:29.260136Z",
     "shell.execute_reply.started": "2022-09-21T11:29:29.142994Z"
    },
    "pycharm": {
     "name": "#%%\n"
    },
    "tags": []
   },
   "outputs": [
    {
     "data": {
      "text/html": [
       "<div>\n",
       "<style scoped>\n",
       "    .dataframe tbody tr th:only-of-type {\n",
       "        vertical-align: middle;\n",
       "    }\n",
       "\n",
       "    .dataframe tbody tr th {\n",
       "        vertical-align: top;\n",
       "    }\n",
       "\n",
       "    .dataframe thead th {\n",
       "        text-align: right;\n",
       "    }\n",
       "</style>\n",
       "<table border=\"1\" class=\"dataframe\">\n",
       "  <thead>\n",
       "    <tr style=\"text-align: right;\">\n",
       "      <th></th>\n",
       "      <th>bit</th>\n",
       "      <th>mean accuracy</th>\n",
       "    </tr>\n",
       "  </thead>\n",
       "  <tbody>\n",
       "    <tr>\n",
       "      <th>732</th>\n",
       "      <td>732</td>\n",
       "      <td>0.509393</td>\n",
       "    </tr>\n",
       "    <tr>\n",
       "      <th>436</th>\n",
       "      <td>436</td>\n",
       "      <td>0.503614</td>\n",
       "    </tr>\n",
       "    <tr>\n",
       "      <th>482</th>\n",
       "      <td>482</td>\n",
       "      <td>0.503428</td>\n",
       "    </tr>\n",
       "    <tr>\n",
       "      <th>62</th>\n",
       "      <td>62</td>\n",
       "      <td>0.503400</td>\n",
       "    </tr>\n",
       "    <tr>\n",
       "      <th>680</th>\n",
       "      <td>680</td>\n",
       "      <td>0.503234</td>\n",
       "    </tr>\n",
       "    <tr>\n",
       "      <th>...</th>\n",
       "      <td>...</td>\n",
       "      <td>...</td>\n",
       "    </tr>\n",
       "    <tr>\n",
       "      <th>1016</th>\n",
       "      <td>1016</td>\n",
       "      <td>NaN</td>\n",
       "    </tr>\n",
       "    <tr>\n",
       "      <th>1017</th>\n",
       "      <td>1017</td>\n",
       "      <td>NaN</td>\n",
       "    </tr>\n",
       "    <tr>\n",
       "      <th>1018</th>\n",
       "      <td>1018</td>\n",
       "      <td>NaN</td>\n",
       "    </tr>\n",
       "    <tr>\n",
       "      <th>1020</th>\n",
       "      <td>1020</td>\n",
       "      <td>NaN</td>\n",
       "    </tr>\n",
       "    <tr>\n",
       "      <th>1023</th>\n",
       "      <td>1023</td>\n",
       "      <td>NaN</td>\n",
       "    </tr>\n",
       "  </tbody>\n",
       "</table>\n",
       "<p>1024 rows × 2 columns</p>\n",
       "</div>"
      ],
      "text/plain": [
       "       bit  mean accuracy\n",
       "732    732       0.509393\n",
       "436    436       0.503614\n",
       "482    482       0.503428\n",
       "62      62       0.503400\n",
       "680    680       0.503234\n",
       "...    ...            ...\n",
       "1016  1016            NaN\n",
       "1017  1017            NaN\n",
       "1018  1018            NaN\n",
       "1020  1020            NaN\n",
       "1023  1023            NaN\n",
       "\n",
       "[1024 rows x 2 columns]"
      ]
     },
     "execution_count": 37,
     "metadata": {},
     "output_type": "execute_result"
    }
   ],
   "source": [
    "import pandas as pd\n",
    "df = pd.DataFrame({'bit': np.arange(1024), \n",
    "                   'mean accuracy': bit_accuracies})\n",
    "\n",
    "df.sort_values('mean accuracy', ascending=False)"
   ]
  },
  {
   "cell_type": "code",
   "execution_count": 60,
   "id": "e0605515",
   "metadata": {
    "ExecuteTime": {
     "end_time": "2022-06-05T11:46:33.835747Z",
     "start_time": "2022-06-05T11:46:33.457403Z"
    },
    "execution": {
     "iopub.execute_input": "2022-09-21T11:36:55.349258Z",
     "iopub.status.busy": "2022-09-21T11:36:55.349100Z",
     "iopub.status.idle": "2022-09-21T11:36:55.468381Z",
     "shell.execute_reply": "2022-09-21T11:36:55.467973Z",
     "shell.execute_reply.started": "2022-09-21T11:36:55.349243Z"
    },
    "pycharm": {
     "name": "#%%\n"
    },
    "tags": []
   },
   "outputs": [
    {
     "data": {
      "text/plain": [
       "Text(0, 0.5, 'validation accuracy')"
      ]
     },
     "execution_count": 60,
     "metadata": {},
     "output_type": "execute_result"
    },
    {
     "data": {
      "image/png": "[encoded data removed]",
      "text/plain": [
       "<Figure size 1500x450 with 1 Axes>"
      ]
     },
     "metadata": {
      "needs_background": "light"
     },
     "output_type": "display_data"
    }
   ],
   "source": [
    "import matplotlib.pyplot as plt\n",
    "\n",
    "# here we visualize the obtained `bit_accuracies`:\n",
    "plt.figure(figsize=(10, 3), dpi=150)\n",
    "plt.plot(bit_accuracies, 'o', markersize=3, linestyle = 'None', label=\"mean validation accuracy of each bit\")\n",
    "# find bit with maximum accuracy\n",
    "dfm = df[df['mean accuracy'] == max(df['mean accuracy'])]\n",
    "plt.plot(dfm['bit'], dfm['mean accuracy'], marker='x', c='C0', linestyle = 'None', label=f\"best bit {int(dfm['bit'])} with {float(dfm['mean accuracy'])*100:.1f}% accuracy\")\n",
    "\n",
    "plt.legend(loc='upper left')\n",
    "plt.xlabel('bit id')\n",
    "plt.ylabel('validation accuracy')"
   ]
  },
  {
   "cell_type": "code",
   "execution_count": null,
   "id": "fdb3da1d",
   "metadata": {
    "pycharm": {
     "name": "#%%\n"
    }
   },
   "outputs": [],
   "source": []
  }
 ],
 "metadata": {
  "kernelspec": {
   "display_name": "Python 3 (ipykernel)",
   "language": "python",
   "name": "python3"
  },
  "language_info": {
   "codemirror_mode": {
    "name": "ipython",
    "version": 3
   },
   "file_extension": ".py",
   "mimetype": "text/x-python",
   "name": "python",
   "nbconvert_exporter": "python",
   "pygments_lexer": "ipython3",
   "version": "3.8.12"
  },
  "latex_envs": {
   "LaTeX_envs_menu_present": true,
   "autoclose": false,
   "autocomplete": true,
   "bibliofile": "biblio.bib",
   "cite_by": "apalike",
   "current_citInitial": 1,
   "eqLabelWithNumbers": true,
   "eqNumInitial": 1,
   "hotkeys": {
    "equation": "Ctrl-E",
    "itemize": "Ctrl-I"
   },
   "labels_anchors": false,
   "latex_user_defs": false,
   "report_style_numbering": false,
   "user_envs_cfg": false
  },
  "toc": {
   "base_numbering": 1,
   "nav_menu": {},
   "number_sections": true,
   "sideBar": true,
   "skip_h1_title": false,
   "title_cell": "Table of Contents",
   "title_sidebar": "Contents",
   "toc_cell": true,
   "toc_position": {},
   "toc_section_display": true,
   "toc_window_display": true
  },
  "varInspector": {
   "cols": {
    "lenName": 16,
    "lenType": 16,
    "lenVar": 40
   },
   "kernels_config": {
    "python": {
     "delete_cmd_postfix": "",
     "delete_cmd_prefix": "del ",
     "library": "var_list.py",
     "varRefreshCmd": "print(var_dic_list())"
    },
    "r": {
     "delete_cmd_postfix": ") ",
     "delete_cmd_prefix": "rm(",
     "library": "var_list.r",
     "varRefreshCmd": "cat(var_dic_list()) "
    }
   },
   "types_to_exclude": [
    "module",
    "function",
    "builtin_function_or_method",
    "instance",
    "_Feature"
   ],
   "window_display": false
  }
 },
 "nbformat": 4,
 "nbformat_minor": 5
}

{
 "cells": [
  {
   "cell_type": "markdown",
   "id": "8f70d02d",
   "metadata": {
    "pycharm": {
     "name": "#%% md\n"
    }
   },
   "source": [
    "# Generate Avalanche Data "
   ]
  },
  {
   "cell_type": "markdown",
   "id": "49986660",
   "metadata": {
    "pycharm": {
     "name": "#%% md\n"
    }
   },
   "source": [
    "Create a folder for the data"
   ]
  },
  {
   "cell_type": "code",
   "execution_count": 3,
   "id": "4ddea48f",
   "metadata": {
    "ExecuteTime": {
     "end_time": "2022-05-19T08:15:56.904775Z",
     "start_time": "2022-05-19T08:15:56.688420Z"
    },
    "execution": {
     "iopub.execute_input": "2022-09-23T08:10:39.454754Z",
     "iopub.status.busy": "2022-09-23T08:10:39.454527Z",
     "iopub.status.idle": "2022-09-23T08:10:39.567105Z",
     "shell.execute_reply": "2022-09-23T08:10:39.566621Z",
     "shell.execute_reply.started": "2022-09-23T08:10:39.454739Z"
    },
    "pycharm": {
     "name": "#%%\n"
    },
    "tags": []
   },
   "outputs": [
    {
     "name": "stdout",
     "output_type": "stream",
     "text": [
      "mkdir: cannot create directory ‘speck_32_64’: File exists\n"
     ]
    }
   ],
   "source": [
    "!mkdir 'speck_32_64'"
   ]
  },
  {
   "cell_type": "markdown",
   "id": "e0192030",
   "metadata": {
    "pycharm": {
     "name": "#%% md\n"
    }
   },
   "source": [
    "Generate `number_of_samples = 300_000` avalanche units (this takes about one minute in Google Colab):"
   ]
  },
  {
   "cell_type": "code",
   "execution_count": 8,
   "id": "ede1541f",
   "metadata": {
    "ExecuteTime": {
     "end_time": "2022-05-19T08:18:02.564090Z",
     "start_time": "2022-05-19T08:16:33.289946Z"
    },
    "pycharm": {
     "name": "#%%\n"
    },
    "tags": []
   },
   "outputs": [],
   "source": [
    "number_of_samples = 300_000\n",
    "\n",
    "from avalanche_data_generator.speck_32_64 import speck_k64_p32_o32_r22 as data_generator\n",
    "import numpy as np\n",
    "\n",
    "dataset = data_generator.generate_avalanche_dataset(int(number_of_samples))\n",
    "\n",
    "np.save(f\"speck_32_64/round6_sequences300k.npy\", dataset[6]) # please note that we start counting the rounds from 0, i.e. round id 6 means analyzing round 7/22 "
   ]
  },
  {
   "cell_type": "markdown",
   "id": "77617abc-04c3-4664-a8f3-741b7b2ec66a",
   "metadata": {},
   "source": [
    "# Choose Workspace Folder"
   ]
  },
  {
   "cell_type": "code",
   "execution_count": 9,
   "id": "63bf4057-7eee-47cb-a7c7-7664454c1dc1",
   "metadata": {},
   "outputs": [],
   "source": [
    "# choose where to save the analysis data \n",
    "# this folder contains the configuration file, which points out the dataset and GPU configuration to use\n",
    "savepath = 'demo_speck32_round7'"
   ]
  },
  {
   "cell_type": "markdown",
   "id": "c66df706",
   "metadata": {
    "pycharm": {
     "name": "#%% md\n"
    }
   },
   "source": [
    "# Check Hardware Resources\n",
    "The available resources can be explored by using for example the `ray.available_resources()` or `nvidia-smi`:"
   ]
  },
  {
   "cell_type": "code",
   "execution_count": 10,
   "id": "d89ebfd7",
   "metadata": {
    "ExecuteTime": {
     "end_time": "2022-06-04T06:54:45.203333Z",
     "start_time": "2022-06-04T06:54:41.596826Z"
    },
    "pycharm": {
     "name": "#%%\n"
    },
    "tags": []
   },
   "outputs": [
    {
     "name": "stderr",
     "output_type": "stream",
     "text": [
      "Package pickle5 becomes unnecessary in Python 3.8 and above. Its presence may confuse libraries including Ray. Please uninstall the package.\n",
      "2022-10-06 09:09:02,785\tINFO worker.py:1518 -- Started a local Ray instance.\n"
     ]
    },
    {
     "data": {
      "text/plain": [
       "{'CPU': 128.0,\n",
       " 'GPU': 5.0,\n",
       " 'memory': 295037554484.0,\n",
       " 'node:172.31.102.81': 1.0,\n",
       " 'object_store_memory': 130730380492.0}"
      ]
     },
     "execution_count": 10,
     "metadata": {},
     "output_type": "execute_result"
    }
   ],
   "source": [
    "import ray\n",
    "ray.init()\n",
    "ray.available_resources()"
   ]
  },
  {
   "cell_type": "code",
   "execution_count": 11,
   "id": "cabc71e8",
   "metadata": {
    "ExecuteTime": {
     "end_time": "2022-06-04T06:54:46.077342Z",
     "start_time": "2022-06-04T06:54:45.207831Z"
    },
    "pycharm": {
     "name": "#%%\n"
    },
    "tags": []
   },
   "outputs": [
    {
     "name": "stdout",
     "output_type": "stream",
     "text": [
      "Thu Oct  6 09:09:04 2022       \n",
      "+-----------------------------------------------------------------------------+\n",
      "| NVIDIA-SMI 450.80.02    Driver Version: 450.80.02    CUDA Version: 11.0     |\n",
      "|-------------------------------+----------------------+----------------------+\n",
      "| GPU  Name        Persistence-M| Bus-Id        Disp.A | Volatile Uncorr. ECC |\n",
      "| Fan  Temp  Perf  Pwr:Usage/Cap|         Memory-Usage | GPU-Util  Compute M. |\n",
      "|                               |                      |               MIG M. |\n",
      "|===============================+======================+======================|\n",
      "|   0  A100-SXM4-40GB      On   | 00000000:01:00.0 Off |                    0 |\n",
      "| N/A   79C    P0   263W / 275W |  18060MiB / 40537MiB |     97%      Default |\n",
      "|                               |                      |             Disabled |\n",
      "+-------------------------------+----------------------+----------------------+\n",
      "|   1  A100-SXM4-40GB      On   | 00000000:47:00.0 Off |                    0 |\n",
      "| N/A   77C    P0   261W / 275W |  18060MiB / 40537MiB |     94%      Default |\n",
      "|                               |                      |             Disabled |\n",
      "+-------------------------------+----------------------+----------------------+\n",
      "|   2  A100-SXM4-40GB      On   | 00000000:81:00.0 Off |                    0 |\n",
      "| N/A   78C    P0   274W / 275W |  18060MiB / 40537MiB |     97%      Default |\n",
      "|                               |                      |             Disabled |\n",
      "+-------------------------------+----------------------+----------------------+\n",
      "|   3  DGX Display         On   | 00000000:C1:00.0 Off |                  N/A |\n",
      "| 34%   35C    P8    N/A /  50W |    927MiB /  3911MiB |      9%      Default |\n",
      "|                               |                      |                  N/A |\n",
      "+-------------------------------+----------------------+----------------------+\n",
      "|   4  A100-SXM4-40GB      On   | 00000000:C2:00.0 Off |                    0 |\n",
      "| N/A   77C    P0   261W / 275W |  20473MiB / 40537MiB |     97%      Default |\n",
      "|                               |                      |             Disabled |\n",
      "+-------------------------------+----------------------+----------------------+\n",
      "                                                                               \n",
      "+-----------------------------------------------------------------------------+\n",
      "| Processes:                                                                  |\n",
      "|  GPU   GI   CI        PID   Type   Process name                  GPU Memory |\n",
      "|        ID   ID                                                   Usage      |\n",
      "|=============================================================================|\n",
      "|    0   N/A  N/A    804909      C   .../envs/E2202/bin/python3.8    18057MiB |\n",
      "|    1   N/A  N/A    804925      C   .../envs/E2202/bin/python3.8    18057MiB |\n",
      "|    2   N/A  N/A   3945165      C   .../envs/E2202/bin/python3.8    18057MiB |\n",
      "|    3   N/A  N/A     57368      G   /usr/lib/xorg/Xorg                 39MiB |\n",
      "|    3   N/A  N/A     58054      G   /usr/lib/xorg/Xorg                169MiB |\n",
      "|    3   N/A  N/A     58219      G   /usr/bin/gnome-shell              124MiB |\n",
      "|    3   N/A  N/A    341940      G   /usr/lib/xorg/Xorg                 38MiB |\n",
      "|    3   N/A  N/A    350832      G   /usr/lib/firefox/firefox           26MiB |\n",
      "|    3   N/A  N/A    350945      G   /usr/lib/firefox/firefox            2MiB |\n",
      "|    3   N/A  N/A   3241323      G   /usr/lib/firefox/firefox            2MiB |\n",
      "|    3   N/A  N/A   3248734      G   /usr/lib/firefox/firefox           26MiB |\n",
      "|    3   N/A  N/A   3948998      G   /snap/blender/2790/blender        396MiB |\n",
      "|    4   N/A  N/A   3167192      C   ...da3/envs/E2202/bin/python     2413MiB |\n",
      "|    4   N/A  N/A   3943871      C   .../envs/E2202/bin/python3.8    18057MiB |\n",
      "+-----------------------------------------------------------------------------+\n"
     ]
    }
   ],
   "source": [
    "!nvidia-smi"
   ]
  },
  {
   "cell_type": "markdown",
   "id": "1c6095bd",
   "metadata": {
    "pycharm": {
     "name": "#%% md\n"
    }
   },
   "source": [
    "# Run NNBits Analysis"
   ]
  },
  {
   "cell_type": "code",
   "execution_count": 30,
   "id": "f684e2ad",
   "metadata": {
    "ExecuteTime": {
     "end_time": "2022-06-05T11:47:47.713374Z",
     "start_time": "2022-06-05T11:46:53.810986Z"
    },
    "execution": {
     "iopub.execute_input": "2022-09-23T10:11:25.282690Z",
     "iopub.status.busy": "2022-09-23T10:11:25.282481Z",
     "iopub.status.idle": "2022-09-23T10:12:53.240263Z",
     "shell.execute_reply": "2022-09-23T10:12:53.239723Z",
     "shell.execute_reply.started": "2022-09-23T10:11:25.282673Z"
    },
    "pycharm": {
     "name": "#%%\n"
    },
    "scrolled": true,
    "tags": []
   },
   "outputs": [
    {
     "name": "stdout",
     "output_type": "stream",
     "text": [
      "2022-09-23_14h11m26s \t started to load data from harddisk...\n",
      "2022-09-23_14h11m27s \t finished.\n",
      "======================================================================\n",
      "|                             | value                                |\n",
      "|:----------------------------|:-------------------------------------|\n",
      "| DATAPATH                    | speck_32_64/round6_sequences300k.npy |\n",
      "| NEURAL_NETWORK_MODEL        | gohr_generalized                     |\n",
      "| NEURAL_NETWORKS             | 100                                  |\n",
      "| SELECT_BITS_STRATEGY        | random                               |\n",
      "| INPUT_DATA_OP               | zero                                 |\n",
      "| N_RANDOM_BITS               | 63                                   |\n",
      "| N_GPUS                      | 4                                    |\n",
      "| N_ACTORS_PER_GPU            | 4                                    |\n",
      "| GPU_PER_ACTOR               | 0.25                                 |\n",
      "| CPU_PER_ACTOR               | 5                                    |\n",
      "| N_EPOCHS                    | 5                                    |\n",
      "| N_TRAIN                     | 145000                               |\n",
      "| N_VAL                       | 145000                               |\n",
      "| N_TEST                      | 0                                    |\n",
      "| BATCHSIZE                   | 5000                                 |\n",
      "| PREDICT_LABEL               | False                                |\n",
      "| TARGET_BITS                 | []                                   |\n",
      "| EARLY_STOPPING              | True                                 |\n",
      "| EARLY_STOPPING_P_VALUE      | 1e-10                                |\n",
      "| CREATE_NEW_SELECTIONS       | True                                 |\n",
      "| MODEL_STRENGTH              | 1                                    |\n",
      "| VALIDATION_BATCH_SIZE       |                                      |\n",
      "| SAVE_WEIGHTS                | False                                |\n",
      "| SAVE_BEST_WEIGHTS           | False                                |\n",
      "| TESTING_BATCH_SIZE          | 0                                    |\n",
      "| TEST_ONLY                   | False                                |\n",
      "| RESULTING BITS IN DATA-ROW  | 1024                                 |\n",
      "| RESULTING N SELECTED BITS   | 63                                   |\n",
      "| RESULTING N TOTAL BITS      | 1024                                 |\n",
      "| RESULTING NN INPUT NEURONS  | 1024                                 |\n",
      "| RESULTING NN OUTPUT NEURONS | 63                                   |\n",
      "\n",
      "\n",
      "||           time            |   NN finished   | pred. bits ||  best bit  |  acc (%)   |   n pred   |  p value   ||\n",
      "===================================================================================================================\n",
      "||   2022-09-23_14h11m30s    |      0/100      |   0/1024   ||    nan     |    nan     |    nan     |    nan     ||\n",
      "||   2022-09-23_14h12m01s    |      2/100      |  63/1024   ||     8      |   50.360   |     1      |   0.0062   ||\n",
      "||   2022-09-23_14h12m01s    |      2/100      |  126/1024  ||     8      |   50.360   |     1      |   0.0062   ||\n",
      "||   2022-09-23_14h12m01s    |      3/100      |  182/1024  ||     8      |   50.360   |     1      |   0.0062   ||\n",
      "||   2022-09-23_14h12m01s    |      4/100      |  242/1024  ||    152     |   50.406   |     1      |   0.0021   ||\n",
      "||   2022-09-23_14h12m01s    |      5/100      |  300/1024  ||    152     |   50.406   |     1      |   0.0021   ||\n",
      "||   2022-09-23_14h12m01s    |      6/100      |  349/1024  ||    152     |   50.406   |     1      |   0.0021   ||\n",
      "||   2022-09-23_14h12m02s    |      8/100      |  447/1024  ||    152     |   50.406   |     1      |   0.0021   ||\n",
      "||   2022-09-23_14h12m02s    |      9/100      |  507/1024  ||    152     |   50.406   |     1      |   0.0021   ||\n",
      "||   2022-09-23_14h12m02s    |     10/100      |  561/1024  ||    152     |   50.406   |     1      |   0.0021   ||\n",
      "||   2022-09-23_14h12m02s    |     12/100      |  656/1024  ||    152     |   50.406   |     1      |   0.0021   ||\n",
      "||   2022-09-23_14h12m02s    |     14/100      |  695/1024  ||    732     |   50.828   |     1      |   3e-10    ||\n",
      "||   2022-09-23_14h12m02s    |     15/100      |  738/1024  ||    732     |   50.828   |     1      |   3e-10    ||\n",
      "||   2022-09-23_14h12m02s    |     15/100      |  784/1024  ||    732     |   50.828   |     1      |   3e-10    ||\n",
      "||   2022-09-23_14h12m02s    |     16/100      |  815/1024  ||    732     |   50.828   |     1      |   3e-10    ||\n",
      "||   2022-09-23_14h12m24s    |     17/100      |  830/1024  ||    732     |   50.828   |     1      |   3e-10    ||\n",
      "||   2022-09-23_14h12m24s    |     19/100      |  861/1024  ||    732     |   50.828   |     1      |   3e-10    ||\n",
      "||   2022-09-23_14h12m25s    |     19/100      |  861/1024  ||    732     |   50.828   |     1      |   3e-10    ||\n",
      "||   2022-09-23_14h12m25s    |     21/100      |  880/1024  ||    732     |   50.828   |     1      |   3e-10    ||\n",
      "||   2022-09-23_14h12m25s    |     21/100      |  893/1024  ||    732     |   50.828   |     1      |   3e-10    ||\n",
      "||   2022-09-23_14h12m25s    |     23/100      |  918/1024  ||    732     |   50.828   |     1      |   3e-10    ||\n",
      "||   2022-09-23_14h12m25s    |     25/100      |  941/1024  ||    732     |   50.837   |     2      |  1.9e-10   ||\n",
      "||   2022-09-23_14h12m25s    |     26/100      |  949/1024  ||    732     |   50.837   |     2      |  1.9e-10   ||\n",
      "||   2022-09-23_14h12m25s    |     28/100      |  960/1024  ||    732     |   50.837   |     2      |  1.9e-10   ||\n",
      "||   2022-09-23_14h12m26s    |     29/100      |  971/1024  ||    732     |   50.837   |     2      |  1.9e-10   ||\n",
      "||   2022-09-23_14h12m26s    |     30/100      |  976/1024  ||    732     |   50.837   |     2      |  1.9e-10   ||\n",
      "||   2022-09-23_14h12m26s    |     31/100      |  985/1024  ||    732     |   50.837   |     2      |  1.9e-10   ||\n",
      "||   2022-09-23_14h12m26s    |     32/100      |  989/1024  ||    732     |   50.837   |     2      |  1.9e-10   ||\n",
      "||   2022-09-23_14h12m47s    |     33/100      |  990/1024  ||    732     |   50.837   |     2      |  1.9e-10   ||\n",
      "||   2022-09-23_14h12m48s    |     34/100      |  994/1024  ||    732     |   50.837   |     2      |  1.9e-10   ||\n",
      "||   2022-09-23_14h12m48s    |     35/100      |  996/1024  ||    732     |   50.837   |     2      |  1.9e-10   ||\n",
      "||   2022-09-23_14h12m48s    |     36/100      |  999/1024  ||    732     |   50.831   |     3      |  2.6e-10   ||\n",
      "||   2022-09-23_14h12m48s    |     37/100      | 1001/1024  ||    732     |   50.831   |     3      |  2.6e-10   ||\n",
      "||   2022-09-23_14h12m48s    |     38/100      | 1006/1024  ||    732     |   50.831   |     3      |  2.6e-10   ||\n",
      "||   2022-09-23_14h12m49s    |     39/100      | 1011/1024  ||    732     |   50.831   |     3      |  2.6e-10   ||\n",
      "||   2022-09-23_14h12m49s    |     41/100      | 1013/1024  ||    732     |   50.831   |     3      |  2.6e-10   ||\n",
      "||   2022-09-23_14h12m49s    |     42/100      | 1019/1024  ||    732     |   50.831   |     3      |  2.6e-10   ||\n",
      "||   2022-09-23_14h12m49s    |     43/100      | 1019/1024  ||    732     |   50.831   |     3      |  2.6e-10   ||\n",
      "||   2022-09-23_14h12m49s    |     45/100      | 1020/1024  ||    732     |   50.831   |     3      |  2.6e-10   ||\n",
      "||   2022-09-23_14h12m49s    |     45/100      | 1020/1024  ||    732     |   50.854   |     4      |   8e-11    ||\n",
      "||   2022-09-23_14h12m49s    |     46/100      | 1020/1024  ||    732     |   50.854   |     4      |   8e-11    ||\n",
      "p-value is below limit ==> stop analysis.\n",
      "||   2022-09-23_14h12m49s    |     47/100      | 1022/1024  ||    732     |   50.854   |     4      |   8e-11    ||\n",
      "\u001b[0m"
     ]
    }
   ],
   "source": [
    "#============ run the analysis ============\n",
    "!python -m nnbits.run --savepath '{savepath}'"
   ]
  },
  {
   "cell_type": "markdown",
   "id": "ae1b8a34",
   "metadata": {
    "pycharm": {
     "name": "#%% md\n"
    }
   },
   "source": [
    "# Analyze the results "
   ]
  },
  {
   "cell_type": "code",
   "execution_count": 15,
   "id": "f950a646",
   "metadata": {
    "ExecuteTime": {
     "end_time": "2022-06-05T11:46:21.276151Z",
     "start_time": "2022-06-05T11:46:21.273778Z"
    },
    "execution": {
     "iopub.execute_input": "2022-09-23T10:04:52.726155Z",
     "iopub.status.busy": "2022-09-23T10:04:52.725927Z",
     "iopub.status.idle": "2022-09-23T10:04:52.728469Z",
     "shell.execute_reply": "2022-09-23T10:04:52.728086Z",
     "shell.execute_reply.started": "2022-09-23T10:04:52.726139Z"
    },
    "pycharm": {
     "name": "#%%\n"
    },
    "tags": []
   },
   "outputs": [],
   "source": [
    "import numpy as np\n",
    "\n",
    "# the file-manager is a simple module which knows under which path to search for e.g. the test_accuracies:\n",
    "from nnbits.filemanager import FileManager\n",
    "# given a file-manager, the get_X function loads all the test_accuracies from the analysis above into a single array:\n",
    "from nnbits.bitanalysis import get_X"
   ]
  },
  {
   "cell_type": "code",
   "execution_count": 22,
   "id": "d07a1b8e",
   "metadata": {
    "ExecuteTime": {
     "end_time": "2022-06-05T11:46:23.829223Z",
     "start_time": "2022-06-05T11:46:23.825672Z"
    },
    "execution": {
     "iopub.execute_input": "2022-09-23T10:08:17.020868Z",
     "iopub.status.busy": "2022-09-23T10:08:17.020753Z",
     "iopub.status.idle": "2022-09-23T10:08:17.048824Z",
     "shell.execute_reply": "2022-09-23T10:08:17.048464Z",
     "shell.execute_reply.started": "2022-09-23T10:08:17.020854Z"
    },
    "pycharm": {
     "name": "#%%\n"
    },
    "tags": []
   },
   "outputs": [
    {
     "data": {
      "text/plain": [
       "(100, 1024)"
      ]
     },
     "execution_count": 22,
     "metadata": {},
     "output_type": "execute_result"
    }
   ],
   "source": [
    "F = FileManager('demo_speck32_roundid6') \n",
    "X = get_X(F)\n",
    "# X contains one row for each of the `N` neural network and one column for each of the `n` bits:\n",
    "X.shape"
   ]
  },
  {
   "cell_type": "code",
   "execution_count": 23,
   "id": "9752828e",
   "metadata": {
    "ExecuteTime": {
     "end_time": "2022-06-05T11:46:28.087305Z",
     "start_time": "2022-06-05T11:46:28.084237Z"
    },
    "execution": {
     "iopub.execute_input": "2022-09-23T10:08:17.049459Z",
     "iopub.status.busy": "2022-09-23T10:08:17.049357Z",
     "iopub.status.idle": "2022-09-23T10:08:17.052565Z",
     "shell.execute_reply": "2022-09-23T10:08:17.052253Z",
     "shell.execute_reply.started": "2022-09-23T10:08:17.049446Z"
    },
    "pycharm": {
     "name": "#%%\n"
    },
    "tags": []
   },
   "outputs": [],
   "source": [
    "# the bit accuracies are calculated by taking the mean over all neural networks which predict the particular bit \n",
    "# (axis=0):\n",
    "# (the following three lines catch a runtime warning if a mean-calculation is empty. This happens if not all bits have been analyzed yet.)\n",
    "import warnings\n",
    "with warnings.catch_warnings():\n",
    "    warnings.simplefilter(\"ignore\", category=RuntimeWarning)\n",
    "    bit_accuracies = np.nanmean(X, axis=0)"
   ]
  },
  {
   "cell_type": "code",
   "execution_count": 24,
   "id": "15063129",
   "metadata": {
    "ExecuteTime": {
     "end_time": "2022-06-05T11:46:28.612142Z",
     "start_time": "2022-06-05T11:46:28.448131Z"
    },
    "execution": {
     "iopub.execute_input": "2022-09-23T10:08:17.053385Z",
     "iopub.status.busy": "2022-09-23T10:08:17.053287Z",
     "iopub.status.idle": "2022-09-23T10:08:17.172241Z",
     "shell.execute_reply": "2022-09-23T10:08:17.171845Z",
     "shell.execute_reply.started": "2022-09-23T10:08:17.053372Z"
    },
    "pycharm": {
     "name": "#%%\n"
    },
    "tags": []
   },
   "outputs": [
    {
     "data": {
      "text/html": [
       "<div>\n",
       "<style scoped>\n",
       "    .dataframe tbody tr th:only-of-type {\n",
       "        vertical-align: middle;\n",
       "    }\n",
       "\n",
       "    .dataframe tbody tr th {\n",
       "        vertical-align: top;\n",
       "    }\n",
       "\n",
       "    .dataframe thead th {\n",
       "        text-align: right;\n",
       "    }\n",
       "</style>\n",
       "<table border=\"1\" class=\"dataframe\">\n",
       "  <thead>\n",
       "    <tr style=\"text-align: right;\">\n",
       "      <th></th>\n",
       "      <th>bit</th>\n",
       "      <th>mean accuracy</th>\n",
       "    </tr>\n",
       "  </thead>\n",
       "  <tbody>\n",
       "    <tr>\n",
       "      <th>716</th>\n",
       "      <td>716</td>\n",
       "      <td>0.506620</td>\n",
       "    </tr>\n",
       "    <tr>\n",
       "      <th>732</th>\n",
       "      <td>732</td>\n",
       "      <td>0.505840</td>\n",
       "    </tr>\n",
       "    <tr>\n",
       "      <th>640</th>\n",
       "      <td>640</td>\n",
       "      <td>0.501772</td>\n",
       "    </tr>\n",
       "    <tr>\n",
       "      <th>685</th>\n",
       "      <td>685</td>\n",
       "      <td>0.501752</td>\n",
       "    </tr>\n",
       "    <tr>\n",
       "      <th>947</th>\n",
       "      <td>947</td>\n",
       "      <td>0.501689</td>\n",
       "    </tr>\n",
       "    <tr>\n",
       "      <th>...</th>\n",
       "      <td>...</td>\n",
       "      <td>...</td>\n",
       "    </tr>\n",
       "    <tr>\n",
       "      <th>157</th>\n",
       "      <td>157</td>\n",
       "      <td>0.498280</td>\n",
       "    </tr>\n",
       "    <tr>\n",
       "      <th>197</th>\n",
       "      <td>197</td>\n",
       "      <td>0.498236</td>\n",
       "    </tr>\n",
       "    <tr>\n",
       "      <th>819</th>\n",
       "      <td>819</td>\n",
       "      <td>0.498215</td>\n",
       "    </tr>\n",
       "    <tr>\n",
       "      <th>764</th>\n",
       "      <td>764</td>\n",
       "      <td>0.498094</td>\n",
       "    </tr>\n",
       "    <tr>\n",
       "      <th>481</th>\n",
       "      <td>481</td>\n",
       "      <td>0.497697</td>\n",
       "    </tr>\n",
       "  </tbody>\n",
       "</table>\n",
       "<p>1024 rows × 2 columns</p>\n",
       "</div>"
      ],
      "text/plain": [
       "     bit  mean accuracy\n",
       "716  716       0.506620\n",
       "732  732       0.505840\n",
       "640  640       0.501772\n",
       "685  685       0.501752\n",
       "947  947       0.501689\n",
       "..   ...            ...\n",
       "157  157       0.498280\n",
       "197  197       0.498236\n",
       "819  819       0.498215\n",
       "764  764       0.498094\n",
       "481  481       0.497697\n",
       "\n",
       "[1024 rows x 2 columns]"
      ]
     },
     "execution_count": 24,
     "metadata": {},
     "output_type": "execute_result"
    }
   ],
   "source": [
    "import pandas as pd\n",
    "df = pd.DataFrame({'bit': np.arange(1024), \n",
    "                   'mean accuracy': bit_accuracies})\n",
    "\n",
    "df.sort_values('mean accuracy', ascending=False)"
   ]
  },
  {
   "cell_type": "markdown",
   "id": "3c2bac81-bf6b-4c0f-b268-3c3498fa69cb",
   "metadata": {},
   "source": [
    "# Visualize the Results "
   ]
  },
  {
   "cell_type": "code",
   "execution_count": 25,
   "id": "e0605515",
   "metadata": {
    "ExecuteTime": {
     "end_time": "2022-06-05T11:46:33.835747Z",
     "start_time": "2022-06-05T11:46:33.457403Z"
    },
    "execution": {
     "iopub.execute_input": "2022-09-23T10:08:17.173011Z",
     "iopub.status.busy": "2022-09-23T10:08:17.172885Z",
     "iopub.status.idle": "2022-09-23T10:08:17.561511Z",
     "shell.execute_reply": "2022-09-23T10:08:17.561128Z",
     "shell.execute_reply.started": "2022-09-23T10:08:17.172994Z"
    },
    "pycharm": {
     "name": "#%%\n"
    },
    "tags": []
   },
   "outputs": [
    {
     "data": {
      "text/plain": [
       "Text(0, 0.5, 'validation accuracy')"
      ]
     },
     "execution_count": 25,
     "metadata": {},
     "output_type": "execute_result"
    },
    {
     "data": {
      "image/png": "[encoded data removed]",
      "text/plain": [
       "<Figure size 1500x450 with 1 Axes>"
      ]
     },
     "metadata": {
      "needs_background": "light"
     },
     "output_type": "display_data"
    }
   ],
   "source": [
    "import matplotlib.pyplot as plt\n",
    "\n",
    "# here we visualize the obtained `bit_accuracies`:\n",
    "plt.figure(figsize=(10, 3), dpi=150)\n",
    "plt.plot(bit_accuracies, 'o', markersize=3, linestyle = 'None', label=\"mean validation accuracy of each bit\")\n",
    "# find bit with maximum accuracy\n",
    "dfm = df[df['mean accuracy'] == max(df['mean accuracy'])]\n",
    "plt.plot(dfm['bit'], dfm['mean accuracy'], marker='x', c='C0', linestyle = 'None', label=f\"best bit {int(dfm['bit'])} with {float(dfm['mean accuracy'])*100:.1f}% accuracy\")\n",
    "\n",
    "plt.legend(loc='upper left')\n",
    "plt.xlabel('bit id')\n",
    "plt.ylabel('validation accuracy')"
   ]
  },
  {
   "cell_type": "code",
   "execution_count": null,
   "id": "fdb3da1d",
   "metadata": {
    "pycharm": {
     "name": "#%%\n"
    }
   },
   "outputs": [],
   "source": []
  }
 ],
 "metadata": {
  "kernelspec": {
   "display_name": "Python 3 (ipykernel)",
   "language": "python",
   "name": "python3"
  },
  "language_info": {
   "codemirror_mode": {
    "name": "ipython",
    "version": 3
   },
   "file_extension": ".py",
   "mimetype": "text/x-python",
   "name": "python",
   "nbconvert_exporter": "python",
   "pygments_lexer": "ipython3",
   "version": "3.8.12"
  },
  "latex_envs": {
   "LaTeX_envs_menu_present": true,
   "autoclose": false,
   "autocomplete": true,
   "bibliofile": "biblio.bib",
   "cite_by": "apalike",
   "current_citInitial": 1,
   "eqLabelWithNumbers": true,
   "eqNumInitial": 1,
   "hotkeys": {
    "equation": "Ctrl-E",
    "itemize": "Ctrl-I"
   },
   "labels_anchors": false,
   "latex_user_defs": false,
   "report_style_numbering": false,
   "user_envs_cfg": false
  },
  "toc": {
   "base_numbering": 1,
   "nav_menu": {},
   "number_sections": true,
   "sideBar": true,
   "skip_h1_title": false,
   "title_cell": "Table of Contents",
   "title_sidebar": "Contents",
   "toc_cell": true,
   "toc_position": {},
   "toc_section_display": true,
   "toc_window_display": true
  },
  "varInspector": {
   "cols": {
    "lenName": 16,
    "lenType": 16,
    "lenVar": 40
   },
   "kernels_config": {
    "python": {
     "delete_cmd_postfix": "",
     "delete_cmd_prefix": "del ",
     "library": "var_list.py",
     "varRefreshCmd": "print(var_dic_list())"
    },
    "r": {
     "delete_cmd_postfix": ") ",
     "delete_cmd_prefix": "rm(",
     "library": "var_list.r",
     "varRefreshCmd": "cat(var_dic_list()) "
    }
   },
   "types_to_exclude": [
    "module",
    "function",
    "builtin_function_or_method",
    "instance",
    "_Feature"
   ],
   "window_display": false
  }
 },
 "nbformat": 4,
 "nbformat_minor": 5
}
